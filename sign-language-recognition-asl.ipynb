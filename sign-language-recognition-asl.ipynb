{
 "cells": [
  {
   "cell_type": "markdown",
   "id": "6a4793a4",
   "metadata": {
    "_cell_guid": "e2d90454-08ac-4b83-aa04-e9f7a97cda04",
    "_uuid": "77ba92b0-7095-47aa-bbce-694970972d3b",
    "papermill": {
     "duration": 0.012004,
     "end_time": "2023-03-03T21:03:35.672515",
     "exception": false,
     "start_time": "2023-03-03T21:03:35.660511",
     "status": "completed"
    },
    "tags": []
   },
   "source": [
    "# Sign Language Recognition\n",
    "\n",
    "## OBJECTIVE\n",
    "\"is to help identify signs made in processed videos, which will support the development of mobile apps to help teach parents sign language so they can communicate with their Deaf children.\""
   ]
  },
  {
   "cell_type": "code",
   "execution_count": 1,
   "id": "51afacf3",
   "metadata": {
    "_cell_guid": "64bf512b-9d2a-46d5-a040-0a143efba6e9",
    "_uuid": "74d238cd-5841-479f-b957-496571f2f61d",
    "collapsed": false,
    "execution": {
     "iopub.execute_input": "2023-03-03T21:03:35.696337Z",
     "iopub.status.busy": "2023-03-03T21:03:35.695857Z",
     "iopub.status.idle": "2023-03-03T21:03:37.058530Z",
     "shell.execute_reply": "2023-03-03T21:03:37.057255Z"
    },
    "jupyter": {
     "outputs_hidden": false
    },
    "papermill": {
     "duration": 1.378717,
     "end_time": "2023-03-03T21:03:37.061600",
     "exception": false,
     "start_time": "2023-03-03T21:03:35.682883",
     "status": "completed"
    },
    "tags": []
   },
   "outputs": [],
   "source": [
    "import numpy as np # linear algebra\n",
    "import pandas as pd # data processing, CSV file I/O (e.g. pd.read_csv)\n",
    "import matplotlib.pyplot as plt\n",
    "import seaborn as sns\n",
    "from tqdm.notebook import tqdm\n",
    "plt.style.use('seaborn-colorblind')\n",
    "# Input data files are available in the read-only \"../input/\" directory\n",
    "# For example, running this (by clicking run or pressing Shift+Enter) will list all files under the input directory|"
   ]
  },
  {
   "cell_type": "code",
   "execution_count": 2,
   "id": "471ea083",
   "metadata": {
    "_cell_guid": "b6631404-2634-4892-8596-cb56a567ecaf",
    "_uuid": "68d70c56-4313-4806-9cbb-9b1bdc8ec4d7",
    "collapsed": false,
    "execution": {
     "iopub.execute_input": "2023-03-03T21:03:37.083828Z",
     "iopub.status.busy": "2023-03-03T21:03:37.082763Z",
     "iopub.status.idle": "2023-03-03T21:03:53.227997Z",
     "shell.execute_reply": "2023-03-03T21:03:53.226271Z"
    },
    "jupyter": {
     "outputs_hidden": false
    },
    "papermill": {
     "duration": 16.159684,
     "end_time": "2023-03-03T21:03:53.231161",
     "exception": false,
     "start_time": "2023-03-03T21:03:37.071477",
     "status": "completed"
    },
    "tags": []
   },
   "outputs": [
    {
     "name": "stdout",
     "output_type": "stream",
     "text": [
      "\u001b[33mWARNING: Running pip as the 'root' user can result in broken permissions and conflicting behaviour with the system package manager. It is recommended to use a virtual environment instead: https://pip.pypa.io/warnings/venv\u001b[0m\u001b[33m\r\n",
      "\u001b[0m"
     ]
    },
    {
     "data": {
      "application/javascript": [
       "\n",
       "            setTimeout(function() {\n",
       "                var nbb_cell_id = 2;\n",
       "                var nbb_unformatted_code = \"!pip install nb_black --quiet\\n%load_ext nb_black\";\n",
       "                var nbb_formatted_code = \"!pip install nb_black --quiet\\n%load_ext nb_black\";\n",
       "                var nbb_cells = Jupyter.notebook.get_cells();\n",
       "                for (var i = 0; i < nbb_cells.length; ++i) {\n",
       "                    if (nbb_cells[i].input_prompt_number == nbb_cell_id) {\n",
       "                        if (nbb_cells[i].get_text() == nbb_unformatted_code) {\n",
       "                             nbb_cells[i].set_text(nbb_formatted_code);\n",
       "                        }\n",
       "                        break;\n",
       "                    }\n",
       "                }\n",
       "            }, 500);\n",
       "            "
      ],
      "text/plain": [
       "<IPython.core.display.Javascript object>"
      ]
     },
     "metadata": {},
     "output_type": "display_data"
    }
   ],
   "source": [
    "!pip install nb_black --quiet\n",
    "%load_ext nb_black"
   ]
  },
  {
   "cell_type": "markdown",
   "id": "a6178013",
   "metadata": {
    "_cell_guid": "c5786f6a-bed6-485e-b25b-e47f9dbd1b49",
    "_uuid": "232a62db-6136-432d-96ff-bc6c4f4846fd",
    "papermill": {
     "duration": 0.011272,
     "end_time": "2023-03-03T21:03:53.252737",
     "exception": false,
     "start_time": "2023-03-03T21:03:53.241465",
     "status": "completed"
    },
    "tags": []
   },
   "source": [
    "## DATA EDA\n",
    "The landmark data. The landmarks were extracted from raw videos with the MediaPipe holistic model."
   ]
  },
  {
   "cell_type": "code",
   "execution_count": 3,
   "id": "838279a5",
   "metadata": {
    "_cell_guid": "923d4644-61c1-47a1-94cc-1bafda7e59e8",
    "_uuid": "d3056d3c-23fd-484f-9dfa-236ddc5a5636",
    "collapsed": false,
    "execution": {
     "iopub.execute_input": "2023-03-03T21:03:53.275812Z",
     "iopub.status.busy": "2023-03-03T21:03:53.275066Z",
     "iopub.status.idle": "2023-03-03T21:03:54.387321Z",
     "shell.execute_reply": "2023-03-03T21:03:54.385577Z"
    },
    "jupyter": {
     "outputs_hidden": false
    },
    "papermill": {
     "duration": 1.127251,
     "end_time": "2023-03-03T21:03:54.390122",
     "exception": false,
     "start_time": "2023-03-03T21:03:53.262871",
     "status": "completed"
    },
    "tags": []
   },
   "outputs": [
    {
     "name": "stdout",
     "output_type": "stream",
     "text": [
      "total 6.2M\r\n",
      "   0 drwxr-xr-x  3 nobody    0 Feb 18 17:19 \u001b[0m\u001b[01;34m.\u001b[0m/\r\n",
      "4.0K drwxr-xr-x  3 root   4.0K Mar  3 21:03 \u001b[01;34m..\u001b[0m/\r\n",
      "4.0K -rw-r--r--  1 nobody 3.3K Feb 18 17:19 sign_to_prediction_index_map.json\r\n",
      "6.2M -rw-r--r--  1 nobody 6.2M Feb 18 17:19 train.csv\r\n",
      "   0 drwxr-xr-x 23 nobody    0 Feb 18 17:25 \u001b[01;34mtrain_landmark_files\u001b[0m/\r\n"
     ]
    },
    {
     "data": {
      "application/javascript": [
       "\n",
       "            setTimeout(function() {\n",
       "                var nbb_cell_id = 3;\n",
       "                var nbb_unformatted_code = \"!ls '../input/asl-signs/' -GFlash --color\";\n",
       "                var nbb_formatted_code = \"!ls '../input/asl-signs/' -GFlash --color\";\n",
       "                var nbb_cells = Jupyter.notebook.get_cells();\n",
       "                for (var i = 0; i < nbb_cells.length; ++i) {\n",
       "                    if (nbb_cells[i].input_prompt_number == nbb_cell_id) {\n",
       "                        if (nbb_cells[i].get_text() == nbb_unformatted_code) {\n",
       "                             nbb_cells[i].set_text(nbb_formatted_code);\n",
       "                        }\n",
       "                        break;\n",
       "                    }\n",
       "                }\n",
       "            }, 500);\n",
       "            "
      ],
      "text/plain": [
       "<IPython.core.display.Javascript object>"
      ]
     },
     "metadata": {},
     "output_type": "display_data"
    }
   ],
   "source": [
    "!ls '../input/asl-signs/' -GFlash --color"
   ]
  },
  {
   "cell_type": "code",
   "execution_count": 4,
   "id": "1a6a0c3b",
   "metadata": {
    "_cell_guid": "95941f4d-5d5d-4a88-8988-df4b28776a8c",
    "_uuid": "d5dad3fe-2ed4-4994-85dc-464bbf4755c1",
    "collapsed": false,
    "execution": {
     "iopub.execute_input": "2023-03-03T21:03:54.413530Z",
     "iopub.status.busy": "2023-03-03T21:03:54.413005Z",
     "iopub.status.idle": "2023-03-03T21:03:54.680332Z",
     "shell.execute_reply": "2023-03-03T21:03:54.678860Z"
    },
    "jupyter": {
     "outputs_hidden": false
    },
    "papermill": {
     "duration": 0.283033,
     "end_time": "2023-03-03T21:03:54.683428",
     "exception": false,
     "start_time": "2023-03-03T21:03:54.400395",
     "status": "completed"
    },
    "tags": []
   },
   "outputs": [
    {
     "data": {
      "text/html": [
       "<div>\n",
       "<style scoped>\n",
       "    .dataframe tbody tr th:only-of-type {\n",
       "        vertical-align: middle;\n",
       "    }\n",
       "\n",
       "    .dataframe tbody tr th {\n",
       "        vertical-align: top;\n",
       "    }\n",
       "\n",
       "    .dataframe thead th {\n",
       "        text-align: right;\n",
       "    }\n",
       "</style>\n",
       "<table border=\"1\" class=\"dataframe\">\n",
       "  <thead>\n",
       "    <tr style=\"text-align: right;\">\n",
       "      <th></th>\n",
       "      <th>path</th>\n",
       "      <th>participant_id</th>\n",
       "      <th>sequence_id</th>\n",
       "      <th>sign</th>\n",
       "    </tr>\n",
       "  </thead>\n",
       "  <tbody>\n",
       "    <tr>\n",
       "      <th>0</th>\n",
       "      <td>train_landmark_files/26734/1000035562.parquet</td>\n",
       "      <td>26734</td>\n",
       "      <td>1000035562</td>\n",
       "      <td>blow</td>\n",
       "    </tr>\n",
       "    <tr>\n",
       "      <th>1</th>\n",
       "      <td>train_landmark_files/28656/1000106739.parquet</td>\n",
       "      <td>28656</td>\n",
       "      <td>1000106739</td>\n",
       "      <td>wait</td>\n",
       "    </tr>\n",
       "    <tr>\n",
       "      <th>2</th>\n",
       "      <td>train_landmark_files/16069/100015657.parquet</td>\n",
       "      <td>16069</td>\n",
       "      <td>100015657</td>\n",
       "      <td>cloud</td>\n",
       "    </tr>\n",
       "    <tr>\n",
       "      <th>3</th>\n",
       "      <td>train_landmark_files/25571/1000210073.parquet</td>\n",
       "      <td>25571</td>\n",
       "      <td>1000210073</td>\n",
       "      <td>bird</td>\n",
       "    </tr>\n",
       "    <tr>\n",
       "      <th>4</th>\n",
       "      <td>train_landmark_files/62590/1000240708.parquet</td>\n",
       "      <td>62590</td>\n",
       "      <td>1000240708</td>\n",
       "      <td>owie</td>\n",
       "    </tr>\n",
       "  </tbody>\n",
       "</table>\n",
       "</div>"
      ],
      "text/plain": [
       "                                            path  participant_id  sequence_id  \\\n",
       "0  train_landmark_files/26734/1000035562.parquet           26734   1000035562   \n",
       "1  train_landmark_files/28656/1000106739.parquet           28656   1000106739   \n",
       "2   train_landmark_files/16069/100015657.parquet           16069    100015657   \n",
       "3  train_landmark_files/25571/1000210073.parquet           25571   1000210073   \n",
       "4  train_landmark_files/62590/1000240708.parquet           62590   1000240708   \n",
       "\n",
       "    sign  \n",
       "0   blow  \n",
       "1   wait  \n",
       "2  cloud  \n",
       "3   bird  \n",
       "4   owie  "
      ]
     },
     "execution_count": 4,
     "metadata": {},
     "output_type": "execute_result"
    },
    {
     "data": {
      "application/javascript": [
       "\n",
       "            setTimeout(function() {\n",
       "                var nbb_cell_id = 4;\n",
       "                var nbb_unformatted_code = \"BASE_DIR = '../input/asl-signs'\\ntrain = pd.read_csv(f'{BASE_DIR}/train.csv')\\n'''Train.csv has the path to each parquet file, the participant id, sequence id and sign'''\\ntrain.head()\";\n",
       "                var nbb_formatted_code = \"BASE_DIR = \\\"../input/asl-signs\\\"\\ntrain = pd.read_csv(f\\\"{BASE_DIR}/train.csv\\\")\\n\\\"\\\"\\\"Train.csv has the path to each parquet file, the participant id, sequence id and sign\\\"\\\"\\\"\\ntrain.head()\";\n",
       "                var nbb_cells = Jupyter.notebook.get_cells();\n",
       "                for (var i = 0; i < nbb_cells.length; ++i) {\n",
       "                    if (nbb_cells[i].input_prompt_number == nbb_cell_id) {\n",
       "                        if (nbb_cells[i].get_text() == nbb_unformatted_code) {\n",
       "                             nbb_cells[i].set_text(nbb_formatted_code);\n",
       "                        }\n",
       "                        break;\n",
       "                    }\n",
       "                }\n",
       "            }, 500);\n",
       "            "
      ],
      "text/plain": [
       "<IPython.core.display.Javascript object>"
      ]
     },
     "metadata": {},
     "output_type": "display_data"
    }
   ],
   "source": [
    "BASE_DIR = '../input/asl-signs'\n",
    "train = pd.read_csv(f'{BASE_DIR}/train.csv')\n",
    "'''Train.csv has the path to each parquet file, the participant id, sequence id and sign'''\n",
    "train.head()"
   ]
  },
  {
   "cell_type": "code",
   "execution_count": 5,
   "id": "6822bc53",
   "metadata": {
    "_cell_guid": "4b8a9d46-33a5-42c7-ae5e-f6d2db2296f2",
    "_uuid": "e210feba-0049-4f1d-8815-0aebeda9dfd9",
    "collapsed": false,
    "execution": {
     "iopub.execute_input": "2023-03-03T21:03:54.707563Z",
     "iopub.status.busy": "2023-03-03T21:03:54.707090Z",
     "iopub.status.idle": "2023-03-03T21:03:54.719311Z",
     "shell.execute_reply": "2023-03-03T21:03:54.717992Z"
    },
    "jupyter": {
     "outputs_hidden": false
    },
    "papermill": {
     "duration": 0.027331,
     "end_time": "2023-03-03T21:03:54.721785",
     "exception": false,
     "start_time": "2023-03-03T21:03:54.694454",
     "status": "completed"
    },
    "tags": []
   },
   "outputs": [
    {
     "data": {
      "text/plain": [
       "'What signs are we trying to predict.'"
      ]
     },
     "execution_count": 5,
     "metadata": {},
     "output_type": "execute_result"
    },
    {
     "data": {
      "application/javascript": [
       "\n",
       "            setTimeout(function() {\n",
       "                var nbb_cell_id = 5;\n",
       "                var nbb_unformatted_code = \"'''What signs are we trying to predict.'''\";\n",
       "                var nbb_formatted_code = \"\\\"\\\"\\\"What signs are we trying to predict.\\\"\\\"\\\"\";\n",
       "                var nbb_cells = Jupyter.notebook.get_cells();\n",
       "                for (var i = 0; i < nbb_cells.length; ++i) {\n",
       "                    if (nbb_cells[i].input_prompt_number == nbb_cell_id) {\n",
       "                        if (nbb_cells[i].get_text() == nbb_unformatted_code) {\n",
       "                             nbb_cells[i].set_text(nbb_formatted_code);\n",
       "                        }\n",
       "                        break;\n",
       "                    }\n",
       "                }\n",
       "            }, 500);\n",
       "            "
      ],
      "text/plain": [
       "<IPython.core.display.Javascript object>"
      ]
     },
     "metadata": {},
     "output_type": "display_data"
    }
   ],
   "source": [
    "'''What signs are we trying to predict.'''"
   ]
  },
  {
   "cell_type": "code",
   "execution_count": 6,
   "id": "9adcbc67",
   "metadata": {
    "_cell_guid": "2f53f7d5-5272-4cbc-8133-5d7be0d4a005",
    "_uuid": "3fef0290-2af8-45a7-a133-f2395d0624f9",
    "collapsed": false,
    "execution": {
     "iopub.execute_input": "2023-03-03T21:03:54.746086Z",
     "iopub.status.busy": "2023-03-03T21:03:54.745563Z",
     "iopub.status.idle": "2023-03-03T21:03:54.773890Z",
     "shell.execute_reply": "2023-03-03T21:03:54.772384Z"
    },
    "jupyter": {
     "outputs_hidden": false
    },
    "papermill": {
     "duration": 0.043725,
     "end_time": "2023-03-03T21:03:54.776898",
     "exception": false,
     "start_time": "2023-03-03T21:03:54.733173",
     "status": "completed"
    },
    "tags": []
   },
   "outputs": [
    {
     "data": {
      "text/plain": [
       "250"
      ]
     },
     "execution_count": 6,
     "metadata": {},
     "output_type": "execute_result"
    },
    {
     "data": {
      "application/javascript": [
       "\n",
       "            setTimeout(function() {\n",
       "                var nbb_cell_id = 6;\n",
       "                var nbb_unformatted_code = \"train['sign'].nunique()\";\n",
       "                var nbb_formatted_code = \"train[\\\"sign\\\"].nunique()\";\n",
       "                var nbb_cells = Jupyter.notebook.get_cells();\n",
       "                for (var i = 0; i < nbb_cells.length; ++i) {\n",
       "                    if (nbb_cells[i].input_prompt_number == nbb_cell_id) {\n",
       "                        if (nbb_cells[i].get_text() == nbb_unformatted_code) {\n",
       "                             nbb_cells[i].set_text(nbb_formatted_code);\n",
       "                        }\n",
       "                        break;\n",
       "                    }\n",
       "                }\n",
       "            }, 500);\n",
       "            "
      ],
      "text/plain": [
       "<IPython.core.display.Javascript object>"
      ]
     },
     "metadata": {},
     "output_type": "display_data"
    }
   ],
   "source": [
    "train['sign'].nunique()"
   ]
  },
  {
   "cell_type": "code",
   "execution_count": 7,
   "id": "89cdd8a2",
   "metadata": {
    "_cell_guid": "af202103-92fd-4bfa-a57b-3bfba4684eda",
    "_uuid": "3532f042-82d7-40e2-bdfa-8a70207a2902",
    "collapsed": false,
    "execution": {
     "iopub.execute_input": "2023-03-03T21:03:54.804378Z",
     "iopub.status.busy": "2023-03-03T21:03:54.803264Z",
     "iopub.status.idle": "2023-03-03T21:03:54.823973Z",
     "shell.execute_reply": "2023-03-03T21:03:54.823019Z"
    },
    "jupyter": {
     "outputs_hidden": false
    },
    "papermill": {
     "duration": 0.038489,
     "end_time": "2023-03-03T21:03:54.826508",
     "exception": false,
     "start_time": "2023-03-03T21:03:54.788019",
     "status": "completed"
    },
    "tags": []
   },
   "outputs": [
    {
     "data": {
      "text/plain": [
       "listen        415\n",
       "look          414\n",
       "shhh          411\n",
       "donkey        410\n",
       "mouse         408\n",
       "duck          405\n",
       "hear          405\n",
       "uncle         405\n",
       "pretend       404\n",
       "bird          404\n",
       "cow           404\n",
       "sleepy        403\n",
       "brown         403\n",
       "who           403\n",
       "bye           402\n",
       "nuts          402\n",
       "fireman       402\n",
       "lips          402\n",
       "toothbrush    402\n",
       "wake          401\n",
       "Name: sign, dtype: int64"
      ]
     },
     "execution_count": 7,
     "metadata": {},
     "output_type": "execute_result"
    },
    {
     "data": {
      "application/javascript": [
       "\n",
       "            setTimeout(function() {\n",
       "                var nbb_cell_id = 7;\n",
       "                var nbb_unformatted_code = \"train['sign'].value_counts().head(20)\";\n",
       "                var nbb_formatted_code = \"train[\\\"sign\\\"].value_counts().head(20)\";\n",
       "                var nbb_cells = Jupyter.notebook.get_cells();\n",
       "                for (var i = 0; i < nbb_cells.length; ++i) {\n",
       "                    if (nbb_cells[i].input_prompt_number == nbb_cell_id) {\n",
       "                        if (nbb_cells[i].get_text() == nbb_unformatted_code) {\n",
       "                             nbb_cells[i].set_text(nbb_formatted_code);\n",
       "                        }\n",
       "                        break;\n",
       "                    }\n",
       "                }\n",
       "            }, 500);\n",
       "            "
      ],
      "text/plain": [
       "<IPython.core.display.Javascript object>"
      ]
     },
     "metadata": {},
     "output_type": "display_data"
    }
   ],
   "source": [
    "train['sign'].value_counts().head(20)"
   ]
  },
  {
   "cell_type": "code",
   "execution_count": 8,
   "id": "73b51f14",
   "metadata": {
    "_cell_guid": "d6c1ccde-c319-4870-b552-4555f227f4ef",
    "_uuid": "29f35705-fd4a-4072-97ba-4c2eadb86f7c",
    "collapsed": false,
    "execution": {
     "iopub.execute_input": "2023-03-03T21:03:54.862322Z",
     "iopub.status.busy": "2023-03-03T21:03:54.859634Z",
     "iopub.status.idle": "2023-03-03T21:03:55.313899Z",
     "shell.execute_reply": "2023-03-03T21:03:55.312428Z"
    },
    "jupyter": {
     "outputs_hidden": false
    },
    "papermill": {
     "duration": 0.47846,
     "end_time": "2023-03-03T21:03:55.316904",
     "exception": false,
     "start_time": "2023-03-03T21:03:54.838444",
     "status": "completed"
    },
    "tags": []
   },
   "outputs": [
    {
     "data": {
      "image/png": "[encoded data removed]",
      "text/plain": [
       "<Figure size 800x800 with 1 Axes>"
      ]
     },
     "metadata": {},
     "output_type": "display_data"
    },
    {
     "data": {
      "application/javascript": [
       "\n",
       "            setTimeout(function() {\n",
       "                var nbb_cell_id = 8;\n",
       "                var nbb_unformatted_code = \"fig, ax = plt.subplots(figsize=(8,8))\\ntrain['sign'].value_counts().head(20).sort_values(ascending= True) \\\\\\n.plot(kind='barh', ax =ax, title='Top 20 signs in training datasets')\\n\\nax.set_xlabel('Number of training examples')\\nplt.show()\";\n",
       "                var nbb_formatted_code = \"fig, ax = plt.subplots(figsize=(8, 8))\\ntrain[\\\"sign\\\"].value_counts().head(20).sort_values(ascending=True).plot(\\n    kind=\\\"barh\\\", ax=ax, title=\\\"Top 20 signs in training datasets\\\"\\n)\\n\\nax.set_xlabel(\\\"Number of training examples\\\")\\nplt.show()\";\n",
       "                var nbb_cells = Jupyter.notebook.get_cells();\n",
       "                for (var i = 0; i < nbb_cells.length; ++i) {\n",
       "                    if (nbb_cells[i].input_prompt_number == nbb_cell_id) {\n",
       "                        if (nbb_cells[i].get_text() == nbb_unformatted_code) {\n",
       "                             nbb_cells[i].set_text(nbb_formatted_code);\n",
       "                        }\n",
       "                        break;\n",
       "                    }\n",
       "                }\n",
       "            }, 500);\n",
       "            "
      ],
      "text/plain": [
       "<IPython.core.display.Javascript object>"
      ]
     },
     "metadata": {},
     "output_type": "display_data"
    }
   ],
   "source": [
    "fig, ax = plt.subplots(figsize=(8,8))\n",
    "train['sign'].value_counts().head(20).sort_values(ascending= True) \\\n",
    ".plot(kind='barh', ax =ax, title='Top 20 signs in training datasets')\n",
    "\n",
    "ax.set_xlabel('Number of training examples')\n",
    "plt.show()"
   ]
  },
  {
   "cell_type": "code",
   "execution_count": 9,
   "id": "b4b23f6f",
   "metadata": {
    "_cell_guid": "8bfd8d65-2cec-4c4e-808a-af04dd467fad",
    "_uuid": "b4da7ca0-c6a8-42db-b39f-237e30e96b47",
    "collapsed": false,
    "execution": {
     "iopub.execute_input": "2023-03-03T21:03:55.343843Z",
     "iopub.status.busy": "2023-03-03T21:03:55.343271Z",
     "iopub.status.idle": "2023-03-03T21:03:55.691835Z",
     "shell.execute_reply": "2023-03-03T21:03:55.690203Z"
    },
    "jupyter": {
     "outputs_hidden": false
    },
    "papermill": {
     "duration": 0.366025,
     "end_time": "2023-03-03T21:03:55.695297",
     "exception": false,
     "start_time": "2023-03-03T21:03:55.329272",
     "status": "completed"
    },
    "tags": []
   },
   "outputs": [
    {
     "data": {
      "image/png": "[encoded data removed]",
      "text/plain": [
       "<Figure size 800x800 with 1 Axes>"
      ]
     },
     "metadata": {},
     "output_type": "display_data"
    },
    {
     "data": {
      "application/javascript": [
       "\n",
       "            setTimeout(function() {\n",
       "                var nbb_cell_id = 9;\n",
       "                var nbb_unformatted_code = \"fig, ax = plt.subplots(figsize=(8,8))\\ntrain['sign'].value_counts().tail(20).sort_values(ascending = False) \\\\\\n                                                  .plot(kind='barh', ax=ax, title = 'Top 20 bottom sign in training datasets')\\nax.set_xlabel('Number of training examples')\\nplt.show()\";\n",
       "                var nbb_formatted_code = \"fig, ax = plt.subplots(figsize=(8, 8))\\ntrain[\\\"sign\\\"].value_counts().tail(20).sort_values(ascending=False).plot(\\n    kind=\\\"barh\\\", ax=ax, title=\\\"Top 20 bottom sign in training datasets\\\"\\n)\\nax.set_xlabel(\\\"Number of training examples\\\")\\nplt.show()\";\n",
       "                var nbb_cells = Jupyter.notebook.get_cells();\n",
       "                for (var i = 0; i < nbb_cells.length; ++i) {\n",
       "                    if (nbb_cells[i].input_prompt_number == nbb_cell_id) {\n",
       "                        if (nbb_cells[i].get_text() == nbb_unformatted_code) {\n",
       "                             nbb_cells[i].set_text(nbb_formatted_code);\n",
       "                        }\n",
       "                        break;\n",
       "                    }\n",
       "                }\n",
       "            }, 500);\n",
       "            "
      ],
      "text/plain": [
       "<IPython.core.display.Javascript object>"
      ]
     },
     "metadata": {},
     "output_type": "display_data"
    }
   ],
   "source": [
    "fig, ax = plt.subplots(figsize=(8,8))\n",
    "train['sign'].value_counts().tail(20).sort_values(ascending = False) \\\n",
    "                                                  .plot(kind='barh', ax=ax, title = 'Top 20 bottom sign in training datasets')\n",
    "ax.set_xlabel('Number of training examples')\n",
    "plt.show()"
   ]
  },
  {
   "cell_type": "markdown",
   "id": "c7434e67",
   "metadata": {
    "_cell_guid": "e96582ed-a5b2-4eb3-8d11-0af3a4835307",
    "_uuid": "fd3bd7eb-d31a-4652-9762-872294c58004",
    "papermill": {
     "duration": 0.013166,
     "end_time": "2023-03-03T21:03:55.722309",
     "exception": false,
     "start_time": "2023-03-03T21:03:55.709143",
     "status": "completed"
    },
    "tags": []
   },
   "source": [
    "- Train.csv has 250 unique signs\n",
    "- Ranging from 299 to 415 signs"
   ]
  },
  {
   "cell_type": "markdown",
   "id": "bfdaaff3",
   "metadata": {
    "_cell_guid": "40b4e73b-81a5-4903-b264-485ab169ba2e",
    "_uuid": "6a0bf10b-3f7c-40e4-83db-0e43c3005a4b",
    "papermill": {
     "duration": 0.012683,
     "end_time": "2023-03-03T21:03:55.748909",
     "exception": false,
     "start_time": "2023-03-03T21:03:55.736226",
     "status": "completed"
    },
    "tags": []
   },
   "source": [
    "## Parquet landmark dataset\n",
    "\n",
    "- Each parquet file in the path:\n",
    "    - train_landmark_files/[participant_id]/[sequence_id].parquet\n",
    "    - The parquet's associated sign can be found in train.csv"
   ]
  },
  {
   "cell_type": "markdown",
   "id": "beae2025",
   "metadata": {
    "_cell_guid": "3dddff57-3435-4592-81a7-3381ed2cb83c",
    "_uuid": "54ddcbc9-c96a-4b9a-b193-1ee24f5a7064",
    "papermill": {
     "duration": 0.013081,
     "end_time": "2023-03-03T21:03:55.775437",
     "exception": false,
     "start_time": "2023-03-03T21:03:55.762356",
     "status": "completed"
    },
    "tags": []
   },
   "source": [
    "### Pull an example parquet data\n",
    "\n",
    "- We pull an example landmark file for the sign 'listen'"
   ]
  },
  {
   "cell_type": "code",
   "execution_count": 10,
   "id": "964e9220",
   "metadata": {
    "_cell_guid": "dd6849a6-33a6-41df-8902-246363da7995",
    "_uuid": "38422cf0-4ccb-41e0-9eda-cfb279cd3e35",
    "collapsed": false,
    "execution": {
     "iopub.execute_input": "2023-03-03T21:03:55.806312Z",
     "iopub.status.busy": "2023-03-03T21:03:55.805835Z",
     "iopub.status.idle": "2023-03-03T21:03:55.827829Z",
     "shell.execute_reply": "2023-03-03T21:03:55.826467Z"
    },
    "jupyter": {
     "outputs_hidden": false
    },
    "papermill": {
     "duration": 0.040776,
     "end_time": "2023-03-03T21:03:55.830788",
     "exception": false,
     "start_time": "2023-03-03T21:03:55.790012",
     "status": "completed"
    },
    "tags": []
   },
   "outputs": [
    {
     "data": {
      "text/plain": [
       "'train_landmark_files/37055/1011397240.parquet'"
      ]
     },
     "execution_count": 10,
     "metadata": {},
     "output_type": "execute_result"
    },
    {
     "data": {
      "application/javascript": [
       "\n",
       "            setTimeout(function() {\n",
       "                var nbb_cell_id = 10;\n",
       "                var nbb_unformatted_code = \"example_fn = train.query('sign == \\\"listen\\\"')['path'].values[0]\\nexample_fn\";\n",
       "                var nbb_formatted_code = \"example_fn = train.query('sign == \\\"listen\\\"')[\\\"path\\\"].values[0]\\nexample_fn\";\n",
       "                var nbb_cells = Jupyter.notebook.get_cells();\n",
       "                for (var i = 0; i < nbb_cells.length; ++i) {\n",
       "                    if (nbb_cells[i].input_prompt_number == nbb_cell_id) {\n",
       "                        if (nbb_cells[i].get_text() == nbb_unformatted_code) {\n",
       "                             nbb_cells[i].set_text(nbb_formatted_code);\n",
       "                        }\n",
       "                        break;\n",
       "                    }\n",
       "                }\n",
       "            }, 500);\n",
       "            "
      ],
      "text/plain": [
       "<IPython.core.display.Javascript object>"
      ]
     },
     "metadata": {},
     "output_type": "display_data"
    }
   ],
   "source": [
    "example_fn = train.query('sign == \"listen\"')['path'].values[0]\n",
    "example_fn"
   ]
  },
  {
   "cell_type": "code",
   "execution_count": 11,
   "id": "70399718",
   "metadata": {
    "_cell_guid": "cd3aca24-8844-4e05-bcc5-b8e3e2cba8b3",
    "_uuid": "e72a1404-1c68-4334-9635-046c28e558db",
    "collapsed": false,
    "execution": {
     "iopub.execute_input": "2023-03-03T21:03:55.860311Z",
     "iopub.status.busy": "2023-03-03T21:03:55.858978Z",
     "iopub.status.idle": "2023-03-03T21:03:56.045261Z",
     "shell.execute_reply": "2023-03-03T21:03:56.043247Z"
    },
    "jupyter": {
     "outputs_hidden": false
    },
    "papermill": {
     "duration": 0.204286,
     "end_time": "2023-03-03T21:03:56.048423",
     "exception": false,
     "start_time": "2023-03-03T21:03:55.844137",
     "status": "completed"
    },
    "tags": []
   },
   "outputs": [
    {
     "data": {
      "text/html": [
       "<div>\n",
       "<style scoped>\n",
       "    .dataframe tbody tr th:only-of-type {\n",
       "        vertical-align: middle;\n",
       "    }\n",
       "\n",
       "    .dataframe tbody tr th {\n",
       "        vertical-align: top;\n",
       "    }\n",
       "\n",
       "    .dataframe thead th {\n",
       "        text-align: right;\n",
       "    }\n",
       "</style>\n",
       "<table border=\"1\" class=\"dataframe\">\n",
       "  <thead>\n",
       "    <tr style=\"text-align: right;\">\n",
       "      <th></th>\n",
       "      <th>frame</th>\n",
       "      <th>row_id</th>\n",
       "      <th>type</th>\n",
       "      <th>landmark_index</th>\n",
       "      <th>x</th>\n",
       "      <th>y</th>\n",
       "      <th>z</th>\n",
       "    </tr>\n",
       "  </thead>\n",
       "  <tbody>\n",
       "    <tr>\n",
       "      <th>0</th>\n",
       "      <td>35</td>\n",
       "      <td>35-face-0</td>\n",
       "      <td>face</td>\n",
       "      <td>0</td>\n",
       "      <td>0.556969</td>\n",
       "      <td>0.431919</td>\n",
       "      <td>-0.039614</td>\n",
       "    </tr>\n",
       "    <tr>\n",
       "      <th>1</th>\n",
       "      <td>35</td>\n",
       "      <td>35-face-1</td>\n",
       "      <td>face</td>\n",
       "      <td>1</td>\n",
       "      <td>0.548688</td>\n",
       "      <td>0.394788</td>\n",
       "      <td>-0.077306</td>\n",
       "    </tr>\n",
       "    <tr>\n",
       "      <th>2</th>\n",
       "      <td>35</td>\n",
       "      <td>35-face-2</td>\n",
       "      <td>face</td>\n",
       "      <td>2</td>\n",
       "      <td>0.548806</td>\n",
       "      <td>0.405519</td>\n",
       "      <td>-0.040327</td>\n",
       "    </tr>\n",
       "    <tr>\n",
       "      <th>3</th>\n",
       "      <td>35</td>\n",
       "      <td>35-face-3</td>\n",
       "      <td>face</td>\n",
       "      <td>3</td>\n",
       "      <td>0.531849</td>\n",
       "      <td>0.356302</td>\n",
       "      <td>-0.058683</td>\n",
       "    </tr>\n",
       "    <tr>\n",
       "      <th>4</th>\n",
       "      <td>35</td>\n",
       "      <td>35-face-4</td>\n",
       "      <td>face</td>\n",
       "      <td>4</td>\n",
       "      <td>0.547539</td>\n",
       "      <td>0.382894</td>\n",
       "      <td>-0.082544</td>\n",
       "    </tr>\n",
       "    <tr>\n",
       "      <th>...</th>\n",
       "      <td>...</td>\n",
       "      <td>...</td>\n",
       "      <td>...</td>\n",
       "      <td>...</td>\n",
       "      <td>...</td>\n",
       "      <td>...</td>\n",
       "      <td>...</td>\n",
       "    </tr>\n",
       "    <tr>\n",
       "      <th>3253</th>\n",
       "      <td>40</td>\n",
       "      <td>40-right_hand-16</td>\n",
       "      <td>right_hand</td>\n",
       "      <td>16</td>\n",
       "      <td>0.177520</td>\n",
       "      <td>0.536142</td>\n",
       "      <td>-0.034433</td>\n",
       "    </tr>\n",
       "    <tr>\n",
       "      <th>3254</th>\n",
       "      <td>40</td>\n",
       "      <td>40-right_hand-17</td>\n",
       "      <td>right_hand</td>\n",
       "      <td>17</td>\n",
       "      <td>0.065610</td>\n",
       "      <td>0.493125</td>\n",
       "      <td>-0.047778</td>\n",
       "    </tr>\n",
       "    <tr>\n",
       "      <th>3255</th>\n",
       "      <td>40</td>\n",
       "      <td>40-right_hand-18</td>\n",
       "      <td>right_hand</td>\n",
       "      <td>18</td>\n",
       "      <td>0.096587</td>\n",
       "      <td>0.491917</td>\n",
       "      <td>-0.064403</td>\n",
       "    </tr>\n",
       "    <tr>\n",
       "      <th>3256</th>\n",
       "      <td>40</td>\n",
       "      <td>40-right_hand-19</td>\n",
       "      <td>right_hand</td>\n",
       "      <td>19</td>\n",
       "      <td>0.125879</td>\n",
       "      <td>0.520035</td>\n",
       "      <td>-0.051628</td>\n",
       "    </tr>\n",
       "    <tr>\n",
       "      <th>3257</th>\n",
       "      <td>40</td>\n",
       "      <td>40-right_hand-20</td>\n",
       "      <td>right_hand</td>\n",
       "      <td>20</td>\n",
       "      <td>0.135349</td>\n",
       "      <td>0.536520</td>\n",
       "      <td>-0.038497</td>\n",
       "    </tr>\n",
       "  </tbody>\n",
       "</table>\n",
       "<p>3258 rows × 7 columns</p>\n",
       "</div>"
      ],
      "text/plain": [
       "      frame            row_id        type  landmark_index         x         y  \\\n",
       "0        35         35-face-0        face               0  0.556969  0.431919   \n",
       "1        35         35-face-1        face               1  0.548688  0.394788   \n",
       "2        35         35-face-2        face               2  0.548806  0.405519   \n",
       "3        35         35-face-3        face               3  0.531849  0.356302   \n",
       "4        35         35-face-4        face               4  0.547539  0.382894   \n",
       "...     ...               ...         ...             ...       ...       ...   \n",
       "3253     40  40-right_hand-16  right_hand              16  0.177520  0.536142   \n",
       "3254     40  40-right_hand-17  right_hand              17  0.065610  0.493125   \n",
       "3255     40  40-right_hand-18  right_hand              18  0.096587  0.491917   \n",
       "3256     40  40-right_hand-19  right_hand              19  0.125879  0.520035   \n",
       "3257     40  40-right_hand-20  right_hand              20  0.135349  0.536520   \n",
       "\n",
       "             z  \n",
       "0    -0.039614  \n",
       "1    -0.077306  \n",
       "2    -0.040327  \n",
       "3    -0.058683  \n",
       "4    -0.082544  \n",
       "...        ...  \n",
       "3253 -0.034433  \n",
       "3254 -0.047778  \n",
       "3255 -0.064403  \n",
       "3256 -0.051628  \n",
       "3257 -0.038497  \n",
       "\n",
       "[3258 rows x 7 columns]"
      ]
     },
     "execution_count": 11,
     "metadata": {},
     "output_type": "execute_result"
    },
    {
     "data": {
      "application/javascript": [
       "\n",
       "            setTimeout(function() {\n",
       "                var nbb_cell_id = 11;\n",
       "                var nbb_unformatted_code = \"landmark_example = pd.read_parquet(f'{BASE_DIR}/{example_fn}')\\nlandmark_example\";\n",
       "                var nbb_formatted_code = \"landmark_example = pd.read_parquet(f\\\"{BASE_DIR}/{example_fn}\\\")\\nlandmark_example\";\n",
       "                var nbb_cells = Jupyter.notebook.get_cells();\n",
       "                for (var i = 0; i < nbb_cells.length; ++i) {\n",
       "                    if (nbb_cells[i].input_prompt_number == nbb_cell_id) {\n",
       "                        if (nbb_cells[i].get_text() == nbb_unformatted_code) {\n",
       "                             nbb_cells[i].set_text(nbb_formatted_code);\n",
       "                        }\n",
       "                        break;\n",
       "                    }\n",
       "                }\n",
       "            }, 500);\n",
       "            "
      ],
      "text/plain": [
       "<IPython.core.display.Javascript object>"
      ]
     },
     "metadata": {},
     "output_type": "display_data"
    }
   ],
   "source": [
    "landmark_example = pd.read_parquet(f'{BASE_DIR}/{example_fn}')\n",
    "landmark_example"
   ]
  },
  {
   "cell_type": "code",
   "execution_count": 12,
   "id": "84e7593a",
   "metadata": {
    "_cell_guid": "5203c712-aba0-4e39-9327-c016eab4dfca",
    "_uuid": "16a1ee0a-fe56-4ae5-a75f-06b79e16778a",
    "collapsed": false,
    "execution": {
     "iopub.execute_input": "2023-03-03T21:03:56.079809Z",
     "iopub.status.busy": "2023-03-03T21:03:56.078688Z",
     "iopub.status.idle": "2023-03-03T21:03:56.098424Z",
     "shell.execute_reply": "2023-03-03T21:03:56.096248Z"
    },
    "jupyter": {
     "outputs_hidden": false
    },
    "papermill": {
     "duration": 0.038771,
     "end_time": "2023-03-03T21:03:56.101492",
     "exception": false,
     "start_time": "2023-03-03T21:03:56.062721",
     "status": "completed"
    },
    "tags": []
   },
   "outputs": [
    {
     "name": "stdout",
     "output_type": "stream",
     "text": [
      "The file has 6 unique frames, 4 unique types and types are ['face' 'left_hand' 'pose' 'right_hand']\n"
     ]
    },
    {
     "data": {
      "application/javascript": [
       "\n",
       "            setTimeout(function() {\n",
       "                var nbb_cell_id = 12;\n",
       "                var nbb_unformatted_code = \"unique_frames = landmark_example['frame'].nunique()\\nunique_types = landmark_example['type'].nunique()\\ntypes_in_video = landmark_example['type'].unique()\\nprint(f\\\"The file has {unique_frames} unique frames, {unique_types} unique types and types are {types_in_video}\\\")\";\n",
       "                var nbb_formatted_code = \"unique_frames = landmark_example[\\\"frame\\\"].nunique()\\nunique_types = landmark_example[\\\"type\\\"].nunique()\\ntypes_in_video = landmark_example[\\\"type\\\"].unique()\\nprint(\\n    f\\\"The file has {unique_frames} unique frames, {unique_types} unique types and types are {types_in_video}\\\"\\n)\";\n",
       "                var nbb_cells = Jupyter.notebook.get_cells();\n",
       "                for (var i = 0; i < nbb_cells.length; ++i) {\n",
       "                    if (nbb_cells[i].input_prompt_number == nbb_cell_id) {\n",
       "                        if (nbb_cells[i].get_text() == nbb_unformatted_code) {\n",
       "                             nbb_cells[i].set_text(nbb_formatted_code);\n",
       "                        }\n",
       "                        break;\n",
       "                    }\n",
       "                }\n",
       "            }, 500);\n",
       "            "
      ],
      "text/plain": [
       "<IPython.core.display.Javascript object>"
      ]
     },
     "metadata": {},
     "output_type": "display_data"
    }
   ],
   "source": [
    "unique_frames = landmark_example['frame'].nunique()\n",
    "unique_types = landmark_example['type'].nunique()\n",
    "types_in_video = landmark_example['type'].unique()\n",
    "print(f\"The file has {unique_frames} unique frames, {unique_types} unique types and types are {types_in_video}\")"
   ]
  },
  {
   "cell_type": "code",
   "execution_count": 13,
   "id": "75fd148e",
   "metadata": {
    "_cell_guid": "6b197432-a9c1-4b67-b03c-b3e8fd7687ef",
    "_uuid": "19f8dea8-11ec-4fc9-91d9-a611d5a8a852",
    "collapsed": false,
    "execution": {
     "iopub.execute_input": "2023-03-03T21:03:56.131831Z",
     "iopub.status.busy": "2023-03-03T21:03:56.131355Z",
     "iopub.status.idle": "2023-03-03T21:03:56.152495Z",
     "shell.execute_reply": "2023-03-03T21:03:56.150953Z"
    },
    "jupyter": {
     "outputs_hidden": false
    },
    "papermill": {
     "duration": 0.039942,
     "end_time": "2023-03-03T21:03:56.155686",
     "exception": false,
     "start_time": "2023-03-03T21:03:56.115744",
     "status": "completed"
    },
    "tags": []
   },
   "outputs": [
    {
     "data": {
      "text/plain": [
       "415"
      ]
     },
     "execution_count": 13,
     "metadata": {},
     "output_type": "execute_result"
    },
    {
     "data": {
      "application/javascript": [
       "\n",
       "            setTimeout(function() {\n",
       "                var nbb_cell_id = 13;\n",
       "                var nbb_unformatted_code = \"listen_files = train.query('sign == \\\"listen\\\"')['path'].values\\nlen(listen_files)\";\n",
       "                var nbb_formatted_code = \"listen_files = train.query('sign == \\\"listen\\\"')[\\\"path\\\"].values\\nlen(listen_files)\";\n",
       "                var nbb_cells = Jupyter.notebook.get_cells();\n",
       "                for (var i = 0; i < nbb_cells.length; ++i) {\n",
       "                    if (nbb_cells[i].input_prompt_number == nbb_cell_id) {\n",
       "                        if (nbb_cells[i].get_text() == nbb_unformatted_code) {\n",
       "                             nbb_cells[i].set_text(nbb_formatted_code);\n",
       "                        }\n",
       "                        break;\n",
       "                    }\n",
       "                }\n",
       "            }, 500);\n",
       "            "
      ],
      "text/plain": [
       "<IPython.core.display.Javascript object>"
      ]
     },
     "metadata": {},
     "output_type": "display_data"
    }
   ],
   "source": [
    "listen_files = train.query('sign == \"listen\"')['path'].values\n",
    "len(listen_files)"
   ]
  },
  {
   "cell_type": "markdown",
   "id": "d54b26ff",
   "metadata": {
    "papermill": {
     "duration": 0.013996,
     "end_time": "2023-03-03T21:03:56.184690",
     "exception": false,
     "start_time": "2023-03-03T21:03:56.170694",
     "status": "completed"
    },
    "tags": []
   },
   "source": [
    "### Comparing parquet files, what type of data we have\n",
    "\n",
    "- Frames on each record is not consistent.\n",
    "- Every file has 4 types of landmarks: face, left_hand, right_hand, pose."
   ]
  },
  {
   "cell_type": "code",
   "execution_count": 14,
   "id": "9dfba1da",
   "metadata": {
    "_cell_guid": "f73ac204-85de-43bd-9856-30a49c552a25",
    "_uuid": "c515bdd8-d458-4e54-b3c0-6c1f4d93ff0c",
    "collapsed": false,
    "execution": {
     "iopub.execute_input": "2023-03-03T21:03:56.215158Z",
     "iopub.status.busy": "2023-03-03T21:03:56.214684Z",
     "iopub.status.idle": "2023-03-03T21:03:56.919397Z",
     "shell.execute_reply": "2023-03-03T21:03:56.917443Z"
    },
    "jupyter": {
     "outputs_hidden": false
    },
    "papermill": {
     "duration": 0.723347,
     "end_time": "2023-03-03T21:03:56.922325",
     "exception": false,
     "start_time": "2023-03-03T21:03:56.198978",
     "status": "completed"
    },
    "tags": []
   },
   "outputs": [
    {
     "name": "stdout",
     "output_type": "stream",
     "text": [
      "The listen landmark file 0 has \n",
      "unique frames : 6, \n",
      "unique types :  4 ,\n",
      "types: ['face' 'left_hand' 'pose' 'right_hand']\n",
      "The listen landmark file 1 has \n",
      "unique frames : 23, \n",
      "unique types :  4 ,\n",
      "types: ['face' 'left_hand' 'pose' 'right_hand']\n",
      "The listen landmark file 2 has \n",
      "unique frames : 28, \n",
      "unique types :  4 ,\n",
      "types: ['face' 'left_hand' 'pose' 'right_hand']\n",
      "The listen landmark file 3 has \n",
      "unique frames : 68, \n",
      "unique types :  4 ,\n",
      "types: ['face' 'left_hand' 'pose' 'right_hand']\n",
      "The listen landmark file 4 has \n",
      "unique frames : 6, \n",
      "unique types :  4 ,\n",
      "types: ['face' 'left_hand' 'pose' 'right_hand']\n",
      "The listen landmark file 5 has \n",
      "unique frames : 16, \n",
      "unique types :  4 ,\n",
      "types: ['face' 'left_hand' 'pose' 'right_hand']\n",
      "The listen landmark file 6 has \n",
      "unique frames : 6, \n",
      "unique types :  4 ,\n",
      "types: ['face' 'left_hand' 'pose' 'right_hand']\n",
      "The listen landmark file 7 has \n",
      "unique frames : 6, \n",
      "unique types :  4 ,\n",
      "types: ['face' 'left_hand' 'pose' 'right_hand']\n",
      "The listen landmark file 8 has \n",
      "unique frames : 8, \n",
      "unique types :  4 ,\n",
      "types: ['face' 'left_hand' 'pose' 'right_hand']\n",
      "The listen landmark file 9 has \n",
      "unique frames : 33, \n",
      "unique types :  4 ,\n",
      "types: ['face' 'left_hand' 'pose' 'right_hand']\n",
      "The listen landmark file 10 has \n",
      "unique frames : 13, \n",
      "unique types :  4 ,\n",
      "types: ['face' 'left_hand' 'pose' 'right_hand']\n",
      "The listen landmark file 11 has \n",
      "unique frames : 23, \n",
      "unique types :  4 ,\n",
      "types: ['face' 'left_hand' 'pose' 'right_hand']\n",
      "The listen landmark file 12 has \n",
      "unique frames : 191, \n",
      "unique types :  4 ,\n",
      "types: ['face' 'left_hand' 'pose' 'right_hand']\n",
      "The listen landmark file 13 has \n",
      "unique frames : 64, \n",
      "unique types :  4 ,\n",
      "types: ['face' 'left_hand' 'pose' 'right_hand']\n",
      "The listen landmark file 14 has \n",
      "unique frames : 32, \n",
      "unique types :  4 ,\n",
      "types: ['face' 'left_hand' 'pose' 'right_hand']\n",
      "The listen landmark file 15 has \n",
      "unique frames : 24, \n",
      "unique types :  4 ,\n",
      "types: ['face' 'left_hand' 'pose' 'right_hand']\n",
      "The listen landmark file 16 has \n",
      "unique frames : 77, \n",
      "unique types :  4 ,\n",
      "types: ['face' 'left_hand' 'pose' 'right_hand']\n",
      "The listen landmark file 17 has \n",
      "unique frames : 60, \n",
      "unique types :  4 ,\n",
      "types: ['face' 'left_hand' 'pose' 'right_hand']\n",
      "The listen landmark file 18 has \n",
      "unique frames : 23, \n",
      "unique types :  4 ,\n",
      "types: ['face' 'left_hand' 'pose' 'right_hand']\n",
      "The listen landmark file 19 has \n",
      "unique frames : 20, \n",
      "unique types :  4 ,\n",
      "types: ['face' 'left_hand' 'pose' 'right_hand']\n",
      "The listen landmark file 20 has \n",
      "unique frames : 15, \n",
      "unique types :  4 ,\n",
      "types: ['face' 'left_hand' 'pose' 'right_hand']\n"
     ]
    },
    {
     "data": {
      "application/javascript": [
       "\n",
       "            setTimeout(function() {\n",
       "                var nbb_cell_id = 14;\n",
       "                var nbb_unformatted_code = \"for index ,listen in enumerate(listen_files):\\n    landmark_listen = pd.read_parquet(f\\\"{BASE_DIR}/{listen}\\\")\\n    unique_frames = landmark_listen['frame'].nunique()\\n    unique_types = landmark_listen['type'].nunique()\\n    types_in_video = landmark_listen['type'].unique()\\n    print(\\n        f'The listen landmark file {index} has \\\\nunique frames : {unique_frames}, \\\\nunique types :  {unique_types} ,\\\\ntypes: {types_in_video}'\\n    )\\n    if index == 20:\\n        break\";\n",
       "                var nbb_formatted_code = \"for index, listen in enumerate(listen_files):\\n    landmark_listen = pd.read_parquet(f\\\"{BASE_DIR}/{listen}\\\")\\n    unique_frames = landmark_listen[\\\"frame\\\"].nunique()\\n    unique_types = landmark_listen[\\\"type\\\"].nunique()\\n    types_in_video = landmark_listen[\\\"type\\\"].unique()\\n    print(\\n        f\\\"The listen landmark file {index} has \\\\nunique frames : {unique_frames}, \\\\nunique types :  {unique_types} ,\\\\ntypes: {types_in_video}\\\"\\n    )\\n    if index == 20:\\n        break\";\n",
       "                var nbb_cells = Jupyter.notebook.get_cells();\n",
       "                for (var i = 0; i < nbb_cells.length; ++i) {\n",
       "                    if (nbb_cells[i].input_prompt_number == nbb_cell_id) {\n",
       "                        if (nbb_cells[i].get_text() == nbb_unformatted_code) {\n",
       "                             nbb_cells[i].set_text(nbb_formatted_code);\n",
       "                        }\n",
       "                        break;\n",
       "                    }\n",
       "                }\n",
       "            }, 500);\n",
       "            "
      ],
      "text/plain": [
       "<IPython.core.display.Javascript object>"
      ]
     },
     "metadata": {},
     "output_type": "display_data"
    }
   ],
   "source": [
    "for index ,listen in enumerate(listen_files):\n",
    "    landmark_listen = pd.read_parquet(f\"{BASE_DIR}/{listen}\")\n",
    "    unique_frames = landmark_listen['frame'].nunique()\n",
    "    unique_types = landmark_listen['type'].nunique()\n",
    "    types_in_video = landmark_listen['type'].unique()\n",
    "    print(\n",
    "        f'The listen landmark file {index} has \\nunique frames : {unique_frames}, \\nunique types :  {unique_types} ,\\ntypes: {types_in_video}'\n",
    "    )\n",
    "    if index == 20:\n",
    "        break"
   ]
  },
  {
   "cell_type": "markdown",
   "id": "05654546",
   "metadata": {
    "papermill": {
     "duration": 0.017645,
     "end_time": "2023-03-03T21:03:56.955036",
     "exception": false,
     "start_time": "2023-03-03T21:03:56.937391",
     "status": "completed"
    },
    "tags": []
   },
   "source": [
    "## Create metadata on training dataset"
   ]
  },
  {
   "cell_type": "code",
   "execution_count": 15,
   "id": "c81ab5e7",
   "metadata": {
    "_cell_guid": "9a0c6fbd-639b-419d-8252-2c903af90e81",
    "_uuid": "8287abf5-7ecb-4470-baea-f0281671f9cf",
    "collapsed": false,
    "execution": {
     "iopub.execute_input": "2023-03-03T21:03:56.989299Z",
     "iopub.status.busy": "2023-03-03T21:03:56.988841Z",
     "iopub.status.idle": "2023-03-03T21:04:35.057030Z",
     "shell.execute_reply": "2023-03-03T21:04:35.055572Z"
    },
    "jupyter": {
     "outputs_hidden": false
    },
    "papermill": {
     "duration": 38.089041,
     "end_time": "2023-03-03T21:04:35.060174",
     "exception": false,
     "start_time": "2023-03-03T21:03:56.971133",
     "status": "completed"
    },
    "tags": []
   },
   "outputs": [
    {
     "data": {
      "application/vnd.jupyter.widget-view+json": {
       "model_id": "0359189222324643aafab591c43760c4",
       "version_major": 2,
       "version_minor": 0
      },
      "text/plain": [
       "  0%|          | 0/94477 [00:00<?, ?it/s]"
      ]
     },
     "metadata": {},
     "output_type": "display_data"
    },
    {
     "data": {
      "application/javascript": [
       "\n",
       "            setTimeout(function() {\n",
       "                var nbb_cell_id = 15;\n",
       "                var nbb_unformatted_code = \"N_PARQUETS_TO_READ = 1_000  # We don't need to load all 95K\\ncombined_meta = {}\\nfor index, d in tqdm(train.iterrows(), total=len(train)):\\n    file_path = d['path']\\n    landmark_read = pd.read_parquet(f\\\"{BASE_DIR}/{file_path}\\\")\\n    # Get the number of landmarks with x, y, z data per type\\n    meta = landmark_read.dropna(subset = ['x','y','z'])['type'].value_counts().to_dict()\\n    meta['frame'] = landmark_read['frame'].nunique() ##number of frames in a file\\n    xyz_meta = (\\n    landmark_read.agg(\\n        {\\n            'x':['min', 'max', 'mean'],\\n            'y':['min', 'max', 'mean'],\\n            'z':['min', 'max', 'mean']\\n        }\\n    )\\n    .unstack()\\n    .to_dict()\\n    )\\n\\n    for key in xyz_meta.keys():\\n        new_keys = key[0] + '_' + key[1]\\n        meta[new_keys] = xyz_meta[key]\\n    combined_meta[file_path] = meta\\n    if index >= N_PARQUETS_TO_READ:\\n        break\";\n",
       "                var nbb_formatted_code = \"N_PARQUETS_TO_READ = 1_000  # We don't need to load all 95K\\ncombined_meta = {}\\nfor index, d in tqdm(train.iterrows(), total=len(train)):\\n    file_path = d[\\\"path\\\"]\\n    landmark_read = pd.read_parquet(f\\\"{BASE_DIR}/{file_path}\\\")\\n    # Get the number of landmarks with x, y, z data per type\\n    meta = landmark_read.dropna(subset=[\\\"x\\\", \\\"y\\\", \\\"z\\\"])[\\\"type\\\"].value_counts().to_dict()\\n    meta[\\\"frame\\\"] = landmark_read[\\\"frame\\\"].nunique()  ##number of frames in a file\\n    xyz_meta = (\\n        landmark_read.agg(\\n            {\\n                \\\"x\\\": [\\\"min\\\", \\\"max\\\", \\\"mean\\\"],\\n                \\\"y\\\": [\\\"min\\\", \\\"max\\\", \\\"mean\\\"],\\n                \\\"z\\\": [\\\"min\\\", \\\"max\\\", \\\"mean\\\"],\\n            }\\n        )\\n        .unstack()\\n        .to_dict()\\n    )\\n\\n    for key in xyz_meta.keys():\\n        new_keys = key[0] + \\\"_\\\" + key[1]\\n        meta[new_keys] = xyz_meta[key]\\n    combined_meta[file_path] = meta\\n    if index >= N_PARQUETS_TO_READ:\\n        break\";\n",
       "                var nbb_cells = Jupyter.notebook.get_cells();\n",
       "                for (var i = 0; i < nbb_cells.length; ++i) {\n",
       "                    if (nbb_cells[i].input_prompt_number == nbb_cell_id) {\n",
       "                        if (nbb_cells[i].get_text() == nbb_unformatted_code) {\n",
       "                             nbb_cells[i].set_text(nbb_formatted_code);\n",
       "                        }\n",
       "                        break;\n",
       "                    }\n",
       "                }\n",
       "            }, 500);\n",
       "            "
      ],
      "text/plain": [
       "<IPython.core.display.Javascript object>"
      ]
     },
     "metadata": {},
     "output_type": "display_data"
    }
   ],
   "source": [
    "N_PARQUETS_TO_READ = 1_000  # We don't need to load all 95K\n",
    "combined_meta = {}\n",
    "for index, d in tqdm(train.iterrows(), total=len(train)):\n",
    "    file_path = d['path']\n",
    "    landmark_read = pd.read_parquet(f\"{BASE_DIR}/{file_path}\")\n",
    "    # Get the number of landmarks with x, y, z data per type\n",
    "    meta = landmark_read.dropna(subset = ['x','y','z'])['type'].value_counts().to_dict()\n",
    "    meta['frame'] = landmark_read['frame'].nunique() ##number of frames in a file\n",
    "    xyz_meta = (\n",
    "    landmark_read.agg(\n",
    "        {\n",
    "            'x':['min', 'max', 'mean'],\n",
    "            'y':['min', 'max', 'mean'],\n",
    "            'z':['min', 'max', 'mean']\n",
    "        }\n",
    "    )\n",
    "    .unstack()\n",
    "    .to_dict()\n",
    "    )\n",
    "\n",
    "    for key in xyz_meta.keys():\n",
    "        new_keys = key[0] + '_' + key[1]\n",
    "        meta[new_keys] = xyz_meta[key]\n",
    "    combined_meta[file_path] = meta\n",
    "    if index >= N_PARQUETS_TO_READ:\n",
    "        break"
   ]
  },
  {
   "cell_type": "code",
   "execution_count": 16,
   "id": "ea5dc781",
   "metadata": {
    "execution": {
     "iopub.execute_input": "2023-03-03T21:04:35.093808Z",
     "iopub.status.busy": "2023-03-03T21:04:35.093239Z",
     "iopub.status.idle": "2023-03-03T21:04:35.105588Z",
     "shell.execute_reply": "2023-03-03T21:04:35.103827Z"
    },
    "papermill": {
     "duration": 0.033014,
     "end_time": "2023-03-03T21:04:35.108322",
     "exception": false,
     "start_time": "2023-03-03T21:04:35.075308",
     "status": "completed"
    },
    "tags": []
   },
   "outputs": [
    {
     "data": {
      "text/plain": [
       "{'face': 15444,\n",
       " 'pose': 1089,\n",
       " 'left_hand': 357,\n",
       " 'frame': 33,\n",
       " 'x_min': -0.13577386736869812,\n",
       " 'x_max': 0.9888350963592529,\n",
       " 'x_mean': 0.4650228190092454,\n",
       " 'y_min': 0.132933109998703,\n",
       " 'y_max': 2.1390116214752197,\n",
       " 'y_mean': 0.33457921685870406,\n",
       " 'z_min': -1.7977821826934814,\n",
       " 'z_max': 1.1312501430511475,\n",
       " 'z_mean': -0.034399142299794426}"
      ]
     },
     "execution_count": 16,
     "metadata": {},
     "output_type": "execute_result"
    },
    {
     "data": {
      "application/javascript": [
       "\n",
       "            setTimeout(function() {\n",
       "                var nbb_cell_id = 16;\n",
       "                var nbb_unformatted_code = \"meta\";\n",
       "                var nbb_formatted_code = \"meta\";\n",
       "                var nbb_cells = Jupyter.notebook.get_cells();\n",
       "                for (var i = 0; i < nbb_cells.length; ++i) {\n",
       "                    if (nbb_cells[i].input_prompt_number == nbb_cell_id) {\n",
       "                        if (nbb_cells[i].get_text() == nbb_unformatted_code) {\n",
       "                             nbb_cells[i].set_text(nbb_formatted_code);\n",
       "                        }\n",
       "                        break;\n",
       "                    }\n",
       "                }\n",
       "            }, 500);\n",
       "            "
      ],
      "text/plain": [
       "<IPython.core.display.Javascript object>"
      ]
     },
     "metadata": {},
     "output_type": "display_data"
    }
   ],
   "source": [
    "meta"
   ]
  },
  {
   "cell_type": "code",
   "execution_count": 17,
   "id": "6f7ab358",
   "metadata": {
    "execution": {
     "iopub.execute_input": "2023-03-03T21:04:35.142371Z",
     "iopub.status.busy": "2023-03-03T21:04:35.141899Z",
     "iopub.status.idle": "2023-03-03T21:04:35.269558Z",
     "shell.execute_reply": "2023-03-03T21:04:35.268243Z"
    },
    "papermill": {
     "duration": 0.147624,
     "end_time": "2023-03-03T21:04:35.272382",
     "exception": false,
     "start_time": "2023-03-03T21:04:35.124758",
     "status": "completed"
    },
    "tags": []
   },
   "outputs": [
    {
     "data": {
      "application/javascript": [
       "\n",
       "            setTimeout(function() {\n",
       "                var nbb_cell_id = 17;\n",
       "                var nbb_unformatted_code = \"train_with_meta = train.merge(\\n    pd.DataFrame(combined_meta).T.reset_index().rename(columns={'index':'path'}),\\n    how='left'\\n)\";\n",
       "                var nbb_formatted_code = \"train_with_meta = train.merge(\\n    pd.DataFrame(combined_meta).T.reset_index().rename(columns={\\\"index\\\": \\\"path\\\"}),\\n    how=\\\"left\\\",\\n)\";\n",
       "                var nbb_cells = Jupyter.notebook.get_cells();\n",
       "                for (var i = 0; i < nbb_cells.length; ++i) {\n",
       "                    if (nbb_cells[i].input_prompt_number == nbb_cell_id) {\n",
       "                        if (nbb_cells[i].get_text() == nbb_unformatted_code) {\n",
       "                             nbb_cells[i].set_text(nbb_formatted_code);\n",
       "                        }\n",
       "                        break;\n",
       "                    }\n",
       "                }\n",
       "            }, 500);\n",
       "            "
      ],
      "text/plain": [
       "<IPython.core.display.Javascript object>"
      ]
     },
     "metadata": {},
     "output_type": "display_data"
    }
   ],
   "source": [
    "train_with_meta = train.merge(\n",
    "    pd.DataFrame(combined_meta).T.reset_index().rename(columns={'index':'path'}),\n",
    "    how='left'\n",
    ")"
   ]
  },
  {
   "cell_type": "markdown",
   "id": "eaea71e7",
   "metadata": {
    "papermill": {
     "duration": 0.01504,
     "end_time": "2023-03-03T21:04:35.303112",
     "exception": false,
     "start_time": "2023-03-03T21:04:35.288072",
     "status": "completed"
    },
    "tags": []
   },
   "source": [
    "## What are the most frequent types of landmarks provided"
   ]
  },
  {
   "cell_type": "code",
   "execution_count": 18,
   "id": "40c99351",
   "metadata": {
    "execution": {
     "iopub.execute_input": "2023-03-03T21:04:35.337656Z",
     "iopub.status.busy": "2023-03-03T21:04:35.337212Z",
     "iopub.status.idle": "2023-03-03T21:04:35.571668Z",
     "shell.execute_reply": "2023-03-03T21:04:35.570727Z"
    },
    "papermill": {
     "duration": 0.255565,
     "end_time": "2023-03-03T21:04:35.574016",
     "exception": false,
     "start_time": "2023-03-03T21:04:35.318451",
     "status": "completed"
    },
    "tags": []
   },
   "outputs": [
    {
     "data": {
      "image/png": "[encoded data removed]",
      "text/plain": [
       "<Figure size 640x480 with 1 Axes>"
      ]
     },
     "metadata": {},
     "output_type": "display_data"
    },
    {
     "data": {
      "application/javascript": [
       "\n",
       "            setTimeout(function() {\n",
       "                var nbb_cell_id = 18;\n",
       "                var nbb_unformatted_code = \"train_with_meta[['face', 'pose', 'right_hand', 'left_hand']]\\\\\\n.sum()\\\\\\n.sort_values(ascending= True)\\\\\\n.plot(kind='barh', title = 'Sum of rows by landmark types')\\nplt.show()\";\n",
       "                var nbb_formatted_code = \"train_with_meta[[\\\"face\\\", \\\"pose\\\", \\\"right_hand\\\", \\\"left_hand\\\"]].sum().sort_values(\\n    ascending=True\\n).plot(kind=\\\"barh\\\", title=\\\"Sum of rows by landmark types\\\")\\nplt.show()\";\n",
       "                var nbb_cells = Jupyter.notebook.get_cells();\n",
       "                for (var i = 0; i < nbb_cells.length; ++i) {\n",
       "                    if (nbb_cells[i].input_prompt_number == nbb_cell_id) {\n",
       "                        if (nbb_cells[i].get_text() == nbb_unformatted_code) {\n",
       "                             nbb_cells[i].set_text(nbb_formatted_code);\n",
       "                        }\n",
       "                        break;\n",
       "                    }\n",
       "                }\n",
       "            }, 500);\n",
       "            "
      ],
      "text/plain": [
       "<IPython.core.display.Javascript object>"
      ]
     },
     "metadata": {},
     "output_type": "display_data"
    }
   ],
   "source": [
    "train_with_meta[['face', 'pose', 'right_hand', 'left_hand']]\\\n",
    ".sum()\\\n",
    ".sort_values(ascending= True)\\\n",
    ".plot(kind='barh', title = 'Sum of rows by landmark types')\n",
    "plt.show()"
   ]
  },
  {
   "cell_type": "markdown",
   "id": "acd5714b",
   "metadata": {
    "papermill": {
     "duration": 0.015455,
     "end_time": "2023-03-03T21:04:35.605340",
     "exception": false,
     "start_time": "2023-03-03T21:04:35.589885",
     "status": "completed"
    },
    "tags": []
   },
   "source": [
    "### Landmarks datapoints\n",
    "\n",
    "- Face has a lot more datapoints compared to hands and pose. Mediapipe provides 468 3D datapoints per frame."
   ]
  },
  {
   "cell_type": "code",
   "execution_count": 19,
   "id": "39f8e0bf",
   "metadata": {
    "execution": {
     "iopub.execute_input": "2023-03-03T21:04:35.639356Z",
     "iopub.status.busy": "2023-03-03T21:04:35.638867Z",
     "iopub.status.idle": "2023-03-03T21:04:35.664718Z",
     "shell.execute_reply": "2023-03-03T21:04:35.663124Z"
    },
    "papermill": {
     "duration": 0.047017,
     "end_time": "2023-03-03T21:04:35.668217",
     "exception": false,
     "start_time": "2023-03-03T21:04:35.621200",
     "status": "completed"
    },
    "tags": []
   },
   "outputs": [
    {
     "data": {
      "text/plain": [
       "face         15444\n",
       "pose          1089\n",
       "left_hand      357\n",
       "Name: type, dtype: int64"
      ]
     },
     "execution_count": 19,
     "metadata": {},
     "output_type": "execute_result"
    },
    {
     "data": {
      "application/javascript": [
       "\n",
       "            setTimeout(function() {\n",
       "                var nbb_cell_id = 19;\n",
       "                var nbb_unformatted_code = \"landmark_example.dropna(subset=['x', 'y','z'])['type'].value_counts()\\n\\nlandmark_read.dropna(subset = ['x','y','z'])['type'].value_counts()\";\n",
       "                var nbb_formatted_code = \"landmark_example.dropna(subset=[\\\"x\\\", \\\"y\\\", \\\"z\\\"])[\\\"type\\\"].value_counts()\\n\\nlandmark_read.dropna(subset=[\\\"x\\\", \\\"y\\\", \\\"z\\\"])[\\\"type\\\"].value_counts()\";\n",
       "                var nbb_cells = Jupyter.notebook.get_cells();\n",
       "                for (var i = 0; i < nbb_cells.length; ++i) {\n",
       "                    if (nbb_cells[i].input_prompt_number == nbb_cell_id) {\n",
       "                        if (nbb_cells[i].get_text() == nbb_unformatted_code) {\n",
       "                             nbb_cells[i].set_text(nbb_formatted_code);\n",
       "                        }\n",
       "                        break;\n",
       "                    }\n",
       "                }\n",
       "            }, 500);\n",
       "            "
      ],
      "text/plain": [
       "<IPython.core.display.Javascript object>"
      ]
     },
     "metadata": {},
     "output_type": "display_data"
    }
   ],
   "source": [
    "landmark_example.dropna(subset=['x', 'y','z'])['type'].value_counts()\n",
    "\n",
    "landmark_read.dropna(subset = ['x','y','z'])['type'].value_counts()"
   ]
  },
  {
   "cell_type": "code",
   "execution_count": 20,
   "id": "ec2ecc20",
   "metadata": {
    "execution": {
     "iopub.execute_input": "2023-03-03T21:04:35.704131Z",
     "iopub.status.busy": "2023-03-03T21:04:35.703678Z",
     "iopub.status.idle": "2023-03-03T21:04:35.932823Z",
     "shell.execute_reply": "2023-03-03T21:04:35.931600Z"
    },
    "papermill": {
     "duration": 0.251178,
     "end_time": "2023-03-03T21:04:35.936030",
     "exception": false,
     "start_time": "2023-03-03T21:04:35.684852",
     "status": "completed"
    },
    "tags": []
   },
   "outputs": [
    {
     "data": {
      "image/png": "[encoded data removed]",
      "text/plain": [
       "<Figure size 640x480 with 1 Axes>"
      ]
     },
     "metadata": {},
     "output_type": "display_data"
    },
    {
     "data": {
      "application/javascript": [
       "\n",
       "            setTimeout(function() {\n",
       "                var nbb_cell_id = 20;\n",
       "                var nbb_unformatted_code = \"## Checking to see if the number of landmarks for this type is zero \\n(train_with_meta.dropna(subset = ['face'])[['face', 'pose', 'right_hand', 'left_hand']] > 0).mean()\\\\\\n.plot(kind='barh', title = 'Rate of frame/keypoints with data')\\nplt.show()\";\n",
       "                var nbb_formatted_code = \"## Checking to see if the number of landmarks for this type is zero\\n(\\n    train_with_meta.dropna(subset=[\\\"face\\\"])[[\\\"face\\\", \\\"pose\\\", \\\"right_hand\\\", \\\"left_hand\\\"]]\\n    > 0\\n).mean().plot(kind=\\\"barh\\\", title=\\\"Rate of frame/keypoints with data\\\")\\nplt.show()\";\n",
       "                var nbb_cells = Jupyter.notebook.get_cells();\n",
       "                for (var i = 0; i < nbb_cells.length; ++i) {\n",
       "                    if (nbb_cells[i].input_prompt_number == nbb_cell_id) {\n",
       "                        if (nbb_cells[i].get_text() == nbb_unformatted_code) {\n",
       "                             nbb_cells[i].set_text(nbb_formatted_code);\n",
       "                        }\n",
       "                        break;\n",
       "                    }\n",
       "                }\n",
       "            }, 500);\n",
       "            "
      ],
      "text/plain": [
       "<IPython.core.display.Javascript object>"
      ]
     },
     "metadata": {},
     "output_type": "display_data"
    }
   ],
   "source": [
    "## Checking to see if the number of landmarks for this type is zero \n",
    "(train_with_meta.dropna(subset = ['face'])[['face', 'pose', 'right_hand', 'left_hand']] > 0).mean()\\\n",
    ".plot(kind='barh', title = 'Rate of frame/keypoints with data')\n",
    "plt.show()"
   ]
  },
  {
   "cell_type": "code",
   "execution_count": 21,
   "id": "9e098967",
   "metadata": {
    "execution": {
     "iopub.execute_input": "2023-03-03T21:04:35.972418Z",
     "iopub.status.busy": "2023-03-03T21:04:35.972000Z",
     "iopub.status.idle": "2023-03-03T21:04:36.016095Z",
     "shell.execute_reply": "2023-03-03T21:04:36.014744Z"
    },
    "papermill": {
     "duration": 0.065887,
     "end_time": "2023-03-03T21:04:36.018743",
     "exception": false,
     "start_time": "2023-03-03T21:04:35.952856",
     "status": "completed"
    },
    "tags": []
   },
   "outputs": [
    {
     "data": {
      "application/javascript": [
       "\n",
       "            setTimeout(function() {\n",
       "                var nbb_cell_id = 21;\n",
       "                var nbb_unformatted_code = \"example_fn = train_with_meta.dropna().query('sign == \\\"shhh\\\"')['path'].values[0]\\nlandmark_example = pd.read_parquet(f'{BASE_DIR}/{example_fn}')\";\n",
       "                var nbb_formatted_code = \"example_fn = train_with_meta.dropna().query('sign == \\\"shhh\\\"')[\\\"path\\\"].values[0]\\nlandmark_example = pd.read_parquet(f\\\"{BASE_DIR}/{example_fn}\\\")\";\n",
       "                var nbb_cells = Jupyter.notebook.get_cells();\n",
       "                for (var i = 0; i < nbb_cells.length; ++i) {\n",
       "                    if (nbb_cells[i].input_prompt_number == nbb_cell_id) {\n",
       "                        if (nbb_cells[i].get_text() == nbb_unformatted_code) {\n",
       "                             nbb_cells[i].set_text(nbb_formatted_code);\n",
       "                        }\n",
       "                        break;\n",
       "                    }\n",
       "                }\n",
       "            }, 500);\n",
       "            "
      ],
      "text/plain": [
       "<IPython.core.display.Javascript object>"
      ]
     },
     "metadata": {},
     "output_type": "display_data"
    }
   ],
   "source": [
    "example_fn = train_with_meta.dropna().query('sign == \"shhh\"')['path'].values[0]\n",
    "landmark_example = pd.read_parquet(f'{BASE_DIR}/{example_fn}')"
   ]
  },
  {
   "cell_type": "code",
   "execution_count": 22,
   "id": "bf59c163",
   "metadata": {
    "execution": {
     "iopub.execute_input": "2023-03-03T21:04:36.054229Z",
     "iopub.status.busy": "2023-03-03T21:04:36.053737Z",
     "iopub.status.idle": "2023-03-03T21:04:36.068803Z",
     "shell.execute_reply": "2023-03-03T21:04:36.067358Z"
    },
    "papermill": {
     "duration": 0.036059,
     "end_time": "2023-03-03T21:04:36.071598",
     "exception": false,
     "start_time": "2023-03-03T21:04:36.035539",
     "status": "completed"
    },
    "tags": []
   },
   "outputs": [
    {
     "data": {
      "text/plain": [
       "25.0"
      ]
     },
     "execution_count": 22,
     "metadata": {},
     "output_type": "execute_result"
    },
    {
     "data": {
      "application/javascript": [
       "\n",
       "            setTimeout(function() {\n",
       "                var nbb_cell_id = 22;\n",
       "                var nbb_unformatted_code = \"landmark_example['frame'].median()\";\n",
       "                var nbb_formatted_code = \"landmark_example[\\\"frame\\\"].median()\";\n",
       "                var nbb_cells = Jupyter.notebook.get_cells();\n",
       "                for (var i = 0; i < nbb_cells.length; ++i) {\n",
       "                    if (nbb_cells[i].input_prompt_number == nbb_cell_id) {\n",
       "                        if (nbb_cells[i].get_text() == nbb_unformatted_code) {\n",
       "                             nbb_cells[i].set_text(nbb_formatted_code);\n",
       "                        }\n",
       "                        break;\n",
       "                    }\n",
       "                }\n",
       "            }, 500);\n",
       "            "
      ],
      "text/plain": [
       "<IPython.core.display.Javascript object>"
      ]
     },
     "metadata": {},
     "output_type": "display_data"
    }
   ],
   "source": [
    "landmark_example['frame'].median()"
   ]
  },
  {
   "cell_type": "code",
   "execution_count": 23,
   "id": "8c7ea82e",
   "metadata": {
    "execution": {
     "iopub.execute_input": "2023-03-03T21:04:36.108330Z",
     "iopub.status.busy": "2023-03-03T21:04:36.107906Z",
     "iopub.status.idle": "2023-03-03T21:04:36.126063Z",
     "shell.execute_reply": "2023-03-03T21:04:36.124724Z"
    },
    "papermill": {
     "duration": 0.039187,
     "end_time": "2023-03-03T21:04:36.128533",
     "exception": false,
     "start_time": "2023-03-03T21:04:36.089346",
     "status": "completed"
    },
    "tags": []
   },
   "outputs": [
    {
     "data": {
      "text/plain": [
       "face          468\n",
       "pose           33\n",
       "left_hand      21\n",
       "right_hand     21\n",
       "Name: type, dtype: int64"
      ]
     },
     "execution_count": 23,
     "metadata": {},
     "output_type": "execute_result"
    },
    {
     "data": {
      "application/javascript": [
       "\n",
       "            setTimeout(function() {\n",
       "                var nbb_cell_id = 23;\n",
       "                var nbb_unformatted_code = \"landmark_example.query(\\\"frame == 25\\\")['type'].value_counts()\";\n",
       "                var nbb_formatted_code = \"landmark_example.query(\\\"frame == 25\\\")[\\\"type\\\"].value_counts()\";\n",
       "                var nbb_cells = Jupyter.notebook.get_cells();\n",
       "                for (var i = 0; i < nbb_cells.length; ++i) {\n",
       "                    if (nbb_cells[i].input_prompt_number == nbb_cell_id) {\n",
       "                        if (nbb_cells[i].get_text() == nbb_unformatted_code) {\n",
       "                             nbb_cells[i].set_text(nbb_formatted_code);\n",
       "                        }\n",
       "                        break;\n",
       "                    }\n",
       "                }\n",
       "            }, 500);\n",
       "            "
      ],
      "text/plain": [
       "<IPython.core.display.Javascript object>"
      ]
     },
     "metadata": {},
     "output_type": "display_data"
    }
   ],
   "source": [
    "landmark_example.query(\"frame == 25\")['type'].value_counts()"
   ]
  },
  {
   "cell_type": "markdown",
   "id": "d6d77775",
   "metadata": {
    "papermill": {
     "duration": 0.016678,
     "end_time": "2023-03-03T21:04:36.162892",
     "exception": false,
     "start_time": "2023-03-03T21:04:36.146214",
     "status": "completed"
    },
    "tags": []
   },
   "source": [
    "### 3D plot of landmarks from \"shhh\" example."
   ]
  },
  {
   "cell_type": "code",
   "execution_count": 24,
   "id": "e4d76030",
   "metadata": {
    "execution": {
     "iopub.execute_input": "2023-03-03T21:04:36.200313Z",
     "iopub.status.busy": "2023-03-03T21:04:36.198858Z",
     "iopub.status.idle": "2023-03-03T21:04:40.219210Z",
     "shell.execute_reply": "2023-03-03T21:04:40.217684Z"
    },
    "papermill": {
     "duration": 4.04217,
     "end_time": "2023-03-03T21:04:40.222237",
     "exception": false,
     "start_time": "2023-03-03T21:04:36.180067",
     "status": "completed"
    },
    "tags": []
   },
   "outputs": [
    {
     "data": {
      "text/html": [
       "        <script type=\"text/javascript\">\n",
       "        window.PlotlyConfig = {MathJaxConfig: 'local'};\n",
       "        if (window.MathJax && window.MathJax.Hub && window.MathJax.Hub.Config) {window.MathJax.Hub.Config({SVG: {font: \"STIX-Web\"}});}\n",
       "        if (typeof require !== 'undefined') {\n",
       "        require.undef(\"plotly\");\n",
       "        requirejs.config({\n",
       "            paths: {\n",
       "                'plotly': ['https://cdn.plot.ly/plotly-2.18.0.min']\n",
       "            }\n",
       "        });\n",
       "        require(['plotly'], function(Plotly) {\n",
       "            window._Plotly = Plotly;\n",
       "        });\n",
       "        }\n",
       "        </script>\n",
       "        "
      ]
     },
     "metadata": {},
     "output_type": "display_data"
    },
    {
     "data": {
      "text/html": [
       "<div>                            <div id=\"df56da39-fe0a-4ae6-8078-bde59b4163b9\" class=\"plotly-graph-div\" style=\"height:525px; width:100%;\"></div>            <script type=\"text/javascript\">                require([\"plotly\"], function(Plotly) {                    window.PLOTLYENV=window.PLOTLYENV || {};                                    if (document.getElementById(\"df56da39-fe0a-4ae6-8078-bde59b4163b9\")) {                    Plotly.newPlot(                        \"df56da39-fe0a-4ae6-8078-bde59b4163b9\",                        [{\"hovertemplate\":\"type=face<br>x=%{x}<br>y=%{y}<br>z=%{z}<extra></extra>\",\"legendgroup\":\"face\",\"marker\":{\"color\":\"#636efa\",\"symbol\":\"circle\"},\"mode\":\"markers\",\"name\":\"face\",\"scene\":\"scene\",\"showlegend\":true,\"x\":[0.4272492527961731,0.43166282773017883,0.42373421788215637,0.4233693778514862,0.4345952272415161,0.4357866942882538,0.43630915880203247,0.3314066529273987,0.4417411684989929,0.44558390974998474,0.4584703743457794,0.4263850152492523,0.4244031310081482,0.422271728515625,0.42150792479515076,0.42119890451431274,0.4199700653553009,0.417980432510376,0.4019543528556824,0.42869770526885986,0.41426631808280945,0.2840838134288788,0.3703940510749817,0.35623466968536377,0.342451274394989,0.32396242022514343,0.38272127509117126,0.3560327887535095,0.3719337284564972,0.34008628129959106,0.32859566807746887,0.31095966696739197,0.3454645574092865,0.3261854350566864,0.2627047300338745,0.29534897208213806,0.3509044349193573,0.4098835289478302,0.4101015329360962,0.3908877372741699,0.3805500268936157,0.3975529372692108,0.38918864727020264,0.34229397773742676,0.42089542746543884,0.4212470054626465,0.3099824786186218,0.38505813479423523,0.38402318954467773,0.3821926414966583,0.3045142590999603,0.42287677526474,0.34817707538604736,0.32649922370910645,0.3064911365509033,0.410616934299469,0.38460513949394226,0.33453667163848877,0.24865074455738068,0.3935215473175049,0.40383675694465637,0.37382739782333374,0.3781842291355133,0.31974223256111145,0.3816581964492798,0.3755514621734619,0.3751804530620575,0.37409892678260803,0.31592264771461487,0.37789061665534973,0.30166807770729065,0.2944037616252899,0.40972766280174255,0.39402759075164795,0.38460877537727356,0.39593157172203064,0.3761735260486603,0.3802538812160492,0.3801008462905884,0.40209659934043884,0.3926261067390442,0.40056344866752625,0.4107012152671814,0.38262322545051575,0.4011971652507782,0.4044525623321533,0.40743789076805115,0.4098469614982605,0.39264634251594543,0.3890816271305084,0.38447123765945435,0.3800383508205414,0.35654810070991516,0.24356794357299805,0.42620763182640076,0.38691434264183044,0.38403797149658203,0.4064456522464752,0.38333484530448914,0.4053138494491577,0.36813339591026306,0.3427615761756897,0.3783048391342163,0.3352621793746948,0.34255820512771606,0.3446618616580963,0.3512827157974243,0.4094969630241394,0.4128071665763855,0.4139161705970764,0.33065491914749146,0.29421114921569824,0.3909193277359009,0.3127371370792389,0.39725127816200256,0.3940803110599518,0.2716684937477112,0.3034038543701172,0.3220309615135193,0.3503338694572449,0.3715227246284485,0.3876376152038574,0.42182162404060364,0.2678273916244507,0.3015945255756378,0.4220089316368103,0.38542628288269043,0.2556530833244324,0.40027862787246704,0.375238835811615,0.31887367367744446,0.3929411470890045,0.24304310977458954,0.39096763730049133,0.40799540281295776,0.28277742862701416,0.2758037745952606,0.24861353635787964,0.2654160261154175,0.27806809544563293,0.33935630321502686,0.42125409841537476,0.3706866204738617,0.28175556659698486,0.3453645408153534,0.3572758734226227,0.3762648105621338,0.2650122046470642,0.36036625504493713,0.3172032833099365,0.2980117201805115,0.45213690400123596,0.3885669410228729,0.36895519495010376,0.37995997071266174,0.38726016879081726,0.29070574045181274,0.379547119140625,0.3679640293121338,0.35623598098754883,0.34392112493515015,0.33557361364364624,0.26792681217193604,0.33723151683807373,0.42187070846557617,0.3722822666168213,0.39428314566612244,0.40229523181915283,0.4380701184272766,0.30205512046813965,0.31915661692619324,0.3637501001358032,0.26015543937683105,0.3874977231025696,0.4098655581474304,0.3919142782688141,0.33742770552635193,0.24727381765842438,0.4001843333244324,0.3966180384159088,0.39218148589134216,0.3880842626094818,0.3642326891422272,0.38329029083251953,0.3790716230869293,0.37505990266799927,0.343820720911026,0.28597021102905273,0.4098898470401764,0.4047411382198334,0.3948432207107544,0.38684728741645813,0.27853554487228394,0.41976404190063477,0.3531189262866974,0.43584778904914856,0.4224914312362671,0.4359133243560791,0.39620649814605713,0.3952381908893585,0.3985876739025116,0.37528136372566223,0.3269561529159546,0.36059725284576416,0.33767783641815186,0.3242913484573364,0.34421563148498535,0.3080791234970093,0.3690490424633026,0.3853762745857239,0.31187179684638977,0.32708853483200073,0.3187646269798279,0.26545459032058716,0.29692965745925903,0.251933753490448,0.3301240801811218,0.3977176249027252,0.3985353708267212,0.38835573196411133,0.40756094455718994,0.39534956216812134,0.373432993888855,0.3528895974159241,0.33477628231048584,0.3209027647972107,0.3088008761405945,0.2537083923816681,0.3183782696723938,0.33319056034088135,0.3527010679244995,0.3711705803871155,0.38577768206596375,0.39615288376808167,0.24879135191440582,0.3873785138130188,0.4098910689353943,0.4102453291416168,0.4146258533000946,0.4084741473197937,0.38931727409362793,0.41755926609039307,0.4170500636100769,0.39654600620269775,0.40483734011650085,0.4104243218898773,0.33037155866622925,0.3204878866672516,0.44575512409210205,0.5221428275108337,0.43734678626060486,0.5668548345565796,0.48591476678848267,0.4983733296394348,0.510164201259613,0.5257711410522461,0.4756930470466614,0.5121417045593262,0.4969292879104614,0.5252384543418884,0.5324859619140625,0.5331337451934814,0.44105270504951477,0.5265810489654541,0.5609637498855591,0.5448271036148071,0.4880966544151306,0.44252848625183105,0.4355069696903229,0.45464521646499634,0.4581797122955322,0.44316670298576355,0.4469296634197235,0.46279364824295044,0.44108831882476807,0.44537270069122314,0.5500538349151611,0.46749237179756165,0.4645918905735016,0.4664192199707031,0.5250867605209351,0.44655099511146545,0.5278009176254272,0.5426596999168396,0.563087522983551,0.4711853265762329,0.48282891511917114,0.47432419657707214,0.5200012922286987,0.4532604217529297,0.44293925166130066,0.4539530873298645,0.4501301348209381,0.5489011406898499,0.46248412132263184,0.5051608085632324,0.5093221068382263,0.5285511612892151,0.5554649829864502,0.5166410207748413,0.5555390119552612,0.5621583461761475,0.4399433135986328,0.44941964745521545,0.4531554877758026,0.4493859112262726,0.452049195766449,0.45043376088142395,0.44852668046951294,0.4513361155986786,0.44137799739837646,0.4374147355556488,0.43102991580963135,0.4192796051502228,0.43222466111183167,0.4331134259700775,0.4323863983154297,0.43060302734375,0.4411066472530365,0.44456472992897034,0.4482734203338623,0.45098260045051575,0.4686119556427002,0.5437583923339844,0.44405612349510193,0.4471501410007477,0.4393283426761627,0.4567693769931793,0.44107168912887573,0.4795171618461609,0.4990918040275574,0.46623843908309937,0.5518487691879272,0.5414963960647583,0.5331259369850159,0.45113077759742737,0.4791511297225952,0.48749393224716187,0.49860915541648865,0.5197674632072449,0.5427341461181641,0.46926429867744446,0.5410261750221252,0.4601415991783142,0.46053439378738403,0.5541495084762573,0.53632652759552,0.5225498676300049,0.4996037483215332,0.48228394985198975,0.469820499420166,0.44736963510513306,0.550029456615448,0.5484036207199097,0.4344424903392792,0.465043306350708,0.5575698614120483,0.4615840017795563,0.46660637855529785,0.5319284200668335,0.4621497690677643,0.5343302488327026,0.46912091970443726,0.4549337923526764,0.49548232555389404,0.48918455839157104,0.553817629814148,0.5135797262191772,0.5626981258392334,0.43969500064849854,0.4309835731983185,0.4740729033946991,0.5507476925849915,0.5106022357940674,0.5000733137130737,0.45324862003326416,0.5423070192337036,0.41444090008735657,0.45218995213508606,0.46910935640335083,0.4894048273563385,0.4793645143508911,0.47266650199890137,0.5537350177764893,0.48154398798942566,0.49294862151145935,0.504196047782898,0.514771044254303,0.5210061073303223,0.5651271939277649,0.5174717903137207,0.4601646363735199,0.454688161611557,0.43916165828704834,0.4756985008716583,0.458196222782135,0.4176086485385895,0.5046781301498413,0.4732804298400879,0.45326972007751465,0.4345952570438385,0.5447594523429871,0.43717941641807556,0.4401393234729767,0.44274964928627014,0.4439029097557068,0.43692246079444885,0.44859078526496887,0.4533846080303192,0.4579710364341736,0.4735598862171173,0.527026355266571,0.453768253326416,0.4636598527431488,0.46967047452926636,0.44399169087409973,0.5168808698654175,0.4548266530036926,0.43981701135635376,0.4463759660720825,0.4595305621623993,0.4191858768463135,0.47088760137557983,0.47491729259490967,0.4565989673137665,0.5043038725852966,0.48334383964538574,0.5079945921897888,0.4189433753490448,0.4642520546913147,0.47708407044410706,0.45949602127075195,0.4847680926322937,0.5321804285049438,0.49866172671318054,0.5314547419548035,0.4872961640357971,0.45907941460609436,0.45578742027282715,0.46003496646881104,0.45372194051742554,0.47696518898010254,0.5002044439315796,0.5192720293998718,0.5331937670707703,0.5408180952072144,0.5376299619674683,0.5585100650787354,0.5273391008377075,0.5153409242630005,0.49916133284568787,0.48357751965522766,0.4717722535133362,0.46419042348861694,0.5498045682907104,0.4578678011894226,0.45368707180023193,0.44849517941474915,0.4397541284561157,0.4471178650856018,0.45353448390960693,0.4378984868526459,0.4345932900905609,0.4652080535888672,0.45907384157180786,0.4562886953353882,0.5243512392044067,0.5354431867599487],\"y\":[0.38230663537979126,0.358013391494751,0.36870473623275757,0.3244880735874176,0.34784016013145447,0.3350988030433655,0.30357927083969116,0.2831834554672241,0.27127787470817566,0.2555616497993469,0.19939756393432617,0.38845816254615784,0.39631712436676025,0.40271809697151184,0.41294580698013306,0.41872355341911316,0.42585068941116333,0.4332388937473297,0.44474294781684875,0.36363235116004944,0.36236974596977234,0.22523047029972076,0.29724037647247314,0.29655179381370544,0.2942167818546295,0.2853374481201172,0.29610347747802734,0.26150161027908325,0.265325665473938,0.2609792649745941,0.2640122175216675,0.2892816662788391,0.44858986139297485,0.27934378385543823,0.2736004889011383,0.27686500549316406,0.33974480628967285,0.37976327538490295,0.3962319493293762,0.38697466254234314,0.39525172114372253,0.39871135354042053,0.402484655380249,0.41054293513298035,0.3564891517162323,0.34647616744041443,0.24735650420188904,0.3186745047569275,0.34963396191596985,0.3442141115665436,0.33235618472099304,0.3344617784023285,0.24087843298912048,0.24137400090694427,0.2081301510334015,0.26191604137420654,0.27225154638290405,0.39771777391433716,0.3797161877155304,0.3570718467235565,0.36189526319503784,0.4098014533519745,0.4097009003162384,0.23180794715881348,0.3540692627429962,0.24656078219413757,0.23678258061408997,0.19177159667015076,0.21996420621871948,0.21456725895404816,0.23984965682029724,0.2331557422876358,0.3879510164260864,0.3928729295730591,0.3988122045993805,0.3594798445701599,0.4097607135772705,0.41196197271347046,0.40959951281547546,0.35443115234375,0.4051976799964905,0.40305089950561523,0.40205439925193787,0.4405384659767151,0.42987939715385437,0.4228537082672119,0.4160761833190918,0.41125139594078064,0.4099609851837158,0.41204404830932617,0.4146725535392761,0.4179118871688843,0.37982243299484253,0.3199634253978729,0.3662227988243103,0.40997615456581116,0.4108947515487671,0.36615318059921265,0.36060845851898193,0.3641304075717926,0.321897029876709,0.3249579071998596,0.348438560962677,0.1964951455593109,0.21300184726715088,0.23069550096988678,0.42145225405693054,0.24589215219020844,0.22076493501663208,0.19326180219650269,0.29046568274497986,0.29393234848976135,0.294345885515213,0.26564958691596985,0.31386876106262207,0.3469300866127014,0.2986918091773987,0.3043992519378662,0.3121490180492401,0.314777135848999,0.3132975697517395,0.3104170858860016,0.30394604802131653,0.32233044505119324,0.26081734895706177,0.36249780654907227,0.3289312422275543,0.270089715719223,0.3062557280063629,0.348794162273407,0.27735161781311035,0.3403594493865967,0.34820255637168884,0.29034075140953064,0.33627015352249146,0.4151085615158081,0.4269745647907257,0.32076719403266907,0.3965543806552887,0.25196579098701477,0.4592457413673401,0.36521703004837036,0.3343169093132019,0.27609434723854065,0.2884083688259125,0.2903664708137512,0.4134707450866699,0.34506088495254517,0.47821974754333496,0.45720812678337097,0.4449472725391388,0.22777970135211945,0.48382431268692017,0.2908840775489807,0.2905801236629486,0.29062777757644653,0.25565147399902344,0.28205403685569763,0.2779344618320465,0.27593231201171875,0.27574893832206726,0.2769526243209839,0.24507209658622742,0.28583377599716187,0.37633994221687317,0.374883234500885,0.355257511138916,0.37457147240638733,0.28779497742652893,0.4319249093532562,0.4454999268054962,0.4705117642879486,0.40655311942100525,0.2871290147304535,0.3184822201728821,0.47692427039146423,0.4686623811721802,0.3464997708797455,0.4101363718509674,0.4136604070663452,0.41838371753692627,0.4241877496242523,0.43205299973487854,0.4062715768814087,0.40463390946388245,0.4027149975299835,0.3874973952770233,0.3543911874294281,0.30817821621894836,0.282926470041275,0.28326255083084106,0.40740859508514404,0.38163885474205017,0.2846446633338928,0.43944957852363586,0.3247170150279999,0.3151029348373413,0.3149486184120178,0.33234086632728577,0.46660828590393066,0.454982727766037,0.4498518705368042,0.4130586087703705,0.35521838068962097,0.42715737223625183,0.34967905282974243,0.3645741045475006,0.3658660352230072,0.46035531163215637,0.33681392669677734,0.42032700777053833,0.4351504445075989,0.39721158146858215,0.365166038274765,0.39724838733673096,0.3717489540576935,0.37750163674354553,0.32354551553726196,0.3520958125591278,0.35355517268180847,0.3462343215942383,0.26978665590286255,0.2582499086856842,0.2535088360309601,0.25322210788726807,0.2570340037345886,0.27714604139328003,0.29674848914146423,0.2959177792072296,0.3016882836818695,0.3046194612979889,0.30460792779922485,0.30291756987571716,0.30073100328445435,0.2944892644882202,0.3563866913318634,0.32732921838760376,0.35408416390419006,0.36031487584114075,0.35585832595825195,0.3599419891834259,0.36147448420524597,0.3641926348209381,0.29148611426353455,0.29557254910469055,0.2986832857131958,0.2782178819179535,0.26890215277671814,0.3275986909866333,0.3135244846343994,0.36559706926345825,0.26889175176620483,0.31595078110694885,0.31874626874923706,0.31992149353027344,0.3178985118865967,0.31160876154899597,0.28849488496780396,0.28761154413223267,0.29224422574043274,0.29807567596435547,0.32455068826675415,0.45923638343811035,0.31213560700416565,0.3180876672267914,0.3184810280799866,0.35879895091056824,0.3837357461452484,0.3993685841560364,0.39414605498313904,0.40412747859954834,0.4039399325847626,0.4089149534702301,0.4252726137638092,0.3592924475669861,0.34970352053642273,0.28973692655563354,0.33045318722724915,0.3603125512599945,0.35540854930877686,0.36326977610588074,0.33766239881515503,0.2739831805229187,0.2800080180168152,0.24857276678085327,0.27588745951652527,0.2902228832244873,0.41505035758018494,0.4146864712238312,0.36492156982421875,0.36707547307014465,0.41987112164497375,0.41836094856262207,0.2739447355270386,0.36468344926834106,0.2720286548137665,0.2634027898311615,0.2168627381324768,0.25862616300582886,0.23801961541175842,0.2860802114009857,0.27531611919403076,0.39165398478507996,0.39939218759536743,0.4066222012042999,0.36640217900276184,0.41919851303100586,0.4206930696964264,0.4176233410835266,0.3613467812538147,0.4102296531200409,0.40709438920021057,0.4044995903968811,0.4450582265853882,0.43394631147384644,0.4263969957828522,0.41911840438842773,0.41375991702079773,0.41523462533950806,0.4186604917049408,0.42294842004776,0.4274700880050659,0.3940807282924652,0.36267346143722534,0.4160654544830322,0.4182804226875305,0.3705368638038635,0.37003159523010254,0.36891692876815796,0.3377542197704315,0.3471604585647583,0.36006978154182434,0.2312985211610794,0.2461639940738678,0.26597246527671814,0.4335685670375824,0.2622213363647461,0.2332691252231598,0.2069612294435501,0.3200344145298004,0.3325854241847992,0.3075910806655884,0.30410394072532654,0.32296353578567505,0.355993390083313,0.3396637737751007,0.33882495760917664,0.34037503600120544,0.33577558398246765,0.3291180431842804,0.32218849658966064,0.3077854514122009,0.36219143867492676,0.3034352660179138,0.3641981780529022,0.3400178849697113,0.3149254024028778,0.3147476613521576,0.36090216040611267,0.3127653896808624,0.34969231486320496,0.3879901170730591,0.3037532567977905,0.34262314438819885,0.4407787322998047,0.4516468644142151,0.3642341196537018,0.42805609107017517,0.2955535650253296,0.4697585105895996,0.3665672838687897,0.34863629937171936,0.32156646251678467,0.31391459703445435,0.3127880096435547,0.4233643710613251,0.3833228349685669,0.4833645224571228,0.4709012508392334,0.4633721113204956,0.31052425503730774,0.3074561655521393,0.3054288923740387,0.3023892641067505,0.30010858178138733,0.29985782504081726,0.3010845482349396,0.3041430115699768,0.30752426385879517,0.2900339663028717,0.3139500916004181,0.3861636221408844,0.3633691370487213,0.37932488322257996,0.4518755376338959,0.4605163633823395,0.47609376907348633,0.43645602464675903,0.3018989861011505,0.3246404826641083,0.47808510065078735,0.3875850439071655,0.4144303798675537,0.4189944267272949,0.4250229597091675,0.4319762587547302,0.44089505076408386,0.4136495292186737,0.4134935140609741,0.412662148475647,0.40376749634742737,0.387319415807724,0.31469500064849854,0.29376572370529175,0.296622097492218,0.4133710265159607,0.4127142131328583,0.29111599922180176,0.44943398237228394,0.3184874355792999,0.34109583497047424,0.4548557996749878,0.4304962158203125,0.37046876549720764,0.44108283519744873,0.37441056966781616,0.3830970823764801,0.3926963806152344,0.46589356660842896,0.34752458333969116,0.43993744254112244,0.4501422643661499,0.41802704334259033,0.4009309411048889,0.42257553339004517,0.4089018702507019,0.39797475934028625,0.3321835696697235,0.35996031761169434,0.3630546033382416,0.3524952530860901,0.2854716181755066,0.28142374753952026,0.2826719582080841,0.2872433066368103,0.2943650186061859,0.3154069185256958,0.3412708044052124,0.32808396220207214,0.328785240650177,0.326623797416687,0.3220314085483551,0.31655168533325195,0.31145694851875305,0.33839893341064453,0.36560600996017456,0.3333839774131775,0.35934415459632874,0.3638337552547455,0.36137518286705017,0.3681594133377075,0.3642735481262207,0.3665429949760437,0.3031567633152008,0.3043506145477295,0.305195689201355,0.31000953912734985,0.30461329221725464],\"z\":[-0.04151267930865288,-0.06694986671209335,-0.03835732489824295,-0.04763752222061157,-0.06995049118995667,-0.0632544755935669,-0.02530752867460251,0.013166406191885471,-0.012626002542674541,-0.012757600285112858,0.006098256912082434,-0.04060545191168785,-0.03719533234834671,-0.03144751861691475,-0.025837982073426247,-0.0271479282528162,-0.029960747808218002,-0.02804972603917122,-0.018232200294733047,-0.06132573261857033,-0.04611915349960327,0.07353418320417404,0.001406499999575317,0.0016754419775679708,0.0044455016031861305,0.01383603923022747,0.005219517275691032,-0.00017543962167110294,0.0013115530600771308,0.0027973614633083344,0.006760953925549984,0.018492622300982475,-0.009928754530847073,0.01738600619137287,0.06944195926189423,0.03090328723192215,-0.015540940687060356,-0.04126774147152901,-0.03696771338582039,-0.03630456328392029,-0.02825062721967697,-0.033475589007139206,-0.025969790294766426,-0.010531991720199585,-0.06674451380968094,-0.06938484311103821,0.011706235818564892,-0.011472340673208237,-0.040032826364040375,-0.036002423614263535,-0.0032098181545734406,-0.060814499855041504,-0.004134122282266617,0.0038802342023700476,0.05405902862548828,-0.011201846413314342,0.00511936703696847,-0.008428875356912613,0.08779087662696838,-0.03569246083498001,-0.03521530702710152,-0.00962167140096426,-0.01266271248459816,0.009800323285162449,-0.03397616744041443,-0.009552409872412682,-0.011123673059046268,0.014657292515039444,0.02839137427508831,0.0009716948261484504,0.021969469264149666,0.04572571814060211,-0.040579069405794144,-0.03545268997550011,-0.028180258348584175,-0.03190191090106964,-0.011147839017212391,-0.016997884958982468,-0.012651660479605198,-0.0508941225707531,-0.023819083347916603,-0.02855719067156315,-0.03164792060852051,-0.019359933212399483,-0.029048137366771698,-0.030436839908361435,-0.02739645168185234,-0.02609197609126568,-0.019703328609466553,-0.02137628197669983,-0.02378908544778824,-0.02228611521422863,-0.024365151301026344,0.11131042242050171,-0.04608716443181038,-0.015492438338696957,-0.016681760549545288,-0.03668908774852753,-0.025398042052984238,-0.036019861698150635,-0.009415444917976856,-0.007859377190470695,-0.029951568692922592,0.03292294219136238,0.013549108989536762,-0.0016328432830050588,-0.015415530651807785,-0.014418293721973896,-0.005055395886301994,0.0054067946039140224,0.009062576107680798,0.023097388446331024,0.007843006402254105,0.01611287333071232,-0.014023160561919212,-0.05056228116154671,0.033838044852018356,0.011428574100136757,0.0008795797475613654,-0.0017966675804927945,-0.002670142101123929,-0.003683677176013589,-0.02223513275384903,0.027354950085282326,0.021029457449913025,-0.06137614697217941,-0.018606536090373993,0.1094866618514061,-0.00341589143499732,-0.0181130263954401,0.019187312573194504,-0.04534414783120155,0.10281912237405777,0.011417778208851814,-0.05526743456721306,0.02726876176893711,0.046329911798238754,0.06868777424097061,0.04071050509810448,0.061123620718717575,-0.004752245265990496,-0.04571184143424034,-0.015995733439922333,0.04149166867136955,0.0061675976030528545,0.0039178309962153435,-0.015667933970689774,0.028427546843886375,-0.0011175021063536406,0.019074251875281334,0.03083200566470623,-0.004689950030297041,-0.002260214416310191,0.004515123087912798,0.00738490978255868,0.010941513814032078,0.03273671120405197,0.006171955727040768,0.0040857489220798016,0.0038872070144861937,0.005886964499950409,0.008911151438951492,0.09440498799085617,0.009798850864171982,-0.03678097575902939,-0.029341652989387512,-0.0389375202357769,-0.03727991133928299,-0.014838172122836113,0.017264951020479202,0.006864642258733511,-0.014202841557562351,0.06697651743888855,0.009447687305510044,-0.029915370047092438,-0.014522379264235497,0.006679367274045944,0.06395364552736282,-0.023540569469332695,-0.0250373724848032,-0.027929214760661125,-0.02674763835966587,-0.019359583035111427,-0.019018126651644707,-0.01911039836704731,-0.019141297787427902,-0.0166616290807724,0.005937401670962572,-0.017224600538611412,0.004650230519473553,0.008637105114758015,-0.017941847443580627,0.02097853645682335,-0.009081576950848103,-0.013867734931409359,-0.05021926015615463,-0.0357973575592041,-0.037218645215034485,-0.03307877480983734,-0.018598437309265137,-0.017549509182572365,-0.017281966283917427,-0.0040257712826132774,-0.01669221930205822,-0.008906221948564053,-0.013404689729213715,-0.016919845715165138,-0.006618478801101446,-0.017961952835321426,-0.026293834671378136,0.005434094928205013,-0.0008233926491811872,-0.0036518198903650045,0.03089989721775055,0.0066140699200332165,0.05648311972618103,-0.012673744931817055,-0.023694241419434547,-0.05321432277560234,-0.041199784725904465,-0.06035083904862404,0.0011462399270385504,-0.0011329142143949866,-0.0011354401940479875,0.0024222489446401596,0.008398277685046196,0.023358730599284172,0.06920254975557327,0.0117580471560359,0.00548290042206645,0.0019142600940540433,0.00024713599123060703,0.0027513718232512474,0.0029974423814564943,0.11420222371816635,-0.035479165613651276,-0.04102933406829834,-0.06167113780975342,-0.056692883372306824,-0.05603926256299019,-0.03131823241710663,-0.05980953946709633,-0.04586086422204971,0.010194498114287853,0.003372464794665575,-0.004515896085649729,0.012590601108968258,0.01280248537659645,-0.04510052129626274,0.031095260754227638,-0.044078439474105835,0.09896716475486755,0.012950001284480095,0.015517915599048138,0.020594824105501175,0.033005643635988235,0.014110705815255642,0.014213794842362404,0.012544146738946438,0.01976955123245716,0.02506740391254425,0.039077237248420715,-0.0018072010716423392,0.03619138523936272,0.09836716949939728,0.05432228371500969,-0.00451646838337183,-0.03805351257324219,-0.034055858850479126,-0.029615754261612892,-0.019335737451910973,-0.02778160199522972,-0.01845300942659378,0.0003346399462316185,-0.06503710895776749,-0.06743169575929642,0.03375133499503136,-0.0037541287019848824,-0.03248623013496399,-0.02826874516904354,0.01554916612803936,-0.05836347118020058,0.010449595749378204,0.02257367968559265,0.07701094448566437,-0.006784370634704828,0.01425535511225462,0.004298985004425049,0.11149412393569946,-0.029625505208969116,-0.03219012916088104,0.0017807346303015947,-0.002528778277337551,0.030110957100987434,-0.026571637019515038,0.0003894380643032491,-0.000598339072894305,0.027278004214167595,0.05133713036775589,0.013278939761221409,0.04579737409949303,0.07171030342578888,-0.03740681707859039,-0.02925848215818405,-0.02002260647714138,-0.027369193732738495,-0.0005383989191614091,-0.007662353105843067,-0.002736645517870784,-0.0457131564617157,-0.016621755436062813,-0.023053277283906937,-0.02854938618838787,-0.01656949520111084,-0.0257261972874403,-0.02676738053560257,-0.023878857493400574,-0.022804398089647293,-0.012468276545405388,-0.013886602595448494,-0.016247738152742386,-0.014369681477546692,-0.01424173079431057,0.13757705688476562,-0.006642294116318226,-0.007680160459131002,-0.03391788899898529,-0.01973465271294117,-0.03315739706158638,0.000477828667499125,0.005310343578457832,-0.02198883518576622,0.051583096385002136,0.03181679546833038,0.014096012338995934,-0.0063366056419909,-0.009462708607316017,0.0012625213712453842,0.011652438901364803,0.027277201414108276,0.046218834817409515,0.015887198969721794,0.0370824970304966,-0.007797889411449432,-0.044448044151067734,0.06004640460014343,0.033015523105859756,0.018956046551465988,0.011672680266201496,0.007570650428533554,0.004292775876820087,-0.01971828006207943,0.053158387541770935,0.044587839394807816,-0.05998677387833595,-0.011208481155335903,0.1364852488040924,0.0025857549626380205,-0.01078233402222395,0.0388861745595932,-0.03910539299249649,0.12812449038028717,0.019756704568862915,-0.05080690607428551,0.04581286758184433,0.06351791322231293,0.09728588163852692,0.06303911656141281,0.08893049508333206,0.004126966930925846,-0.04485005512833595,-0.007171498611569405,0.06742233783006668,0.021865973249077797,0.017754925414919853,-0.005744260735809803,0.05310170352458954,0.0031227595172822475,0.029952064156532288,0.04456183686852455,0.016335532069206238,0.01748812012374401,0.019953126087784767,0.05815929174423218,0.016543742269277573,0.0161545742303133,0.018026018515229225,0.022050464525818825,0.026041783392429352,0.12092173844575882,0.026875564828515053,-0.02147030644118786,-0.033524930477142334,-0.03394376114010811,0.03243105858564377,0.018987493589520454,-0.009494468569755554,0.08818777650594711,0.018704988062381744,-0.02572951652109623,0.01446179673075676,0.09136103838682175,-0.01784094236791134,-0.019004013389348984,-0.02173219434916973,-0.020588509738445282,-0.012593010440468788,-0.009653029032051563,-0.008959943428635597,-0.008427280932664871,-0.004492270760238171,0.02633585035800934,-0.012826687656342983,0.010353777557611465,0.016380205750465393,-0.009070532396435738,0.04161480441689491,-0.00606816541403532,-0.006782437674701214,-0.03357749432325363,-0.02749728038907051,-0.013996919617056847,0.00807399395853281,-0.0072656068950891495,0.0007809746894054115,0.0005824478575959802,-0.005401094444096088,0.009352262131869793,-0.013694874942302704,-0.019342850893735886,0.019545983523130417,0.010080722160637379,0.010989061556756496,0.05447246506810188,0.023812036961317062,0.08251624554395676,0.0010189227759838104,-0.017772356048226357,-0.0476006343960762,-0.034802019596099854,-0.055535055696964264,0.008786897175014019,0.009677646681666374,0.012761443853378296,0.019719664007425308,0.027882438153028488,0.044607337564229965,0.09878735989332199,0.031119054183363914,0.022251002490520477,0.01551636029034853,0.010906768962740898,0.010754511691629887,0.009447717107832432,0.14126496016979218,-0.029214760288596153,-0.03667306527495384,-0.05813264846801758,-0.05460703372955322,-0.0523674376308918,-0.026079919189214706,-0.05813436210155487,-0.044404927641153336,0.01721235364675522,0.008428633213043213,-0.0003416241961531341,0.03054065629839897,0.03215814381837845],\"type\":\"scatter3d\"},{\"hovertemplate\":\"type=left_hand<br>x=%{x}<br>y=%{y}<br>z=%{z}<extra></extra>\",\"legendgroup\":\"left_hand\",\"marker\":{\"color\":\"#EF553B\",\"symbol\":\"circle\"},\"mode\":\"markers\",\"name\":\"left_hand\",\"scene\":\"scene\",\"showlegend\":true,\"x\":[null,null,null,null,null,null,null,null,null,null,null,null,null,null,null,null,null,null,null,null,null],\"y\":[null,null,null,null,null,null,null,null,null,null,null,null,null,null,null,null,null,null,null,null,null],\"z\":[null,null,null,null,null,null,null,null,null,null,null,null,null,null,null,null,null,null,null,null,null],\"type\":\"scatter3d\"},{\"hovertemplate\":\"type=pose<br>x=%{x}<br>y=%{y}<br>z=%{z}<extra></extra>\",\"legendgroup\":\"pose\",\"marker\":{\"color\":\"#00cc96\",\"symbol\":\"circle\"},\"mode\":\"markers\",\"name\":\"pose\",\"scene\":\"scene\",\"showlegend\":true,\"x\":[0.4215412735939026,0.46983566880226135,0.49415332078933716,0.5155096054077148,0.388230562210083,0.3609008491039276,0.33486711978912354,0.5444431304931641,0.2964390516281128,0.4659167230129242,0.36822882294654846,0.7193345427513123,0.15463560819625854,0.8754453063011169,0.11771269887685776,0.5389438271522522,0.18163125216960907,0.4746793806552887,0.18822160363197327,0.5506742596626282,0.18490415811538696,0.47094208002090454,0.20658865571022034,0.6777883768081665,0.3230823278427124,0.7481198906898499,0.4081238806247711,0.7828349471092224,0.4619313180446625,0.7991742491722107,0.45670896768569946,0.7411044239997864,0.5138000845909119],\"y\":[0.3443298637866974,0.3033530116081238,0.30607742071151733,0.3085835874080658,0.28926414251327515,0.2844667136669159,0.2807390093803406,0.32537248730659485,0.2984258830547333,0.3986623287200928,0.38856539130210876,0.5083616971969604,0.5325334072113037,0.8559607267379761,0.8778519630432129,0.7088718414306641,0.8406782746315002,0.6873027086257935,0.7971378564834595,0.6651815176010132,0.7481908202171326,0.6270293593406677,0.7572081685066223,1.0132825374603271,1.1011316776275635,1.555541753768921,1.5726890563964844,1.9788373708724976,1.987334966659546,2.0330026149749756,2.0396931171417236,2.1220438480377197,2.132246732711792],\"z\":[-1.3964308500289917,-1.34757661819458,-1.3479024171829224,-1.3483906984329224,-1.334761142730713,-1.333986759185791,-1.334251046180725,-0.7969427108764648,-0.7233461141586304,-1.171864628791809,-1.1547826528549194,-0.49666208028793335,-0.14660799503326416,-0.808066189289093,-0.6278954148292542,-1.4602502584457397,-2.0375304222106934,-1.6164451837539673,-2.243602752685547,-1.5439577102661133,-2.249060869216919,-1.4400594234466553,-2.0715904235839844,-0.1819077432155609,0.18707577884197235,-0.04384257644414902,0.39386361837387085,0.7877219319343567,1.1201786994934082,0.8220676779747009,1.1733778715133667,-0.0002467787417117506,0.29004746675491333],\"type\":\"scatter3d\"},{\"hovertemplate\":\"type=right_hand<br>x=%{x}<br>y=%{y}<br>z=%{z}<extra></extra>\",\"legendgroup\":\"right_hand\",\"marker\":{\"color\":\"#ab63fa\",\"symbol\":\"circle\"},\"mode\":\"markers\",\"name\":\"right_hand\",\"scene\":\"scene\",\"showlegend\":true,\"x\":[null,null,null,null,null,null,null,null,null,null,null,null,null,null,null,null,null,null,null,null,null],\"y\":[null,null,null,null,null,null,null,null,null,null,null,null,null,null,null,null,null,null,null,null,null],\"z\":[null,null,null,null,null,null,null,null,null,null,null,null,null,null,null,null,null,null,null,null,null],\"type\":\"scatter3d\"}],                        {\"template\":{\"data\":{\"histogram2dcontour\":[{\"type\":\"histogram2dcontour\",\"colorbar\":{\"outlinewidth\":0,\"ticks\":\"\"},\"colorscale\":[[0.0,\"#0d0887\"],[0.1111111111111111,\"#46039f\"],[0.2222222222222222,\"#7201a8\"],[0.3333333333333333,\"#9c179e\"],[0.4444444444444444,\"#bd3786\"],[0.5555555555555556,\"#d8576b\"],[0.6666666666666666,\"#ed7953\"],[0.7777777777777778,\"#fb9f3a\"],[0.8888888888888888,\"#fdca26\"],[1.0,\"#f0f921\"]]}],\"choropleth\":[{\"type\":\"choropleth\",\"colorbar\":{\"outlinewidth\":0,\"ticks\":\"\"}}],\"histogram2d\":[{\"type\":\"histogram2d\",\"colorbar\":{\"outlinewidth\":0,\"ticks\":\"\"},\"colorscale\":[[0.0,\"#0d0887\"],[0.1111111111111111,\"#46039f\"],[0.2222222222222222,\"#7201a8\"],[0.3333333333333333,\"#9c179e\"],[0.4444444444444444,\"#bd3786\"],[0.5555555555555556,\"#d8576b\"],[0.6666666666666666,\"#ed7953\"],[0.7777777777777778,\"#fb9f3a\"],[0.8888888888888888,\"#fdca26\"],[1.0,\"#f0f921\"]]}],\"heatmap\":[{\"type\":\"heatmap\",\"colorbar\":{\"outlinewidth\":0,\"ticks\":\"\"},\"colorscale\":[[0.0,\"#0d0887\"],[0.1111111111111111,\"#46039f\"],[0.2222222222222222,\"#7201a8\"],[0.3333333333333333,\"#9c179e\"],[0.4444444444444444,\"#bd3786\"],[0.5555555555555556,\"#d8576b\"],[0.6666666666666666,\"#ed7953\"],[0.7777777777777778,\"#fb9f3a\"],[0.8888888888888888,\"#fdca26\"],[1.0,\"#f0f921\"]]}],\"heatmapgl\":[{\"type\":\"heatmapgl\",\"colorbar\":{\"outlinewidth\":0,\"ticks\":\"\"},\"colorscale\":[[0.0,\"#0d0887\"],[0.1111111111111111,\"#46039f\"],[0.2222222222222222,\"#7201a8\"],[0.3333333333333333,\"#9c179e\"],[0.4444444444444444,\"#bd3786\"],[0.5555555555555556,\"#d8576b\"],[0.6666666666666666,\"#ed7953\"],[0.7777777777777778,\"#fb9f3a\"],[0.8888888888888888,\"#fdca26\"],[1.0,\"#f0f921\"]]}],\"contourcarpet\":[{\"type\":\"contourcarpet\",\"colorbar\":{\"outlinewidth\":0,\"ticks\":\"\"}}],\"contour\":[{\"type\":\"contour\",\"colorbar\":{\"outlinewidth\":0,\"ticks\":\"\"},\"colorscale\":[[0.0,\"#0d0887\"],[0.1111111111111111,\"#46039f\"],[0.2222222222222222,\"#7201a8\"],[0.3333333333333333,\"#9c179e\"],[0.4444444444444444,\"#bd3786\"],[0.5555555555555556,\"#d8576b\"],[0.6666666666666666,\"#ed7953\"],[0.7777777777777778,\"#fb9f3a\"],[0.8888888888888888,\"#fdca26\"],[1.0,\"#f0f921\"]]}],\"surface\":[{\"type\":\"surface\",\"colorbar\":{\"outlinewidth\":0,\"ticks\":\"\"},\"colorscale\":[[0.0,\"#0d0887\"],[0.1111111111111111,\"#46039f\"],[0.2222222222222222,\"#7201a8\"],[0.3333333333333333,\"#9c179e\"],[0.4444444444444444,\"#bd3786\"],[0.5555555555555556,\"#d8576b\"],[0.6666666666666666,\"#ed7953\"],[0.7777777777777778,\"#fb9f3a\"],[0.8888888888888888,\"#fdca26\"],[1.0,\"#f0f921\"]]}],\"mesh3d\":[{\"type\":\"mesh3d\",\"colorbar\":{\"outlinewidth\":0,\"ticks\":\"\"}}],\"scatter\":[{\"fillpattern\":{\"fillmode\":\"overlay\",\"size\":10,\"solidity\":0.2},\"type\":\"scatter\"}],\"parcoords\":[{\"type\":\"parcoords\",\"line\":{\"colorbar\":{\"outlinewidth\":0,\"ticks\":\"\"}}}],\"scatterpolargl\":[{\"type\":\"scatterpolargl\",\"marker\":{\"colorbar\":{\"outlinewidth\":0,\"ticks\":\"\"}}}],\"bar\":[{\"error_x\":{\"color\":\"#2a3f5f\"},\"error_y\":{\"color\":\"#2a3f5f\"},\"marker\":{\"line\":{\"color\":\"#E5ECF6\",\"width\":0.5},\"pattern\":{\"fillmode\":\"overlay\",\"size\":10,\"solidity\":0.2}},\"type\":\"bar\"}],\"scattergeo\":[{\"type\":\"scattergeo\",\"marker\":{\"colorbar\":{\"outlinewidth\":0,\"ticks\":\"\"}}}],\"scatterpolar\":[{\"type\":\"scatterpolar\",\"marker\":{\"colorbar\":{\"outlinewidth\":0,\"ticks\":\"\"}}}],\"histogram\":[{\"marker\":{\"pattern\":{\"fillmode\":\"overlay\",\"size\":10,\"solidity\":0.2}},\"type\":\"histogram\"}],\"scattergl\":[{\"type\":\"scattergl\",\"marker\":{\"colorbar\":{\"outlinewidth\":0,\"ticks\":\"\"}}}],\"scatter3d\":[{\"type\":\"scatter3d\",\"line\":{\"colorbar\":{\"outlinewidth\":0,\"ticks\":\"\"}},\"marker\":{\"colorbar\":{\"outlinewidth\":0,\"ticks\":\"\"}}}],\"scattermapbox\":[{\"type\":\"scattermapbox\",\"marker\":{\"colorbar\":{\"outlinewidth\":0,\"ticks\":\"\"}}}],\"scatterternary\":[{\"type\":\"scatterternary\",\"marker\":{\"colorbar\":{\"outlinewidth\":0,\"ticks\":\"\"}}}],\"scattercarpet\":[{\"type\":\"scattercarpet\",\"marker\":{\"colorbar\":{\"outlinewidth\":0,\"ticks\":\"\"}}}],\"carpet\":[{\"aaxis\":{\"endlinecolor\":\"#2a3f5f\",\"gridcolor\":\"white\",\"linecolor\":\"white\",\"minorgridcolor\":\"white\",\"startlinecolor\":\"#2a3f5f\"},\"baxis\":{\"endlinecolor\":\"#2a3f5f\",\"gridcolor\":\"white\",\"linecolor\":\"white\",\"minorgridcolor\":\"white\",\"startlinecolor\":\"#2a3f5f\"},\"type\":\"carpet\"}],\"table\":[{\"cells\":{\"fill\":{\"color\":\"#EBF0F8\"},\"line\":{\"color\":\"white\"}},\"header\":{\"fill\":{\"color\":\"#C8D4E3\"},\"line\":{\"color\":\"white\"}},\"type\":\"table\"}],\"barpolar\":[{\"marker\":{\"line\":{\"color\":\"#E5ECF6\",\"width\":0.5},\"pattern\":{\"fillmode\":\"overlay\",\"size\":10,\"solidity\":0.2}},\"type\":\"barpolar\"}],\"pie\":[{\"automargin\":true,\"type\":\"pie\"}]},\"layout\":{\"autotypenumbers\":\"strict\",\"colorway\":[\"#636efa\",\"#EF553B\",\"#00cc96\",\"#ab63fa\",\"#FFA15A\",\"#19d3f3\",\"#FF6692\",\"#B6E880\",\"#FF97FF\",\"#FECB52\"],\"font\":{\"color\":\"#2a3f5f\"},\"hovermode\":\"closest\",\"hoverlabel\":{\"align\":\"left\"},\"paper_bgcolor\":\"white\",\"plot_bgcolor\":\"#E5ECF6\",\"polar\":{\"bgcolor\":\"#E5ECF6\",\"angularaxis\":{\"gridcolor\":\"white\",\"linecolor\":\"white\",\"ticks\":\"\"},\"radialaxis\":{\"gridcolor\":\"white\",\"linecolor\":\"white\",\"ticks\":\"\"}},\"ternary\":{\"bgcolor\":\"#E5ECF6\",\"aaxis\":{\"gridcolor\":\"white\",\"linecolor\":\"white\",\"ticks\":\"\"},\"baxis\":{\"gridcolor\":\"white\",\"linecolor\":\"white\",\"ticks\":\"\"},\"caxis\":{\"gridcolor\":\"white\",\"linecolor\":\"white\",\"ticks\":\"\"}},\"coloraxis\":{\"colorbar\":{\"outlinewidth\":0,\"ticks\":\"\"}},\"colorscale\":{\"sequential\":[[0.0,\"#0d0887\"],[0.1111111111111111,\"#46039f\"],[0.2222222222222222,\"#7201a8\"],[0.3333333333333333,\"#9c179e\"],[0.4444444444444444,\"#bd3786\"],[0.5555555555555556,\"#d8576b\"],[0.6666666666666666,\"#ed7953\"],[0.7777777777777778,\"#fb9f3a\"],[0.8888888888888888,\"#fdca26\"],[1.0,\"#f0f921\"]],\"sequentialminus\":[[0.0,\"#0d0887\"],[0.1111111111111111,\"#46039f\"],[0.2222222222222222,\"#7201a8\"],[0.3333333333333333,\"#9c179e\"],[0.4444444444444444,\"#bd3786\"],[0.5555555555555556,\"#d8576b\"],[0.6666666666666666,\"#ed7953\"],[0.7777777777777778,\"#fb9f3a\"],[0.8888888888888888,\"#fdca26\"],[1.0,\"#f0f921\"]],\"diverging\":[[0,\"#8e0152\"],[0.1,\"#c51b7d\"],[0.2,\"#de77ae\"],[0.3,\"#f1b6da\"],[0.4,\"#fde0ef\"],[0.5,\"#f7f7f7\"],[0.6,\"#e6f5d0\"],[0.7,\"#b8e186\"],[0.8,\"#7fbc41\"],[0.9,\"#4d9221\"],[1,\"#276419\"]]},\"xaxis\":{\"gridcolor\":\"white\",\"linecolor\":\"white\",\"ticks\":\"\",\"title\":{\"standoff\":15},\"zerolinecolor\":\"white\",\"automargin\":true,\"zerolinewidth\":2},\"yaxis\":{\"gridcolor\":\"white\",\"linecolor\":\"white\",\"ticks\":\"\",\"title\":{\"standoff\":15},\"zerolinecolor\":\"white\",\"automargin\":true,\"zerolinewidth\":2},\"scene\":{\"xaxis\":{\"backgroundcolor\":\"#E5ECF6\",\"gridcolor\":\"white\",\"linecolor\":\"white\",\"showbackground\":true,\"ticks\":\"\",\"zerolinecolor\":\"white\",\"gridwidth\":2},\"yaxis\":{\"backgroundcolor\":\"#E5ECF6\",\"gridcolor\":\"white\",\"linecolor\":\"white\",\"showbackground\":true,\"ticks\":\"\",\"zerolinecolor\":\"white\",\"gridwidth\":2},\"zaxis\":{\"backgroundcolor\":\"#E5ECF6\",\"gridcolor\":\"white\",\"linecolor\":\"white\",\"showbackground\":true,\"ticks\":\"\",\"zerolinecolor\":\"white\",\"gridwidth\":2}},\"shapedefaults\":{\"line\":{\"color\":\"#2a3f5f\"}},\"annotationdefaults\":{\"arrowcolor\":\"#2a3f5f\",\"arrowhead\":0,\"arrowwidth\":1},\"geo\":{\"bgcolor\":\"white\",\"landcolor\":\"#E5ECF6\",\"subunitcolor\":\"white\",\"showland\":true,\"showlakes\":true,\"lakecolor\":\"white\"},\"title\":{\"x\":0.05},\"mapbox\":{\"style\":\"light\"}}},\"scene\":{\"domain\":{\"x\":[0.0,1.0],\"y\":[0.0,1.0]},\"xaxis\":{\"title\":{\"text\":\"x\"}},\"yaxis\":{\"title\":{\"text\":\"y\"}},\"zaxis\":{\"title\":{\"text\":\"z\"}}},\"legend\":{\"title\":{\"text\":\"type\"},\"tracegroupgap\":0},\"margin\":{\"t\":60}},                        {\"responsive\": true}                    ).then(function(){\n",
       "                            \n",
       "var gd = document.getElementById('df56da39-fe0a-4ae6-8078-bde59b4163b9');\n",
       "var x = new MutationObserver(function (mutations, observer) {{\n",
       "        var display = window.getComputedStyle(gd).display;\n",
       "        if (!display || display === 'none') {{\n",
       "            console.log([gd, 'removed!']);\n",
       "            Plotly.purge(gd);\n",
       "            observer.disconnect();\n",
       "        }}\n",
       "}});\n",
       "\n",
       "// Listen for the removal of the full notebook cells\n",
       "var notebookContainer = gd.closest('#notebook-container');\n",
       "if (notebookContainer) {{\n",
       "    x.observe(notebookContainer, {childList: true});\n",
       "}}\n",
       "\n",
       "// Listen for the clearing of the current output cell\n",
       "var outputEl = gd.closest('.output');\n",
       "if (outputEl) {{\n",
       "    x.observe(outputEl, {childList: true});\n",
       "}}\n",
       "\n",
       "                        })                };                });            </script>        </div>"
      ]
     },
     "metadata": {},
     "output_type": "display_data"
    },
    {
     "data": {
      "application/javascript": [
       "\n",
       "            setTimeout(function() {\n",
       "                var nbb_cell_id = 24;\n",
       "                var nbb_unformatted_code = \"import plotly.express as px\\nexample_frame = landmark_example.query(\\\"frame == 25\\\")\\npx.scatter_3d(example_frame, x='x', y='y', z='z', color='type')\";\n",
       "                var nbb_formatted_code = \"import plotly.express as px\\n\\nexample_frame = landmark_example.query(\\\"frame == 25\\\")\\npx.scatter_3d(example_frame, x=\\\"x\\\", y=\\\"y\\\", z=\\\"z\\\", color=\\\"type\\\")\";\n",
       "                var nbb_cells = Jupyter.notebook.get_cells();\n",
       "                for (var i = 0; i < nbb_cells.length; ++i) {\n",
       "                    if (nbb_cells[i].input_prompt_number == nbb_cell_id) {\n",
       "                        if (nbb_cells[i].get_text() == nbb_unformatted_code) {\n",
       "                             nbb_cells[i].set_text(nbb_formatted_code);\n",
       "                        }\n",
       "                        break;\n",
       "                    }\n",
       "                }\n",
       "            }, 500);\n",
       "            "
      ],
      "text/plain": [
       "<IPython.core.display.Javascript object>"
      ]
     },
     "metadata": {},
     "output_type": "display_data"
    }
   ],
   "source": [
    "import plotly.express as px\n",
    "example_frame = landmark_example.query(\"frame == 25\")\n",
    "px.scatter_3d(example_frame, x='x', y='y', z='z', color='type')"
   ]
  },
  {
   "cell_type": "code",
   "execution_count": null,
   "id": "3c6c6e26",
   "metadata": {
    "execution": {
     "iopub.execute_input": "2023-03-03T20:23:25.309156Z",
     "iopub.status.busy": "2023-03-03T20:23:25.308778Z",
     "iopub.status.idle": "2023-03-03T20:23:25.369050Z",
     "shell.execute_reply": "2023-03-03T20:23:25.367980Z",
     "shell.execute_reply.started": "2023-03-03T20:23:25.309119Z"
    },
    "papermill": {
     "duration": 0.018821,
     "end_time": "2023-03-03T21:04:40.260342",
     "exception": false,
     "start_time": "2023-03-03T21:04:40.241521",
     "status": "completed"
    },
    "tags": []
   },
   "outputs": [],
   "source": []
  },
  {
   "cell_type": "code",
   "execution_count": 25,
   "id": "6775c5c2",
   "metadata": {
    "execution": {
     "iopub.execute_input": "2023-03-03T21:04:40.299471Z",
     "iopub.status.busy": "2023-03-03T21:04:40.299042Z",
     "iopub.status.idle": "2023-03-03T21:04:40.310389Z",
     "shell.execute_reply": "2023-03-03T21:04:40.309382Z"
    },
    "papermill": {
     "duration": 0.034755,
     "end_time": "2023-03-03T21:04:40.313355",
     "exception": false,
     "start_time": "2023-03-03T21:04:40.278600",
     "status": "completed"
    },
    "tags": []
   },
   "outputs": [
    {
     "data": {
      "text/plain": [
       "dict_keys([('x', 'min'), ('x', 'max'), ('x', 'mean'), ('y', 'min'), ('y', 'max'), ('y', 'mean'), ('z', 'min'), ('z', 'max'), ('z', 'mean')])"
      ]
     },
     "execution_count": 25,
     "metadata": {},
     "output_type": "execute_result"
    },
    {
     "data": {
      "application/javascript": [
       "\n",
       "            setTimeout(function() {\n",
       "                var nbb_cell_id = 25;\n",
       "                var nbb_unformatted_code = \"xyz_meta.keys()\";\n",
       "                var nbb_formatted_code = \"xyz_meta.keys()\";\n",
       "                var nbb_cells = Jupyter.notebook.get_cells();\n",
       "                for (var i = 0; i < nbb_cells.length; ++i) {\n",
       "                    if (nbb_cells[i].input_prompt_number == nbb_cell_id) {\n",
       "                        if (nbb_cells[i].get_text() == nbb_unformatted_code) {\n",
       "                             nbb_cells[i].set_text(nbb_formatted_code);\n",
       "                        }\n",
       "                        break;\n",
       "                    }\n",
       "                }\n",
       "            }, 500);\n",
       "            "
      ],
      "text/plain": [
       "<IPython.core.display.Javascript object>"
      ]
     },
     "metadata": {},
     "output_type": "display_data"
    }
   ],
   "source": [
    "xyz_meta.keys()"
   ]
  },
  {
   "cell_type": "code",
   "execution_count": null,
   "id": "d5298ef3",
   "metadata": {
    "papermill": {
     "duration": 0.018737,
     "end_time": "2023-03-03T21:04:40.350840",
     "exception": false,
     "start_time": "2023-03-03T21:04:40.332103",
     "status": "completed"
    },
    "tags": []
   },
   "outputs": [],
   "source": []
  },
  {
   "cell_type": "code",
   "execution_count": null,
   "id": "6e9ece7e",
   "metadata": {
    "papermill": {
     "duration": 0.019027,
     "end_time": "2023-03-03T21:04:40.389775",
     "exception": false,
     "start_time": "2023-03-03T21:04:40.370748",
     "status": "completed"
    },
    "tags": []
   },
   "outputs": [],
   "source": []
  },
  {
   "cell_type": "markdown",
   "id": "56ab6356",
   "metadata": {
    "_cell_guid": "7babf678-eeff-42f1-b298-bd44771a9bfb",
    "_uuid": "db40681f-9c45-4730-8a0f-bc7a1216b09c",
    "execution": {
     "iopub.execute_input": "2023-02-27T06:39:32.500410Z",
     "iopub.status.busy": "2023-02-27T06:39:32.500038Z",
     "iopub.status.idle": "2023-02-27T06:39:32.509396Z",
     "shell.execute_reply": "2023-02-27T06:39:32.507937Z",
     "shell.execute_reply.started": "2023-02-27T06:39:32.500378Z"
    },
    "papermill": {
     "duration": 0.018627,
     "end_time": "2023-03-03T21:04:40.427833",
     "exception": false,
     "start_time": "2023-03-03T21:04:40.409206",
     "status": "completed"
    },
    "tags": []
   },
   "source": [
    "## EVALUATION \n",
    "\n",
    "\"The evaluation metric for this contest is simple classification accuracy.\""
   ]
  },
  {
   "cell_type": "code",
   "execution_count": null,
   "id": "f017c0bc",
   "metadata": {
    "_cell_guid": "baf78268-8818-4c0c-99a8-f2efaadce134",
    "_uuid": "3596fe94-827a-42c3-a823-255c3cb65d5f",
    "collapsed": false,
    "jupyter": {
     "outputs_hidden": false
    },
    "papermill": {
     "duration": 0.019062,
     "end_time": "2023-03-03T21:04:40.466732",
     "exception": false,
     "start_time": "2023-03-03T21:04:40.447670",
     "status": "completed"
    },
    "tags": []
   },
   "outputs": [],
   "source": []
  },
  {
   "cell_type": "code",
   "execution_count": null,
   "id": "d7ea69eb",
   "metadata": {
    "papermill": {
     "duration": 0.018884,
     "end_time": "2023-03-03T21:04:40.504198",
     "exception": false,
     "start_time": "2023-03-03T21:04:40.485314",
     "status": "completed"
    },
    "tags": []
   },
   "outputs": [],
   "source": []
  }
 ],
 "metadata": {
  "kernelspec": {
   "display_name": "Python 3",
   "language": "python",
   "name": "python3"
  },
  "language_info": {
   "codemirror_mode": {
    "name": "ipython",
    "version": 3
   },
   "file_extension": ".py",
   "mimetype": "text/x-python",
   "name": "python",
   "nbconvert_exporter": "python",
   "pygments_lexer": "ipython3",
   "version": "3.7.12"
  },
  "papermill": {
   "default_parameters": {},
   "duration": 78.117809,
   "end_time": "2023-03-03T21:04:41.550476",
   "environment_variables": {},
   "exception": null,
   "input_path": "__notebook__.ipynb",
   "output_path": "__notebook__.ipynb",
   "parameters": {},
   "start_time": "2023-03-03T21:03:23.432667",
   "version": "2.4.0"
  },
  "widgets": {
   "application/vnd.jupyter.widget-state+json": {
    "state": {
     "0359189222324643aafab591c43760c4": {
      "model_module": "@jupyter-widgets/controls",
      "model_module_version": "1.5.0",
      "model_name": "HBoxModel",
      "state": {
       "_dom_classes": [],
       "_model_module": "@jupyter-widgets/controls",
       "_model_module_version": "1.5.0",
       "_model_name": "HBoxModel",
       "_view_count": null,
       "_view_module": "@jupyter-widgets/controls",
       "_view_module_version": "1.5.0",
       "_view_name": "HBoxView",
       "box_style": "",
       "children": [
        "IPY_MODEL_bc21917b27db4d938825e33fa92929d4",
        "IPY_MODEL_f266861a59964cc7b4dbf89a1d7c8014",
        "IPY_MODEL_e8f5fb6a9314487e831847d94df2520c"
       ],
       "layout": "IPY_MODEL_e9a3894b49a843489a15c6dad99a7d48"
      }
     },
     "1a0fd4ad75d444dda6ff68c6525ae00c": {
      "model_module": "@jupyter-widgets/base",
      "model_module_version": "1.2.0",
      "model_name": "LayoutModel",
      "state": {
       "_model_module": "@jupyter-widgets/base",
       "_model_module_version": "1.2.0",
       "_model_name": "LayoutModel",
       "_view_count": null,
       "_view_module": "@jupyter-widgets/base",
       "_view_module_version": "1.2.0",
       "_view_name": "LayoutView",
       "align_content": null,
       "align_items": null,
       "align_self": null,
       "border": null,
       "bottom": null,
       "display": null,
       "flex": null,
       "flex_flow": null,
       "grid_area": null,
       "grid_auto_columns": null,
       "grid_auto_flow": null,
       "grid_auto_rows": null,
       "grid_column": null,
       "grid_gap": null,
       "grid_row": null,
       "grid_template_areas": null,
       "grid_template_columns": null,
       "grid_template_rows": null,
       "height": null,
       "justify_content": null,
       "justify_items": null,
       "left": null,
       "margin": null,
       "max_height": null,
       "max_width": null,
       "min_height": null,
       "min_width": null,
       "object_fit": null,
       "object_position": null,
       "order": null,
       "overflow": null,
       "overflow_x": null,
       "overflow_y": null,
       "padding": null,
       "right": null,
       "top": null,
       "visibility": null,
       "width": null
      }
     },
     "356e3435f22a4a50adea2cbccc2e9fa4": {
      "model_module": "@jupyter-widgets/base",
      "model_module_version": "1.2.0",
      "model_name": "LayoutModel",
      "state": {
       "_model_module": "@jupyter-widgets/base",
       "_model_module_version": "1.2.0",
       "_model_name": "LayoutModel",
       "_view_count": null,
       "_view_module": "@jupyter-widgets/base",
       "_view_module_version": "1.2.0",
       "_view_name": "LayoutView",
       "align_content": null,
       "align_items": null,
       "align_self": null,
       "border": null,
       "bottom": null,
       "display": null,
       "flex": null,
       "flex_flow": null,
       "grid_area": null,
       "grid_auto_columns": null,
       "grid_auto_flow": null,
       "grid_auto_rows": null,
       "grid_column": null,
       "grid_gap": null,
       "grid_row": null,
       "grid_template_areas": null,
       "grid_template_columns": null,
       "grid_template_rows": null,
       "height": null,
       "justify_content": null,
       "justify_items": null,
       "left": null,
       "margin": null,
       "max_height": null,
       "max_width": null,
       "min_height": null,
       "min_width": null,
       "object_fit": null,
       "object_position": null,
       "order": null,
       "overflow": null,
       "overflow_x": null,
       "overflow_y": null,
       "padding": null,
       "right": null,
       "top": null,
       "visibility": null,
       "width": null
      }
     },
     "5e3676194392422e9bb469aadf544dc1": {
      "model_module": "@jupyter-widgets/controls",
      "model_module_version": "1.5.0",
      "model_name": "DescriptionStyleModel",
      "state": {
       "_model_module": "@jupyter-widgets/controls",
       "_model_module_version": "1.5.0",
       "_model_name": "DescriptionStyleModel",
       "_view_count": null,
       "_view_module": "@jupyter-widgets/base",
       "_view_module_version": "1.2.0",
       "_view_name": "StyleView",
       "description_width": ""
      }
     },
     "6ebf14a42458471495def8e214a2b125": {
      "model_module": "@jupyter-widgets/controls",
      "model_module_version": "1.5.0",
      "model_name": "ProgressStyleModel",
      "state": {
       "_model_module": "@jupyter-widgets/controls",
       "_model_module_version": "1.5.0",
       "_model_name": "ProgressStyleModel",
       "_view_count": null,
       "_view_module": "@jupyter-widgets/base",
       "_view_module_version": "1.2.0",
       "_view_name": "StyleView",
       "bar_color": null,
       "description_width": ""
      }
     },
     "7cb1bbb90d984f748471c04ea8f61e40": {
      "model_module": "@jupyter-widgets/base",
      "model_module_version": "1.2.0",
      "model_name": "LayoutModel",
      "state": {
       "_model_module": "@jupyter-widgets/base",
       "_model_module_version": "1.2.0",
       "_model_name": "LayoutModel",
       "_view_count": null,
       "_view_module": "@jupyter-widgets/base",
       "_view_module_version": "1.2.0",
       "_view_name": "LayoutView",
       "align_content": null,
       "align_items": null,
       "align_self": null,
       "border": null,
       "bottom": null,
       "display": null,
       "flex": null,
       "flex_flow": null,
       "grid_area": null,
       "grid_auto_columns": null,
       "grid_auto_flow": null,
       "grid_auto_rows": null,
       "grid_column": null,
       "grid_gap": null,
       "grid_row": null,
       "grid_template_areas": null,
       "grid_template_columns": null,
       "grid_template_rows": null,
       "height": null,
       "justify_content": null,
       "justify_items": null,
       "left": null,
       "margin": null,
       "max_height": null,
       "max_width": null,
       "min_height": null,
       "min_width": null,
       "object_fit": null,
       "object_position": null,
       "order": null,
       "overflow": null,
       "overflow_x": null,
       "overflow_y": null,
       "padding": null,
       "right": null,
       "top": null,
       "visibility": null,
       "width": null
      }
     },
     "bc21917b27db4d938825e33fa92929d4": {
      "model_module": "@jupyter-widgets/controls",
      "model_module_version": "1.5.0",
      "model_name": "HTMLModel",
      "state": {
       "_dom_classes": [],
       "_model_module": "@jupyter-widgets/controls",
       "_model_module_version": "1.5.0",
       "_model_name": "HTMLModel",
       "_view_count": null,
       "_view_module": "@jupyter-widgets/controls",
       "_view_module_version": "1.5.0",
       "_view_name": "HTMLView",
       "description": "",
       "description_tooltip": null,
       "layout": "IPY_MODEL_356e3435f22a4a50adea2cbccc2e9fa4",
       "placeholder": "​",
       "style": "IPY_MODEL_dc219a45106f4e809e15d7dbbeb85f19",
       "value": "  1%"
      }
     },
     "dc219a45106f4e809e15d7dbbeb85f19": {
      "model_module": "@jupyter-widgets/controls",
      "model_module_version": "1.5.0",
      "model_name": "DescriptionStyleModel",
      "state": {
       "_model_module": "@jupyter-widgets/controls",
       "_model_module_version": "1.5.0",
       "_model_name": "DescriptionStyleModel",
       "_view_count": null,
       "_view_module": "@jupyter-widgets/base",
       "_view_module_version": "1.2.0",
       "_view_name": "StyleView",
       "description_width": ""
      }
     },
     "e8f5fb6a9314487e831847d94df2520c": {
      "model_module": "@jupyter-widgets/controls",
      "model_module_version": "1.5.0",
      "model_name": "HTMLModel",
      "state": {
       "_dom_classes": [],
       "_model_module": "@jupyter-widgets/controls",
       "_model_module_version": "1.5.0",
       "_model_name": "HTMLModel",
       "_view_count": null,
       "_view_module": "@jupyter-widgets/controls",
       "_view_module_version": "1.5.0",
       "_view_name": "HTMLView",
       "description": "",
       "description_tooltip": null,
       "layout": "IPY_MODEL_1a0fd4ad75d444dda6ff68c6525ae00c",
       "placeholder": "​",
       "style": "IPY_MODEL_5e3676194392422e9bb469aadf544dc1",
       "value": " 1000/94477 [00:38&lt;51:38, 30.17it/s]"
      }
     },
     "e9a3894b49a843489a15c6dad99a7d48": {
      "model_module": "@jupyter-widgets/base",
      "model_module_version": "1.2.0",
      "model_name": "LayoutModel",
      "state": {
       "_model_module": "@jupyter-widgets/base",
       "_model_module_version": "1.2.0",
       "_model_name": "LayoutModel",
       "_view_count": null,
       "_view_module": "@jupyter-widgets/base",
       "_view_module_version": "1.2.0",
       "_view_name": "LayoutView",
       "align_content": null,
       "align_items": null,
       "align_self": null,
       "border": null,
       "bottom": null,
       "display": null,
       "flex": null,
       "flex_flow": null,
       "grid_area": null,
       "grid_auto_columns": null,
       "grid_auto_flow": null,
       "grid_auto_rows": null,
       "grid_column": null,
       "grid_gap": null,
       "grid_row": null,
       "grid_template_areas": null,
       "grid_template_columns": null,
       "grid_template_rows": null,
       "height": null,
       "justify_content": null,
       "justify_items": null,
       "left": null,
       "margin": null,
       "max_height": null,
       "max_width": null,
       "min_height": null,
       "min_width": null,
       "object_fit": null,
       "object_position": null,
       "order": null,
       "overflow": null,
       "overflow_x": null,
       "overflow_y": null,
       "padding": null,
       "right": null,
       "top": null,
       "visibility": null,
       "width": null
      }
     },
     "f266861a59964cc7b4dbf89a1d7c8014": {
      "model_module": "@jupyter-widgets/controls",
      "model_module_version": "1.5.0",
      "model_name": "FloatProgressModel",
      "state": {
       "_dom_classes": [],
       "_model_module": "@jupyter-widgets/controls",
       "_model_module_version": "1.5.0",
       "_model_name": "FloatProgressModel",
       "_view_count": null,
       "_view_module": "@jupyter-widgets/controls",
       "_view_module_version": "1.5.0",
       "_view_name": "ProgressView",
       "bar_style": "danger",
       "description": "",
       "description_tooltip": null,
       "layout": "IPY_MODEL_7cb1bbb90d984f748471c04ea8f61e40",
       "max": 94477.0,
       "min": 0.0,
       "orientation": "horizontal",
       "style": "IPY_MODEL_6ebf14a42458471495def8e214a2b125",
       "value": 1000.0
      }
     }
    },
    "version_major": 2,
    "version_minor": 0
   }
  }
 },
 "nbformat": 4,
 "nbformat_minor": 5
}
