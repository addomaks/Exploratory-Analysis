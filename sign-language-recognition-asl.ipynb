{
 "cells": [
  {
   "cell_type": "markdown",
   "id": "eed62b40",
   "metadata": {
    "_cell_guid": "e2d90454-08ac-4b83-aa04-e9f7a97cda04",
    "_uuid": "77ba92b0-7095-47aa-bbce-694970972d3b",
    "papermill": {
     "duration": 0.010853,
     "end_time": "2023-03-03T21:24:45.404893",
     "exception": false,
     "start_time": "2023-03-03T21:24:45.394040",
     "status": "completed"
    },
    "tags": []
   },
   "source": [
    "# Sign Language Recognition\n",
    "\n",
    "## OBJECTIVE\n",
    "\"is to help identify signs made in processed videos, which will support the development of mobile apps to help teach parents sign language so they can communicate with their Deaf children.\""
   ]
  },
  {
   "cell_type": "code",
   "execution_count": 1,
   "id": "6a0db625",
   "metadata": {
    "_cell_guid": "64bf512b-9d2a-46d5-a040-0a143efba6e9",
    "_uuid": "74d238cd-5841-479f-b957-496571f2f61d",
    "collapsed": false,
    "execution": {
     "iopub.execute_input": "2023-03-03T21:24:45.427257Z",
     "iopub.status.busy": "2023-03-03T21:24:45.426459Z",
     "iopub.status.idle": "2023-03-03T21:24:46.683285Z",
     "shell.execute_reply": "2023-03-03T21:24:46.681959Z"
    },
    "jupyter": {
     "outputs_hidden": false
    },
    "papermill": {
     "duration": 1.271724,
     "end_time": "2023-03-03T21:24:46.686618",
     "exception": false,
     "start_time": "2023-03-03T21:24:45.414894",
     "status": "completed"
    },
    "tags": []
   },
   "outputs": [],
   "source": [
    "import numpy as np # linear algebra\n",
    "import pandas as pd # data processing, CSV file I/O (e.g. pd.read_csv)\n",
    "import matplotlib.pyplot as plt\n",
    "import seaborn as sns\n",
    "from tqdm.notebook import tqdm\n",
    "plt.style.use('seaborn-colorblind')\n",
    "# Input data files are available in the read-only \"../input/\" directory\n",
    "# For example, running this (by clicking run or pressing Shift+Enter) will list all files under the input directory|"
   ]
  },
  {
   "cell_type": "code",
   "execution_count": 2,
   "id": "aee18d88",
   "metadata": {
    "_cell_guid": "b6631404-2634-4892-8596-cb56a567ecaf",
    "_uuid": "68d70c56-4313-4806-9cbb-9b1bdc8ec4d7",
    "collapsed": false,
    "execution": {
     "iopub.execute_input": "2023-03-03T21:24:46.708855Z",
     "iopub.status.busy": "2023-03-03T21:24:46.707688Z",
     "iopub.status.idle": "2023-03-03T21:25:02.385301Z",
     "shell.execute_reply": "2023-03-03T21:25:02.384005Z"
    },
    "jupyter": {
     "outputs_hidden": false
    },
    "papermill": {
     "duration": 15.691668,
     "end_time": "2023-03-03T21:25:02.387949",
     "exception": false,
     "start_time": "2023-03-03T21:24:46.696281",
     "status": "completed"
    },
    "tags": []
   },
   "outputs": [
    {
     "name": "stdout",
     "output_type": "stream",
     "text": [
      "\u001b[33mWARNING: Running pip as the 'root' user can result in broken permissions and conflicting behaviour with the system package manager. It is recommended to use a virtual environment instead: https://pip.pypa.io/warnings/venv\u001b[0m\u001b[33m\r\n",
      "\u001b[0m"
     ]
    },
    {
     "data": {
      "application/javascript": [
       "\n",
       "            setTimeout(function() {\n",
       "                var nbb_cell_id = 2;\n",
       "                var nbb_unformatted_code = \"!pip install nb_black --quiet\\n%load_ext nb_black\";\n",
       "                var nbb_formatted_code = \"!pip install nb_black --quiet\\n%load_ext nb_black\";\n",
       "                var nbb_cells = Jupyter.notebook.get_cells();\n",
       "                for (var i = 0; i < nbb_cells.length; ++i) {\n",
       "                    if (nbb_cells[i].input_prompt_number == nbb_cell_id) {\n",
       "                        if (nbb_cells[i].get_text() == nbb_unformatted_code) {\n",
       "                             nbb_cells[i].set_text(nbb_formatted_code);\n",
       "                        }\n",
       "                        break;\n",
       "                    }\n",
       "                }\n",
       "            }, 500);\n",
       "            "
      ],
      "text/plain": [
       "<IPython.core.display.Javascript object>"
      ]
     },
     "metadata": {},
     "output_type": "display_data"
    }
   ],
   "source": [
    "!pip install nb_black --quiet\n",
    "%load_ext nb_black"
   ]
  },
  {
   "cell_type": "markdown",
   "id": "c8c21870",
   "metadata": {
    "_cell_guid": "c5786f6a-bed6-485e-b25b-e47f9dbd1b49",
    "_uuid": "232a62db-6136-432d-96ff-bc6c4f4846fd",
    "papermill": {
     "duration": 0.010899,
     "end_time": "2023-03-03T21:25:02.408910",
     "exception": false,
     "start_time": "2023-03-03T21:25:02.398011",
     "status": "completed"
    },
    "tags": []
   },
   "source": [
    "## DATA EDA\n",
    "The landmark data. The landmarks were extracted from raw videos with the MediaPipe holistic model."
   ]
  },
  {
   "cell_type": "code",
   "execution_count": 3,
   "id": "94271ea3",
   "metadata": {
    "_cell_guid": "923d4644-61c1-47a1-94cc-1bafda7e59e8",
    "_uuid": "d3056d3c-23fd-484f-9dfa-236ddc5a5636",
    "collapsed": false,
    "execution": {
     "iopub.execute_input": "2023-03-03T21:25:02.431364Z",
     "iopub.status.busy": "2023-03-03T21:25:02.430663Z",
     "iopub.status.idle": "2023-03-03T21:25:03.539337Z",
     "shell.execute_reply": "2023-03-03T21:25:03.537633Z"
    },
    "jupyter": {
     "outputs_hidden": false
    },
    "papermill": {
     "duration": 1.123247,
     "end_time": "2023-03-03T21:25:03.542048",
     "exception": false,
     "start_time": "2023-03-03T21:25:02.418801",
     "status": "completed"
    },
    "tags": []
   },
   "outputs": [
    {
     "name": "stdout",
     "output_type": "stream",
     "text": [
      "total 6.2M\r\n",
      "   0 drwxr-xr-x  3 nobody    0 Feb 17 20:30 \u001b[0m\u001b[01;34m.\u001b[0m/\r\n",
      "4.0K drwxr-xr-x  3 root   4.0K Mar  3 21:24 \u001b[01;34m..\u001b[0m/\r\n",
      "4.0K -rw-r--r--  1 nobody 3.3K Feb 17 20:30 sign_to_prediction_index_map.json\r\n",
      "6.2M -rw-r--r--  1 nobody 6.2M Feb 17 20:30 train.csv\r\n",
      "   0 drwxr-xr-x 23 nobody    0 Feb 17 20:37 \u001b[01;34mtrain_landmark_files\u001b[0m/\r\n"
     ]
    },
    {
     "data": {
      "application/javascript": [
       "\n",
       "            setTimeout(function() {\n",
       "                var nbb_cell_id = 3;\n",
       "                var nbb_unformatted_code = \"!ls '../input/asl-signs/' -GFlash --color\";\n",
       "                var nbb_formatted_code = \"!ls '../input/asl-signs/' -GFlash --color\";\n",
       "                var nbb_cells = Jupyter.notebook.get_cells();\n",
       "                for (var i = 0; i < nbb_cells.length; ++i) {\n",
       "                    if (nbb_cells[i].input_prompt_number == nbb_cell_id) {\n",
       "                        if (nbb_cells[i].get_text() == nbb_unformatted_code) {\n",
       "                             nbb_cells[i].set_text(nbb_formatted_code);\n",
       "                        }\n",
       "                        break;\n",
       "                    }\n",
       "                }\n",
       "            }, 500);\n",
       "            "
      ],
      "text/plain": [
       "<IPython.core.display.Javascript object>"
      ]
     },
     "metadata": {},
     "output_type": "display_data"
    }
   ],
   "source": [
    "!ls '../input/asl-signs/' -GFlash --color"
   ]
  },
  {
   "cell_type": "code",
   "execution_count": 4,
   "id": "f89683f1",
   "metadata": {
    "_cell_guid": "95941f4d-5d5d-4a88-8988-df4b28776a8c",
    "_uuid": "d5dad3fe-2ed4-4994-85dc-464bbf4755c1",
    "collapsed": false,
    "execution": {
     "iopub.execute_input": "2023-03-03T21:25:03.564922Z",
     "iopub.status.busy": "2023-03-03T21:25:03.564469Z",
     "iopub.status.idle": "2023-03-03T21:25:03.811734Z",
     "shell.execute_reply": "2023-03-03T21:25:03.810450Z"
    },
    "jupyter": {
     "outputs_hidden": false
    },
    "papermill": {
     "duration": 0.262198,
     "end_time": "2023-03-03T21:25:03.814451",
     "exception": false,
     "start_time": "2023-03-03T21:25:03.552253",
     "status": "completed"
    },
    "tags": []
   },
   "outputs": [
    {
     "data": {
      "text/html": [
       "<div>\n",
       "<style scoped>\n",
       "    .dataframe tbody tr th:only-of-type {\n",
       "        vertical-align: middle;\n",
       "    }\n",
       "\n",
       "    .dataframe tbody tr th {\n",
       "        vertical-align: top;\n",
       "    }\n",
       "\n",
       "    .dataframe thead th {\n",
       "        text-align: right;\n",
       "    }\n",
       "</style>\n",
       "<table border=\"1\" class=\"dataframe\">\n",
       "  <thead>\n",
       "    <tr style=\"text-align: right;\">\n",
       "      <th></th>\n",
       "      <th>path</th>\n",
       "      <th>participant_id</th>\n",
       "      <th>sequence_id</th>\n",
       "      <th>sign</th>\n",
       "    </tr>\n",
       "  </thead>\n",
       "  <tbody>\n",
       "    <tr>\n",
       "      <th>0</th>\n",
       "      <td>train_landmark_files/26734/1000035562.parquet</td>\n",
       "      <td>26734</td>\n",
       "      <td>1000035562</td>\n",
       "      <td>blow</td>\n",
       "    </tr>\n",
       "    <tr>\n",
       "      <th>1</th>\n",
       "      <td>train_landmark_files/28656/1000106739.parquet</td>\n",
       "      <td>28656</td>\n",
       "      <td>1000106739</td>\n",
       "      <td>wait</td>\n",
       "    </tr>\n",
       "    <tr>\n",
       "      <th>2</th>\n",
       "      <td>train_landmark_files/16069/100015657.parquet</td>\n",
       "      <td>16069</td>\n",
       "      <td>100015657</td>\n",
       "      <td>cloud</td>\n",
       "    </tr>\n",
       "    <tr>\n",
       "      <th>3</th>\n",
       "      <td>train_landmark_files/25571/1000210073.parquet</td>\n",
       "      <td>25571</td>\n",
       "      <td>1000210073</td>\n",
       "      <td>bird</td>\n",
       "    </tr>\n",
       "    <tr>\n",
       "      <th>4</th>\n",
       "      <td>train_landmark_files/62590/1000240708.parquet</td>\n",
       "      <td>62590</td>\n",
       "      <td>1000240708</td>\n",
       "      <td>owie</td>\n",
       "    </tr>\n",
       "  </tbody>\n",
       "</table>\n",
       "</div>"
      ],
      "text/plain": [
       "                                            path  participant_id  sequence_id  \\\n",
       "0  train_landmark_files/26734/1000035562.parquet           26734   1000035562   \n",
       "1  train_landmark_files/28656/1000106739.parquet           28656   1000106739   \n",
       "2   train_landmark_files/16069/100015657.parquet           16069    100015657   \n",
       "3  train_landmark_files/25571/1000210073.parquet           25571   1000210073   \n",
       "4  train_landmark_files/62590/1000240708.parquet           62590   1000240708   \n",
       "\n",
       "    sign  \n",
       "0   blow  \n",
       "1   wait  \n",
       "2  cloud  \n",
       "3   bird  \n",
       "4   owie  "
      ]
     },
     "execution_count": 4,
     "metadata": {},
     "output_type": "execute_result"
    },
    {
     "data": {
      "application/javascript": [
       "\n",
       "            setTimeout(function() {\n",
       "                var nbb_cell_id = 4;\n",
       "                var nbb_unformatted_code = \"BASE_DIR = '../input/asl-signs'\\ntrain = pd.read_csv(f'{BASE_DIR}/train.csv')\\n'''Train.csv has the path to each parquet file, the participant id, sequence id and sign'''\\ntrain.head()\";\n",
       "                var nbb_formatted_code = \"BASE_DIR = \\\"../input/asl-signs\\\"\\ntrain = pd.read_csv(f\\\"{BASE_DIR}/train.csv\\\")\\n\\\"\\\"\\\"Train.csv has the path to each parquet file, the participant id, sequence id and sign\\\"\\\"\\\"\\ntrain.head()\";\n",
       "                var nbb_cells = Jupyter.notebook.get_cells();\n",
       "                for (var i = 0; i < nbb_cells.length; ++i) {\n",
       "                    if (nbb_cells[i].input_prompt_number == nbb_cell_id) {\n",
       "                        if (nbb_cells[i].get_text() == nbb_unformatted_code) {\n",
       "                             nbb_cells[i].set_text(nbb_formatted_code);\n",
       "                        }\n",
       "                        break;\n",
       "                    }\n",
       "                }\n",
       "            }, 500);\n",
       "            "
      ],
      "text/plain": [
       "<IPython.core.display.Javascript object>"
      ]
     },
     "metadata": {},
     "output_type": "display_data"
    }
   ],
   "source": [
    "BASE_DIR = '../input/asl-signs'\n",
    "train = pd.read_csv(f'{BASE_DIR}/train.csv')\n",
    "'''Train.csv has the path to each parquet file, the participant id, sequence id and sign'''\n",
    "train.head()"
   ]
  },
  {
   "cell_type": "code",
   "execution_count": 5,
   "id": "c4c2d49f",
   "metadata": {
    "_cell_guid": "4b8a9d46-33a5-42c7-ae5e-f6d2db2296f2",
    "_uuid": "e210feba-0049-4f1d-8815-0aebeda9dfd9",
    "collapsed": false,
    "execution": {
     "iopub.execute_input": "2023-03-03T21:25:03.837675Z",
     "iopub.status.busy": "2023-03-03T21:25:03.836788Z",
     "iopub.status.idle": "2023-03-03T21:25:03.847523Z",
     "shell.execute_reply": "2023-03-03T21:25:03.846259Z"
    },
    "jupyter": {
     "outputs_hidden": false
    },
    "papermill": {
     "duration": 0.02534,
     "end_time": "2023-03-03T21:25:03.850235",
     "exception": false,
     "start_time": "2023-03-03T21:25:03.824895",
     "status": "completed"
    },
    "tags": []
   },
   "outputs": [
    {
     "data": {
      "text/plain": [
       "'What signs are we trying to predict.'"
      ]
     },
     "execution_count": 5,
     "metadata": {},
     "output_type": "execute_result"
    },
    {
     "data": {
      "application/javascript": [
       "\n",
       "            setTimeout(function() {\n",
       "                var nbb_cell_id = 5;\n",
       "                var nbb_unformatted_code = \"'''What signs are we trying to predict.'''\";\n",
       "                var nbb_formatted_code = \"\\\"\\\"\\\"What signs are we trying to predict.\\\"\\\"\\\"\";\n",
       "                var nbb_cells = Jupyter.notebook.get_cells();\n",
       "                for (var i = 0; i < nbb_cells.length; ++i) {\n",
       "                    if (nbb_cells[i].input_prompt_number == nbb_cell_id) {\n",
       "                        if (nbb_cells[i].get_text() == nbb_unformatted_code) {\n",
       "                             nbb_cells[i].set_text(nbb_formatted_code);\n",
       "                        }\n",
       "                        break;\n",
       "                    }\n",
       "                }\n",
       "            }, 500);\n",
       "            "
      ],
      "text/plain": [
       "<IPython.core.display.Javascript object>"
      ]
     },
     "metadata": {},
     "output_type": "display_data"
    }
   ],
   "source": [
    "'''What signs are we trying to predict.'''"
   ]
  },
  {
   "cell_type": "code",
   "execution_count": 6,
   "id": "9cd8c73a",
   "metadata": {
    "_cell_guid": "2f53f7d5-5272-4cbc-8133-5d7be0d4a005",
    "_uuid": "3fef0290-2af8-45a7-a133-f2395d0624f9",
    "collapsed": false,
    "execution": {
     "iopub.execute_input": "2023-03-03T21:25:03.874015Z",
     "iopub.status.busy": "2023-03-03T21:25:03.873602Z",
     "iopub.status.idle": "2023-03-03T21:25:03.898809Z",
     "shell.execute_reply": "2023-03-03T21:25:03.897232Z"
    },
    "jupyter": {
     "outputs_hidden": false
    },
    "papermill": {
     "duration": 0.040451,
     "end_time": "2023-03-03T21:25:03.901369",
     "exception": false,
     "start_time": "2023-03-03T21:25:03.860918",
     "status": "completed"
    },
    "tags": []
   },
   "outputs": [
    {
     "data": {
      "text/plain": [
       "250"
      ]
     },
     "execution_count": 6,
     "metadata": {},
     "output_type": "execute_result"
    },
    {
     "data": {
      "application/javascript": [
       "\n",
       "            setTimeout(function() {\n",
       "                var nbb_cell_id = 6;\n",
       "                var nbb_unformatted_code = \"train['sign'].nunique()\";\n",
       "                var nbb_formatted_code = \"train[\\\"sign\\\"].nunique()\";\n",
       "                var nbb_cells = Jupyter.notebook.get_cells();\n",
       "                for (var i = 0; i < nbb_cells.length; ++i) {\n",
       "                    if (nbb_cells[i].input_prompt_number == nbb_cell_id) {\n",
       "                        if (nbb_cells[i].get_text() == nbb_unformatted_code) {\n",
       "                             nbb_cells[i].set_text(nbb_formatted_code);\n",
       "                        }\n",
       "                        break;\n",
       "                    }\n",
       "                }\n",
       "            }, 500);\n",
       "            "
      ],
      "text/plain": [
       "<IPython.core.display.Javascript object>"
      ]
     },
     "metadata": {},
     "output_type": "display_data"
    }
   ],
   "source": [
    "train['sign'].nunique()"
   ]
  },
  {
   "cell_type": "code",
   "execution_count": 7,
   "id": "e2ab22e0",
   "metadata": {
    "_cell_guid": "af202103-92fd-4bfa-a57b-3bfba4684eda",
    "_uuid": "3532f042-82d7-40e2-bdfa-8a70207a2902",
    "collapsed": false,
    "execution": {
     "iopub.execute_input": "2023-03-03T21:25:03.925793Z",
     "iopub.status.busy": "2023-03-03T21:25:03.925320Z",
     "iopub.status.idle": "2023-03-03T21:25:03.946047Z",
     "shell.execute_reply": "2023-03-03T21:25:03.944629Z"
    },
    "jupyter": {
     "outputs_hidden": false
    },
    "papermill": {
     "duration": 0.035818,
     "end_time": "2023-03-03T21:25:03.948497",
     "exception": false,
     "start_time": "2023-03-03T21:25:03.912679",
     "status": "completed"
    },
    "tags": []
   },
   "outputs": [
    {
     "data": {
      "text/plain": [
       "listen        415\n",
       "look          414\n",
       "shhh          411\n",
       "donkey        410\n",
       "mouse         408\n",
       "duck          405\n",
       "hear          405\n",
       "uncle         405\n",
       "pretend       404\n",
       "bird          404\n",
       "cow           404\n",
       "sleepy        403\n",
       "brown         403\n",
       "who           403\n",
       "bye           402\n",
       "nuts          402\n",
       "fireman       402\n",
       "lips          402\n",
       "toothbrush    402\n",
       "wake          401\n",
       "Name: sign, dtype: int64"
      ]
     },
     "execution_count": 7,
     "metadata": {},
     "output_type": "execute_result"
    },
    {
     "data": {
      "application/javascript": [
       "\n",
       "            setTimeout(function() {\n",
       "                var nbb_cell_id = 7;\n",
       "                var nbb_unformatted_code = \"train['sign'].value_counts().head(20)\";\n",
       "                var nbb_formatted_code = \"train[\\\"sign\\\"].value_counts().head(20)\";\n",
       "                var nbb_cells = Jupyter.notebook.get_cells();\n",
       "                for (var i = 0; i < nbb_cells.length; ++i) {\n",
       "                    if (nbb_cells[i].input_prompt_number == nbb_cell_id) {\n",
       "                        if (nbb_cells[i].get_text() == nbb_unformatted_code) {\n",
       "                             nbb_cells[i].set_text(nbb_formatted_code);\n",
       "                        }\n",
       "                        break;\n",
       "                    }\n",
       "                }\n",
       "            }, 500);\n",
       "            "
      ],
      "text/plain": [
       "<IPython.core.display.Javascript object>"
      ]
     },
     "metadata": {},
     "output_type": "display_data"
    }
   ],
   "source": [
    "train['sign'].value_counts().head(20)"
   ]
  },
  {
   "cell_type": "code",
   "execution_count": 8,
   "id": "6197c80f",
   "metadata": {
    "_cell_guid": "d6c1ccde-c319-4870-b552-4555f227f4ef",
    "_uuid": "29f35705-fd4a-4072-97ba-4c2eadb86f7c",
    "collapsed": false,
    "execution": {
     "iopub.execute_input": "2023-03-03T21:25:03.973148Z",
     "iopub.status.busy": "2023-03-03T21:25:03.972688Z",
     "iopub.status.idle": "2023-03-03T21:25:04.403227Z",
     "shell.execute_reply": "2023-03-03T21:25:04.401985Z"
    },
    "jupyter": {
     "outputs_hidden": false
    },
    "papermill": {
     "duration": 0.446554,
     "end_time": "2023-03-03T21:25:04.406304",
     "exception": false,
     "start_time": "2023-03-03T21:25:03.959750",
     "status": "completed"
    },
    "tags": []
   },
   "outputs": [
    {
     "data": {
      "image/png": "[encoded data removed]",
      "text/plain": [
       "<Figure size 800x800 with 1 Axes>"
      ]
     },
     "metadata": {},
     "output_type": "display_data"
    },
    {
     "data": {
      "application/javascript": [
       "\n",
       "            setTimeout(function() {\n",
       "                var nbb_cell_id = 8;\n",
       "                var nbb_unformatted_code = \"fig, ax = plt.subplots(figsize=(8,8))\\ntrain['sign'].value_counts().head(20).sort_values(ascending= True) \\\\\\n.plot(kind='barh', ax =ax, title='Top 20 signs in training datasets')\\n\\nax.set_xlabel('Number of training examples')\\nplt.show()\";\n",
       "                var nbb_formatted_code = \"fig, ax = plt.subplots(figsize=(8, 8))\\ntrain[\\\"sign\\\"].value_counts().head(20).sort_values(ascending=True).plot(\\n    kind=\\\"barh\\\", ax=ax, title=\\\"Top 20 signs in training datasets\\\"\\n)\\n\\nax.set_xlabel(\\\"Number of training examples\\\")\\nplt.show()\";\n",
       "                var nbb_cells = Jupyter.notebook.get_cells();\n",
       "                for (var i = 0; i < nbb_cells.length; ++i) {\n",
       "                    if (nbb_cells[i].input_prompt_number == nbb_cell_id) {\n",
       "                        if (nbb_cells[i].get_text() == nbb_unformatted_code) {\n",
       "                             nbb_cells[i].set_text(nbb_formatted_code);\n",
       "                        }\n",
       "                        break;\n",
       "                    }\n",
       "                }\n",
       "            }, 500);\n",
       "            "
      ],
      "text/plain": [
       "<IPython.core.display.Javascript object>"
      ]
     },
     "metadata": {},
     "output_type": "display_data"
    }
   ],
   "source": [
    "fig, ax = plt.subplots(figsize=(8,8))\n",
    "train['sign'].value_counts().head(20).sort_values(ascending= True) \\\n",
    ".plot(kind='barh', ax =ax, title='Top 20 signs in training datasets')\n",
    "\n",
    "ax.set_xlabel('Number of training examples')\n",
    "plt.show()"
   ]
  },
  {
   "cell_type": "code",
   "execution_count": 9,
   "id": "33fcc347",
   "metadata": {
    "_cell_guid": "8bfd8d65-2cec-4c4e-808a-af04dd467fad",
    "_uuid": "b4da7ca0-c6a8-42db-b39f-237e30e96b47",
    "collapsed": false,
    "execution": {
     "iopub.execute_input": "2023-03-03T21:25:04.432173Z",
     "iopub.status.busy": "2023-03-03T21:25:04.431761Z",
     "iopub.status.idle": "2023-03-03T21:25:04.763613Z",
     "shell.execute_reply": "2023-03-03T21:25:04.762380Z"
    },
    "jupyter": {
     "outputs_hidden": false
    },
    "papermill": {
     "duration": 0.348171,
     "end_time": "2023-03-03T21:25:04.766400",
     "exception": false,
     "start_time": "2023-03-03T21:25:04.418229",
     "status": "completed"
    },
    "tags": []
   },
   "outputs": [
    {
     "data": {
      "image/png": "[encoded data removed]",
      "text/plain": [
       "<Figure size 800x800 with 1 Axes>"
      ]
     },
     "metadata": {},
     "output_type": "display_data"
    },
    {
     "data": {
      "application/javascript": [
       "\n",
       "            setTimeout(function() {\n",
       "                var nbb_cell_id = 9;\n",
       "                var nbb_unformatted_code = \"fig, ax = plt.subplots(figsize=(8,8))\\ntrain['sign'].value_counts().tail(20).sort_values(ascending = False) \\\\\\n                                                  .plot(kind='barh', ax=ax, title = 'Top 20 bottom sign in training datasets')\\nax.set_xlabel('Number of training examples')\\nplt.show()\";\n",
       "                var nbb_formatted_code = \"fig, ax = plt.subplots(figsize=(8, 8))\\ntrain[\\\"sign\\\"].value_counts().tail(20).sort_values(ascending=False).plot(\\n    kind=\\\"barh\\\", ax=ax, title=\\\"Top 20 bottom sign in training datasets\\\"\\n)\\nax.set_xlabel(\\\"Number of training examples\\\")\\nplt.show()\";\n",
       "                var nbb_cells = Jupyter.notebook.get_cells();\n",
       "                for (var i = 0; i < nbb_cells.length; ++i) {\n",
       "                    if (nbb_cells[i].input_prompt_number == nbb_cell_id) {\n",
       "                        if (nbb_cells[i].get_text() == nbb_unformatted_code) {\n",
       "                             nbb_cells[i].set_text(nbb_formatted_code);\n",
       "                        }\n",
       "                        break;\n",
       "                    }\n",
       "                }\n",
       "            }, 500);\n",
       "            "
      ],
      "text/plain": [
       "<IPython.core.display.Javascript object>"
      ]
     },
     "metadata": {},
     "output_type": "display_data"
    }
   ],
   "source": [
    "fig, ax = plt.subplots(figsize=(8,8))\n",
    "train['sign'].value_counts().tail(20).sort_values(ascending = False) \\\n",
    "                                                  .plot(kind='barh', ax=ax, title = 'Top 20 bottom sign in training datasets')\n",
    "ax.set_xlabel('Number of training examples')\n",
    "plt.show()"
   ]
  },
  {
   "cell_type": "markdown",
   "id": "b10f9401",
   "metadata": {
    "_cell_guid": "e96582ed-a5b2-4eb3-8d11-0af3a4835307",
    "_uuid": "fd3bd7eb-d31a-4652-9762-872294c58004",
    "papermill": {
     "duration": 0.012362,
     "end_time": "2023-03-03T21:25:04.791742",
     "exception": false,
     "start_time": "2023-03-03T21:25:04.779380",
     "status": "completed"
    },
    "tags": []
   },
   "source": [
    "- Train.csv has 250 unique signs\n",
    "- Ranging from 299 to 415 signs"
   ]
  },
  {
   "cell_type": "markdown",
   "id": "5caccddc",
   "metadata": {
    "_cell_guid": "40b4e73b-81a5-4903-b264-485ab169ba2e",
    "_uuid": "6a0bf10b-3f7c-40e4-83db-0e43c3005a4b",
    "papermill": {
     "duration": 0.01235,
     "end_time": "2023-03-03T21:25:04.816729",
     "exception": false,
     "start_time": "2023-03-03T21:25:04.804379",
     "status": "completed"
    },
    "tags": []
   },
   "source": [
    "## Parquet landmark dataset\n",
    "\n",
    "- Each parquet file in the path:\n",
    "    - train_landmark_files/[participant_id]/[sequence_id].parquet\n",
    "    - The parquet's associated sign can be found in train.csv"
   ]
  },
  {
   "cell_type": "markdown",
   "id": "c0be83f9",
   "metadata": {
    "_cell_guid": "3dddff57-3435-4592-81a7-3381ed2cb83c",
    "_uuid": "54ddcbc9-c96a-4b9a-b193-1ee24f5a7064",
    "papermill": {
     "duration": 0.012226,
     "end_time": "2023-03-03T21:25:04.841516",
     "exception": false,
     "start_time": "2023-03-03T21:25:04.829290",
     "status": "completed"
    },
    "tags": []
   },
   "source": [
    "### Pull an example parquet data\n",
    "\n",
    "- We pull an example landmark file for the sign 'listen'"
   ]
  },
  {
   "cell_type": "code",
   "execution_count": 10,
   "id": "fe14751f",
   "metadata": {
    "_cell_guid": "dd6849a6-33a6-41df-8902-246363da7995",
    "_uuid": "38422cf0-4ccb-41e0-9eda-cfb279cd3e35",
    "collapsed": false,
    "execution": {
     "iopub.execute_input": "2023-03-03T21:25:04.868725Z",
     "iopub.status.busy": "2023-03-03T21:25:04.868302Z",
     "iopub.status.idle": "2023-03-03T21:25:04.887602Z",
     "shell.execute_reply": "2023-03-03T21:25:04.886469Z"
    },
    "jupyter": {
     "outputs_hidden": false
    },
    "papermill": {
     "duration": 0.036197,
     "end_time": "2023-03-03T21:25:04.890185",
     "exception": false,
     "start_time": "2023-03-03T21:25:04.853988",
     "status": "completed"
    },
    "tags": []
   },
   "outputs": [
    {
     "data": {
      "text/plain": [
       "'train_landmark_files/37055/1011397240.parquet'"
      ]
     },
     "execution_count": 10,
     "metadata": {},
     "output_type": "execute_result"
    },
    {
     "data": {
      "application/javascript": [
       "\n",
       "            setTimeout(function() {\n",
       "                var nbb_cell_id = 10;\n",
       "                var nbb_unformatted_code = \"example_fn = train.query('sign == \\\"listen\\\"')['path'].values[0]\\nexample_fn\";\n",
       "                var nbb_formatted_code = \"example_fn = train.query('sign == \\\"listen\\\"')[\\\"path\\\"].values[0]\\nexample_fn\";\n",
       "                var nbb_cells = Jupyter.notebook.get_cells();\n",
       "                for (var i = 0; i < nbb_cells.length; ++i) {\n",
       "                    if (nbb_cells[i].input_prompt_number == nbb_cell_id) {\n",
       "                        if (nbb_cells[i].get_text() == nbb_unformatted_code) {\n",
       "                             nbb_cells[i].set_text(nbb_formatted_code);\n",
       "                        }\n",
       "                        break;\n",
       "                    }\n",
       "                }\n",
       "            }, 500);\n",
       "            "
      ],
      "text/plain": [
       "<IPython.core.display.Javascript object>"
      ]
     },
     "metadata": {},
     "output_type": "display_data"
    }
   ],
   "source": [
    "example_fn = train.query('sign == \"listen\"')['path'].values[0]\n",
    "example_fn"
   ]
  },
  {
   "cell_type": "code",
   "execution_count": 11,
   "id": "232b6d27",
   "metadata": {
    "_cell_guid": "cd3aca24-8844-4e05-bcc5-b8e3e2cba8b3",
    "_uuid": "e72a1404-1c68-4334-9635-046c28e558db",
    "collapsed": false,
    "execution": {
     "iopub.execute_input": "2023-03-03T21:25:04.918457Z",
     "iopub.status.busy": "2023-03-03T21:25:04.917632Z",
     "iopub.status.idle": "2023-03-03T21:25:05.095248Z",
     "shell.execute_reply": "2023-03-03T21:25:05.094283Z"
    },
    "jupyter": {
     "outputs_hidden": false
    },
    "papermill": {
     "duration": 0.194698,
     "end_time": "2023-03-03T21:25:05.097794",
     "exception": false,
     "start_time": "2023-03-03T21:25:04.903096",
     "status": "completed"
    },
    "tags": []
   },
   "outputs": [
    {
     "data": {
      "text/html": [
       "<div>\n",
       "<style scoped>\n",
       "    .dataframe tbody tr th:only-of-type {\n",
       "        vertical-align: middle;\n",
       "    }\n",
       "\n",
       "    .dataframe tbody tr th {\n",
       "        vertical-align: top;\n",
       "    }\n",
       "\n",
       "    .dataframe thead th {\n",
       "        text-align: right;\n",
       "    }\n",
       "</style>\n",
       "<table border=\"1\" class=\"dataframe\">\n",
       "  <thead>\n",
       "    <tr style=\"text-align: right;\">\n",
       "      <th></th>\n",
       "      <th>frame</th>\n",
       "      <th>row_id</th>\n",
       "      <th>type</th>\n",
       "      <th>landmark_index</th>\n",
       "      <th>x</th>\n",
       "      <th>y</th>\n",
       "      <th>z</th>\n",
       "    </tr>\n",
       "  </thead>\n",
       "  <tbody>\n",
       "    <tr>\n",
       "      <th>0</th>\n",
       "      <td>35</td>\n",
       "      <td>35-face-0</td>\n",
       "      <td>face</td>\n",
       "      <td>0</td>\n",
       "      <td>0.556969</td>\n",
       "      <td>0.431919</td>\n",
       "      <td>-0.039614</td>\n",
       "    </tr>\n",
       "    <tr>\n",
       "      <th>1</th>\n",
       "      <td>35</td>\n",
       "      <td>35-face-1</td>\n",
       "      <td>face</td>\n",
       "      <td>1</td>\n",
       "      <td>0.548688</td>\n",
       "      <td>0.394788</td>\n",
       "      <td>-0.077306</td>\n",
       "    </tr>\n",
       "    <tr>\n",
       "      <th>2</th>\n",
       "      <td>35</td>\n",
       "      <td>35-face-2</td>\n",
       "      <td>face</td>\n",
       "      <td>2</td>\n",
       "      <td>0.548806</td>\n",
       "      <td>0.405519</td>\n",
       "      <td>-0.040327</td>\n",
       "    </tr>\n",
       "    <tr>\n",
       "      <th>3</th>\n",
       "      <td>35</td>\n",
       "      <td>35-face-3</td>\n",
       "      <td>face</td>\n",
       "      <td>3</td>\n",
       "      <td>0.531849</td>\n",
       "      <td>0.356302</td>\n",
       "      <td>-0.058683</td>\n",
       "    </tr>\n",
       "    <tr>\n",
       "      <th>4</th>\n",
       "      <td>35</td>\n",
       "      <td>35-face-4</td>\n",
       "      <td>face</td>\n",
       "      <td>4</td>\n",
       "      <td>0.547539</td>\n",
       "      <td>0.382894</td>\n",
       "      <td>-0.082544</td>\n",
       "    </tr>\n",
       "    <tr>\n",
       "      <th>...</th>\n",
       "      <td>...</td>\n",
       "      <td>...</td>\n",
       "      <td>...</td>\n",
       "      <td>...</td>\n",
       "      <td>...</td>\n",
       "      <td>...</td>\n",
       "      <td>...</td>\n",
       "    </tr>\n",
       "    <tr>\n",
       "      <th>3253</th>\n",
       "      <td>40</td>\n",
       "      <td>40-right_hand-16</td>\n",
       "      <td>right_hand</td>\n",
       "      <td>16</td>\n",
       "      <td>0.177520</td>\n",
       "      <td>0.536142</td>\n",
       "      <td>-0.034433</td>\n",
       "    </tr>\n",
       "    <tr>\n",
       "      <th>3254</th>\n",
       "      <td>40</td>\n",
       "      <td>40-right_hand-17</td>\n",
       "      <td>right_hand</td>\n",
       "      <td>17</td>\n",
       "      <td>0.065610</td>\n",
       "      <td>0.493125</td>\n",
       "      <td>-0.047778</td>\n",
       "    </tr>\n",
       "    <tr>\n",
       "      <th>3255</th>\n",
       "      <td>40</td>\n",
       "      <td>40-right_hand-18</td>\n",
       "      <td>right_hand</td>\n",
       "      <td>18</td>\n",
       "      <td>0.096587</td>\n",
       "      <td>0.491917</td>\n",
       "      <td>-0.064403</td>\n",
       "    </tr>\n",
       "    <tr>\n",
       "      <th>3256</th>\n",
       "      <td>40</td>\n",
       "      <td>40-right_hand-19</td>\n",
       "      <td>right_hand</td>\n",
       "      <td>19</td>\n",
       "      <td>0.125879</td>\n",
       "      <td>0.520035</td>\n",
       "      <td>-0.051628</td>\n",
       "    </tr>\n",
       "    <tr>\n",
       "      <th>3257</th>\n",
       "      <td>40</td>\n",
       "      <td>40-right_hand-20</td>\n",
       "      <td>right_hand</td>\n",
       "      <td>20</td>\n",
       "      <td>0.135349</td>\n",
       "      <td>0.536520</td>\n",
       "      <td>-0.038497</td>\n",
       "    </tr>\n",
       "  </tbody>\n",
       "</table>\n",
       "<p>3258 rows × 7 columns</p>\n",
       "</div>"
      ],
      "text/plain": [
       "      frame            row_id        type  landmark_index         x         y  \\\n",
       "0        35         35-face-0        face               0  0.556969  0.431919   \n",
       "1        35         35-face-1        face               1  0.548688  0.394788   \n",
       "2        35         35-face-2        face               2  0.548806  0.405519   \n",
       "3        35         35-face-3        face               3  0.531849  0.356302   \n",
       "4        35         35-face-4        face               4  0.547539  0.382894   \n",
       "...     ...               ...         ...             ...       ...       ...   \n",
       "3253     40  40-right_hand-16  right_hand              16  0.177520  0.536142   \n",
       "3254     40  40-right_hand-17  right_hand              17  0.065610  0.493125   \n",
       "3255     40  40-right_hand-18  right_hand              18  0.096587  0.491917   \n",
       "3256     40  40-right_hand-19  right_hand              19  0.125879  0.520035   \n",
       "3257     40  40-right_hand-20  right_hand              20  0.135349  0.536520   \n",
       "\n",
       "             z  \n",
       "0    -0.039614  \n",
       "1    -0.077306  \n",
       "2    -0.040327  \n",
       "3    -0.058683  \n",
       "4    -0.082544  \n",
       "...        ...  \n",
       "3253 -0.034433  \n",
       "3254 -0.047778  \n",
       "3255 -0.064403  \n",
       "3256 -0.051628  \n",
       "3257 -0.038497  \n",
       "\n",
       "[3258 rows x 7 columns]"
      ]
     },
     "execution_count": 11,
     "metadata": {},
     "output_type": "execute_result"
    },
    {
     "data": {
      "application/javascript": [
       "\n",
       "            setTimeout(function() {\n",
       "                var nbb_cell_id = 11;\n",
       "                var nbb_unformatted_code = \"landmark_example = pd.read_parquet(f'{BASE_DIR}/{example_fn}')\\nlandmark_example\";\n",
       "                var nbb_formatted_code = \"landmark_example = pd.read_parquet(f\\\"{BASE_DIR}/{example_fn}\\\")\\nlandmark_example\";\n",
       "                var nbb_cells = Jupyter.notebook.get_cells();\n",
       "                for (var i = 0; i < nbb_cells.length; ++i) {\n",
       "                    if (nbb_cells[i].input_prompt_number == nbb_cell_id) {\n",
       "                        if (nbb_cells[i].get_text() == nbb_unformatted_code) {\n",
       "                             nbb_cells[i].set_text(nbb_formatted_code);\n",
       "                        }\n",
       "                        break;\n",
       "                    }\n",
       "                }\n",
       "            }, 500);\n",
       "            "
      ],
      "text/plain": [
       "<IPython.core.display.Javascript object>"
      ]
     },
     "metadata": {},
     "output_type": "display_data"
    }
   ],
   "source": [
    "landmark_example = pd.read_parquet(f'{BASE_DIR}/{example_fn}')\n",
    "landmark_example"
   ]
  },
  {
   "cell_type": "code",
   "execution_count": 12,
   "id": "3da41925",
   "metadata": {
    "_cell_guid": "5203c712-aba0-4e39-9327-c016eab4dfca",
    "_uuid": "16a1ee0a-fe56-4ae5-a75f-06b79e16778a",
    "collapsed": false,
    "execution": {
     "iopub.execute_input": "2023-03-03T21:25:05.126687Z",
     "iopub.status.busy": "2023-03-03T21:25:05.126233Z",
     "iopub.status.idle": "2023-03-03T21:25:05.146312Z",
     "shell.execute_reply": "2023-03-03T21:25:05.144666Z"
    },
    "jupyter": {
     "outputs_hidden": false
    },
    "papermill": {
     "duration": 0.037888,
     "end_time": "2023-03-03T21:25:05.149182",
     "exception": false,
     "start_time": "2023-03-03T21:25:05.111294",
     "status": "completed"
    },
    "tags": []
   },
   "outputs": [
    {
     "name": "stdout",
     "output_type": "stream",
     "text": [
      "The file has 6 unique frames, 4 unique types and types are ['face' 'left_hand' 'pose' 'right_hand']\n"
     ]
    },
    {
     "data": {
      "application/javascript": [
       "\n",
       "            setTimeout(function() {\n",
       "                var nbb_cell_id = 12;\n",
       "                var nbb_unformatted_code = \"unique_frames = landmark_example['frame'].nunique()\\nunique_types = landmark_example['type'].nunique()\\ntypes_in_video = landmark_example['type'].unique()\\nprint(f\\\"The file has {unique_frames} unique frames, {unique_types} unique types and types are {types_in_video}\\\")\";\n",
       "                var nbb_formatted_code = \"unique_frames = landmark_example[\\\"frame\\\"].nunique()\\nunique_types = landmark_example[\\\"type\\\"].nunique()\\ntypes_in_video = landmark_example[\\\"type\\\"].unique()\\nprint(\\n    f\\\"The file has {unique_frames} unique frames, {unique_types} unique types and types are {types_in_video}\\\"\\n)\";\n",
       "                var nbb_cells = Jupyter.notebook.get_cells();\n",
       "                for (var i = 0; i < nbb_cells.length; ++i) {\n",
       "                    if (nbb_cells[i].input_prompt_number == nbb_cell_id) {\n",
       "                        if (nbb_cells[i].get_text() == nbb_unformatted_code) {\n",
       "                             nbb_cells[i].set_text(nbb_formatted_code);\n",
       "                        }\n",
       "                        break;\n",
       "                    }\n",
       "                }\n",
       "            }, 500);\n",
       "            "
      ],
      "text/plain": [
       "<IPython.core.display.Javascript object>"
      ]
     },
     "metadata": {},
     "output_type": "display_data"
    }
   ],
   "source": [
    "unique_frames = landmark_example['frame'].nunique()\n",
    "unique_types = landmark_example['type'].nunique()\n",
    "types_in_video = landmark_example['type'].unique()\n",
    "print(f\"The file has {unique_frames} unique frames, {unique_types} unique types and types are {types_in_video}\")"
   ]
  },
  {
   "cell_type": "code",
   "execution_count": 13,
   "id": "5f42a952",
   "metadata": {
    "_cell_guid": "6b197432-a9c1-4b67-b03c-b3e8fd7687ef",
    "_uuid": "19f8dea8-11ec-4fc9-91d9-a611d5a8a852",
    "collapsed": false,
    "execution": {
     "iopub.execute_input": "2023-03-03T21:25:05.178979Z",
     "iopub.status.busy": "2023-03-03T21:25:05.178089Z",
     "iopub.status.idle": "2023-03-03T21:25:05.196870Z",
     "shell.execute_reply": "2023-03-03T21:25:05.195623Z"
    },
    "jupyter": {
     "outputs_hidden": false
    },
    "papermill": {
     "duration": 0.036711,
     "end_time": "2023-03-03T21:25:05.199641",
     "exception": false,
     "start_time": "2023-03-03T21:25:05.162930",
     "status": "completed"
    },
    "tags": []
   },
   "outputs": [
    {
     "data": {
      "text/plain": [
       "415"
      ]
     },
     "execution_count": 13,
     "metadata": {},
     "output_type": "execute_result"
    },
    {
     "data": {
      "application/javascript": [
       "\n",
       "            setTimeout(function() {\n",
       "                var nbb_cell_id = 13;\n",
       "                var nbb_unformatted_code = \"listen_files = train.query('sign == \\\"listen\\\"')['path'].values\\nlen(listen_files)\";\n",
       "                var nbb_formatted_code = \"listen_files = train.query('sign == \\\"listen\\\"')[\\\"path\\\"].values\\nlen(listen_files)\";\n",
       "                var nbb_cells = Jupyter.notebook.get_cells();\n",
       "                for (var i = 0; i < nbb_cells.length; ++i) {\n",
       "                    if (nbb_cells[i].input_prompt_number == nbb_cell_id) {\n",
       "                        if (nbb_cells[i].get_text() == nbb_unformatted_code) {\n",
       "                             nbb_cells[i].set_text(nbb_formatted_code);\n",
       "                        }\n",
       "                        break;\n",
       "                    }\n",
       "                }\n",
       "            }, 500);\n",
       "            "
      ],
      "text/plain": [
       "<IPython.core.display.Javascript object>"
      ]
     },
     "metadata": {},
     "output_type": "display_data"
    }
   ],
   "source": [
    "listen_files = train.query('sign == \"listen\"')['path'].values\n",
    "len(listen_files)"
   ]
  },
  {
   "cell_type": "markdown",
   "id": "265c8ee9",
   "metadata": {
    "papermill": {
     "duration": 0.013575,
     "end_time": "2023-03-03T21:25:05.227049",
     "exception": false,
     "start_time": "2023-03-03T21:25:05.213474",
     "status": "completed"
    },
    "tags": []
   },
   "source": [
    "### Comparing parquet files, what type of data we have\n",
    "\n",
    "- Frames on each record is not consistent.\n",
    "- Every file has 4 types of landmarks: face, left_hand, right_hand, pose."
   ]
  },
  {
   "cell_type": "code",
   "execution_count": 14,
   "id": "3a8cbca3",
   "metadata": {
    "_cell_guid": "f73ac204-85de-43bd-9856-30a49c552a25",
    "_uuid": "c515bdd8-d458-4e54-b3c0-6c1f4d93ff0c",
    "collapsed": false,
    "execution": {
     "iopub.execute_input": "2023-03-03T21:25:05.257045Z",
     "iopub.status.busy": "2023-03-03T21:25:05.256078Z",
     "iopub.status.idle": "2023-03-03T21:25:05.891399Z",
     "shell.execute_reply": "2023-03-03T21:25:05.889638Z"
    },
    "jupyter": {
     "outputs_hidden": false
    },
    "papermill": {
     "duration": 0.653658,
     "end_time": "2023-03-03T21:25:05.894575",
     "exception": false,
     "start_time": "2023-03-03T21:25:05.240917",
     "status": "completed"
    },
    "tags": []
   },
   "outputs": [
    {
     "name": "stdout",
     "output_type": "stream",
     "text": [
      "The listen landmark file 0 has \n",
      "unique frames : 6, \n",
      "unique types :  4 ,\n",
      "types: ['face' 'left_hand' 'pose' 'right_hand']\n",
      "The listen landmark file 1 has \n",
      "unique frames : 23, \n",
      "unique types :  4 ,\n",
      "types: ['face' 'left_hand' 'pose' 'right_hand']\n",
      "The listen landmark file 2 has \n",
      "unique frames : 28, \n",
      "unique types :  4 ,\n",
      "types: ['face' 'left_hand' 'pose' 'right_hand']\n",
      "The listen landmark file 3 has \n",
      "unique frames : 68, \n",
      "unique types :  4 ,\n",
      "types: ['face' 'left_hand' 'pose' 'right_hand']\n",
      "The listen landmark file 4 has \n",
      "unique frames : 6, \n",
      "unique types :  4 ,\n",
      "types: ['face' 'left_hand' 'pose' 'right_hand']\n",
      "The listen landmark file 5 has \n",
      "unique frames : 16, \n",
      "unique types :  4 ,\n",
      "types: ['face' 'left_hand' 'pose' 'right_hand']\n",
      "The listen landmark file 6 has \n",
      "unique frames : 6, \n",
      "unique types :  4 ,\n",
      "types: ['face' 'left_hand' 'pose' 'right_hand']\n",
      "The listen landmark file 7 has \n",
      "unique frames : 6, \n",
      "unique types :  4 ,\n",
      "types: ['face' 'left_hand' 'pose' 'right_hand']\n",
      "The listen landmark file 8 has \n",
      "unique frames : 8, \n",
      "unique types :  4 ,\n",
      "types: ['face' 'left_hand' 'pose' 'right_hand']\n",
      "The listen landmark file 9 has \n",
      "unique frames : 33, \n",
      "unique types :  4 ,\n",
      "types: ['face' 'left_hand' 'pose' 'right_hand']\n",
      "The listen landmark file 10 has \n",
      "unique frames : 13, \n",
      "unique types :  4 ,\n",
      "types: ['face' 'left_hand' 'pose' 'right_hand']\n",
      "The listen landmark file 11 has \n",
      "unique frames : 23, \n",
      "unique types :  4 ,\n",
      "types: ['face' 'left_hand' 'pose' 'right_hand']\n",
      "The listen landmark file 12 has \n",
      "unique frames : 191, \n",
      "unique types :  4 ,\n",
      "types: ['face' 'left_hand' 'pose' 'right_hand']\n",
      "The listen landmark file 13 has \n",
      "unique frames : 64, \n",
      "unique types :  4 ,\n",
      "types: ['face' 'left_hand' 'pose' 'right_hand']\n",
      "The listen landmark file 14 has \n",
      "unique frames : 32, \n",
      "unique types :  4 ,\n",
      "types: ['face' 'left_hand' 'pose' 'right_hand']\n",
      "The listen landmark file 15 has \n",
      "unique frames : 24, \n",
      "unique types :  4 ,\n",
      "types: ['face' 'left_hand' 'pose' 'right_hand']\n",
      "The listen landmark file 16 has \n",
      "unique frames : 77, \n",
      "unique types :  4 ,\n",
      "types: ['face' 'left_hand' 'pose' 'right_hand']\n",
      "The listen landmark file 17 has \n",
      "unique frames : 60, \n",
      "unique types :  4 ,\n",
      "types: ['face' 'left_hand' 'pose' 'right_hand']\n",
      "The listen landmark file 18 has \n",
      "unique frames : 23, \n",
      "unique types :  4 ,\n",
      "types: ['face' 'left_hand' 'pose' 'right_hand']\n",
      "The listen landmark file 19 has \n",
      "unique frames : 20, \n",
      "unique types :  4 ,\n",
      "types: ['face' 'left_hand' 'pose' 'right_hand']\n",
      "The listen landmark file 20 has \n",
      "unique frames : 15, \n",
      "unique types :  4 ,\n",
      "types: ['face' 'left_hand' 'pose' 'right_hand']\n"
     ]
    },
    {
     "data": {
      "application/javascript": [
       "\n",
       "            setTimeout(function() {\n",
       "                var nbb_cell_id = 14;\n",
       "                var nbb_unformatted_code = \"for index ,listen in enumerate(listen_files):\\n    landmark_listen = pd.read_parquet(f\\\"{BASE_DIR}/{listen}\\\")\\n    unique_frames = landmark_listen['frame'].nunique()\\n    unique_types = landmark_listen['type'].nunique()\\n    types_in_video = landmark_listen['type'].unique()\\n    print(\\n        f'The listen landmark file {index} has \\\\nunique frames : {unique_frames}, \\\\nunique types :  {unique_types} ,\\\\ntypes: {types_in_video}'\\n    )\\n    if index == 20:\\n        break\";\n",
       "                var nbb_formatted_code = \"for index, listen in enumerate(listen_files):\\n    landmark_listen = pd.read_parquet(f\\\"{BASE_DIR}/{listen}\\\")\\n    unique_frames = landmark_listen[\\\"frame\\\"].nunique()\\n    unique_types = landmark_listen[\\\"type\\\"].nunique()\\n    types_in_video = landmark_listen[\\\"type\\\"].unique()\\n    print(\\n        f\\\"The listen landmark file {index} has \\\\nunique frames : {unique_frames}, \\\\nunique types :  {unique_types} ,\\\\ntypes: {types_in_video}\\\"\\n    )\\n    if index == 20:\\n        break\";\n",
       "                var nbb_cells = Jupyter.notebook.get_cells();\n",
       "                for (var i = 0; i < nbb_cells.length; ++i) {\n",
       "                    if (nbb_cells[i].input_prompt_number == nbb_cell_id) {\n",
       "                        if (nbb_cells[i].get_text() == nbb_unformatted_code) {\n",
       "                             nbb_cells[i].set_text(nbb_formatted_code);\n",
       "                        }\n",
       "                        break;\n",
       "                    }\n",
       "                }\n",
       "            }, 500);\n",
       "            "
      ],
      "text/plain": [
       "<IPython.core.display.Javascript object>"
      ]
     },
     "metadata": {},
     "output_type": "display_data"
    }
   ],
   "source": [
    "for index ,listen in enumerate(listen_files):\n",
    "    landmark_listen = pd.read_parquet(f\"{BASE_DIR}/{listen}\")\n",
    "    unique_frames = landmark_listen['frame'].nunique()\n",
    "    unique_types = landmark_listen['type'].nunique()\n",
    "    types_in_video = landmark_listen['type'].unique()\n",
    "    print(\n",
    "        f'The listen landmark file {index} has \\nunique frames : {unique_frames}, \\nunique types :  {unique_types} ,\\ntypes: {types_in_video}'\n",
    "    )\n",
    "    if index == 20:\n",
    "        break"
   ]
  },
  {
   "cell_type": "markdown",
   "id": "7dcb1f63",
   "metadata": {
    "papermill": {
     "duration": 0.014282,
     "end_time": "2023-03-03T21:25:05.923890",
     "exception": false,
     "start_time": "2023-03-03T21:25:05.909608",
     "status": "completed"
    },
    "tags": []
   },
   "source": [
    "## Create metadata on training dataset"
   ]
  },
  {
   "cell_type": "code",
   "execution_count": 15,
   "id": "c0f98139",
   "metadata": {
    "_cell_guid": "9a0c6fbd-639b-419d-8252-2c903af90e81",
    "_uuid": "8287abf5-7ecb-4470-baea-f0281671f9cf",
    "collapsed": false,
    "execution": {
     "iopub.execute_input": "2023-03-03T21:25:05.956894Z",
     "iopub.status.busy": "2023-03-03T21:25:05.955444Z",
     "iopub.status.idle": "2023-03-03T21:25:42.873117Z",
     "shell.execute_reply": "2023-03-03T21:25:42.872121Z"
    },
    "jupyter": {
     "outputs_hidden": false
    },
    "papermill": {
     "duration": 36.936781,
     "end_time": "2023-03-03T21:25:42.875664",
     "exception": false,
     "start_time": "2023-03-03T21:25:05.938883",
     "status": "completed"
    },
    "tags": []
   },
   "outputs": [
    {
     "data": {
      "application/vnd.jupyter.widget-view+json": {
       "model_id": "20b83a8f084e49d497a9babfeadf0457",
       "version_major": 2,
       "version_minor": 0
      },
      "text/plain": [
       "  0%|          | 0/94477 [00:00<?, ?it/s]"
      ]
     },
     "metadata": {},
     "output_type": "display_data"
    },
    {
     "data": {
      "application/javascript": [
       "\n",
       "            setTimeout(function() {\n",
       "                var nbb_cell_id = 15;\n",
       "                var nbb_unformatted_code = \"N_PARQUETS_TO_READ = 1_000  # We don't need to load all 95K\\ncombined_meta = {}\\nfor index, d in tqdm(train.iterrows(), total=len(train)):\\n    file_path = d['path']\\n    landmark_read = pd.read_parquet(f\\\"{BASE_DIR}/{file_path}\\\")\\n    # Get the number of landmarks with x, y, z data per type\\n    meta = landmark_read.dropna(subset = ['x','y','z'])['type'].value_counts().to_dict()\\n    meta['frame'] = landmark_read['frame'].nunique() ##number of frames in a file\\n    xyz_meta = (\\n    landmark_read.agg(\\n        {\\n            'x':['min', 'max', 'mean'],\\n            'y':['min', 'max', 'mean'],\\n            'z':['min', 'max', 'mean']\\n        }\\n    )\\n    .unstack()\\n    .to_dict()\\n    )\\n\\n    for key in xyz_meta.keys():\\n        new_keys = key[0] + '_' + key[1]\\n        meta[new_keys] = xyz_meta[key]\\n    combined_meta[file_path] = meta\\n    if index >= N_PARQUETS_TO_READ:\\n        break\";\n",
       "                var nbb_formatted_code = \"N_PARQUETS_TO_READ = 1_000  # We don't need to load all 95K\\ncombined_meta = {}\\nfor index, d in tqdm(train.iterrows(), total=len(train)):\\n    file_path = d[\\\"path\\\"]\\n    landmark_read = pd.read_parquet(f\\\"{BASE_DIR}/{file_path}\\\")\\n    # Get the number of landmarks with x, y, z data per type\\n    meta = landmark_read.dropna(subset=[\\\"x\\\", \\\"y\\\", \\\"z\\\"])[\\\"type\\\"].value_counts().to_dict()\\n    meta[\\\"frame\\\"] = landmark_read[\\\"frame\\\"].nunique()  ##number of frames in a file\\n    xyz_meta = (\\n        landmark_read.agg(\\n            {\\n                \\\"x\\\": [\\\"min\\\", \\\"max\\\", \\\"mean\\\"],\\n                \\\"y\\\": [\\\"min\\\", \\\"max\\\", \\\"mean\\\"],\\n                \\\"z\\\": [\\\"min\\\", \\\"max\\\", \\\"mean\\\"],\\n            }\\n        )\\n        .unstack()\\n        .to_dict()\\n    )\\n\\n    for key in xyz_meta.keys():\\n        new_keys = key[0] + \\\"_\\\" + key[1]\\n        meta[new_keys] = xyz_meta[key]\\n    combined_meta[file_path] = meta\\n    if index >= N_PARQUETS_TO_READ:\\n        break\";\n",
       "                var nbb_cells = Jupyter.notebook.get_cells();\n",
       "                for (var i = 0; i < nbb_cells.length; ++i) {\n",
       "                    if (nbb_cells[i].input_prompt_number == nbb_cell_id) {\n",
       "                        if (nbb_cells[i].get_text() == nbb_unformatted_code) {\n",
       "                             nbb_cells[i].set_text(nbb_formatted_code);\n",
       "                        }\n",
       "                        break;\n",
       "                    }\n",
       "                }\n",
       "            }, 500);\n",
       "            "
      ],
      "text/plain": [
       "<IPython.core.display.Javascript object>"
      ]
     },
     "metadata": {},
     "output_type": "display_data"
    }
   ],
   "source": [
    "N_PARQUETS_TO_READ = 1_000  # We don't need to load all 95K\n",
    "combined_meta = {}\n",
    "for index, d in tqdm(train.iterrows(), total=len(train)):\n",
    "    file_path = d['path']\n",
    "    landmark_read = pd.read_parquet(f\"{BASE_DIR}/{file_path}\")\n",
    "    # Get the number of landmarks with x, y, z data per type\n",
    "    meta = landmark_read.dropna(subset = ['x','y','z'])['type'].value_counts().to_dict()\n",
    "    meta['frame'] = landmark_read['frame'].nunique() ##number of frames in a file\n",
    "    xyz_meta = (\n",
    "    landmark_read.agg(\n",
    "        {\n",
    "            'x':['min', 'max', 'mean'],\n",
    "            'y':['min', 'max', 'mean'],\n",
    "            'z':['min', 'max', 'mean']\n",
    "        }\n",
    "    )\n",
    "    .unstack()\n",
    "    .to_dict()\n",
    "    )\n",
    "\n",
    "    for key in xyz_meta.keys():\n",
    "        new_keys = key[0] + '_' + key[1]\n",
    "        meta[new_keys] = xyz_meta[key]\n",
    "    combined_meta[file_path] = meta\n",
    "    if index >= N_PARQUETS_TO_READ:\n",
    "        break"
   ]
  },
  {
   "cell_type": "code",
   "execution_count": 16,
   "id": "aaf1d911",
   "metadata": {
    "execution": {
     "iopub.execute_input": "2023-03-03T21:25:42.907536Z",
     "iopub.status.busy": "2023-03-03T21:25:42.907065Z",
     "iopub.status.idle": "2023-03-03T21:25:42.918855Z",
     "shell.execute_reply": "2023-03-03T21:25:42.917573Z"
    },
    "papermill": {
     "duration": 0.03084,
     "end_time": "2023-03-03T21:25:42.921469",
     "exception": false,
     "start_time": "2023-03-03T21:25:42.890629",
     "status": "completed"
    },
    "tags": []
   },
   "outputs": [
    {
     "data": {
      "text/plain": [
       "{'face': 15444,\n",
       " 'pose': 1089,\n",
       " 'left_hand': 357,\n",
       " 'frame': 33,\n",
       " 'x_min': -0.13577386736869812,\n",
       " 'x_max': 0.9888350963592529,\n",
       " 'x_mean': 0.4650228190092454,\n",
       " 'y_min': 0.132933109998703,\n",
       " 'y_max': 2.1390116214752197,\n",
       " 'y_mean': 0.33457921685870406,\n",
       " 'z_min': -1.7977821826934814,\n",
       " 'z_max': 1.1312501430511475,\n",
       " 'z_mean': -0.034399142299794426}"
      ]
     },
     "execution_count": 16,
     "metadata": {},
     "output_type": "execute_result"
    },
    {
     "data": {
      "application/javascript": [
       "\n",
       "            setTimeout(function() {\n",
       "                var nbb_cell_id = 16;\n",
       "                var nbb_unformatted_code = \"meta\";\n",
       "                var nbb_formatted_code = \"meta\";\n",
       "                var nbb_cells = Jupyter.notebook.get_cells();\n",
       "                for (var i = 0; i < nbb_cells.length; ++i) {\n",
       "                    if (nbb_cells[i].input_prompt_number == nbb_cell_id) {\n",
       "                        if (nbb_cells[i].get_text() == nbb_unformatted_code) {\n",
       "                             nbb_cells[i].set_text(nbb_formatted_code);\n",
       "                        }\n",
       "                        break;\n",
       "                    }\n",
       "                }\n",
       "            }, 500);\n",
       "            "
      ],
      "text/plain": [
       "<IPython.core.display.Javascript object>"
      ]
     },
     "metadata": {},
     "output_type": "display_data"
    }
   ],
   "source": [
    "meta"
   ]
  },
  {
   "cell_type": "code",
   "execution_count": 17,
   "id": "02049aba",
   "metadata": {
    "execution": {
     "iopub.execute_input": "2023-03-03T21:25:42.954471Z",
     "iopub.status.busy": "2023-03-03T21:25:42.954039Z",
     "iopub.status.idle": "2023-03-03T21:25:43.077095Z",
     "shell.execute_reply": "2023-03-03T21:25:43.075515Z"
    },
    "papermill": {
     "duration": 0.142618,
     "end_time": "2023-03-03T21:25:43.079885",
     "exception": false,
     "start_time": "2023-03-03T21:25:42.937267",
     "status": "completed"
    },
    "tags": []
   },
   "outputs": [
    {
     "data": {
      "application/javascript": [
       "\n",
       "            setTimeout(function() {\n",
       "                var nbb_cell_id = 17;\n",
       "                var nbb_unformatted_code = \"train_with_meta = train.merge(\\n    pd.DataFrame(combined_meta).T.reset_index().rename(columns={'index':'path'}),\\n    how='left'\\n)\";\n",
       "                var nbb_formatted_code = \"train_with_meta = train.merge(\\n    pd.DataFrame(combined_meta).T.reset_index().rename(columns={\\\"index\\\": \\\"path\\\"}),\\n    how=\\\"left\\\",\\n)\";\n",
       "                var nbb_cells = Jupyter.notebook.get_cells();\n",
       "                for (var i = 0; i < nbb_cells.length; ++i) {\n",
       "                    if (nbb_cells[i].input_prompt_number == nbb_cell_id) {\n",
       "                        if (nbb_cells[i].get_text() == nbb_unformatted_code) {\n",
       "                             nbb_cells[i].set_text(nbb_formatted_code);\n",
       "                        }\n",
       "                        break;\n",
       "                    }\n",
       "                }\n",
       "            }, 500);\n",
       "            "
      ],
      "text/plain": [
       "<IPython.core.display.Javascript object>"
      ]
     },
     "metadata": {},
     "output_type": "display_data"
    }
   ],
   "source": [
    "train_with_meta = train.merge(\n",
    "    pd.DataFrame(combined_meta).T.reset_index().rename(columns={'index':'path'}),\n",
    "    how='left'\n",
    ")"
   ]
  },
  {
   "cell_type": "markdown",
   "id": "ae5fe138",
   "metadata": {
    "papermill": {
     "duration": 0.016071,
     "end_time": "2023-03-03T21:25:43.111536",
     "exception": false,
     "start_time": "2023-03-03T21:25:43.095465",
     "status": "completed"
    },
    "tags": []
   },
   "source": [
    "## What are the most frequent types of landmarks provided"
   ]
  },
  {
   "cell_type": "code",
   "execution_count": 18,
   "id": "d8a5d818",
   "metadata": {
    "execution": {
     "iopub.execute_input": "2023-03-03T21:25:43.144437Z",
     "iopub.status.busy": "2023-03-03T21:25:43.144002Z",
     "iopub.status.idle": "2023-03-03T21:25:43.374037Z",
     "shell.execute_reply": "2023-03-03T21:25:43.372797Z"
    },
    "papermill": {
     "duration": 0.250052,
     "end_time": "2023-03-03T21:25:43.377178",
     "exception": false,
     "start_time": "2023-03-03T21:25:43.127126",
     "status": "completed"
    },
    "tags": []
   },
   "outputs": [
    {
     "data": {
      "image/png": "[encoded data removed]",
      "text/plain": [
       "<Figure size 640x480 with 1 Axes>"
      ]
     },
     "metadata": {},
     "output_type": "display_data"
    },
    {
     "data": {
      "application/javascript": [
       "\n",
       "            setTimeout(function() {\n",
       "                var nbb_cell_id = 18;\n",
       "                var nbb_unformatted_code = \"train_with_meta[['face', 'pose', 'right_hand', 'left_hand']]\\\\\\n.sum()\\\\\\n.sort_values(ascending= True)\\\\\\n.plot(kind='barh', title = 'Sum of rows by landmark types')\\nplt.show()\";\n",
       "                var nbb_formatted_code = \"train_with_meta[[\\\"face\\\", \\\"pose\\\", \\\"right_hand\\\", \\\"left_hand\\\"]].sum().sort_values(\\n    ascending=True\\n).plot(kind=\\\"barh\\\", title=\\\"Sum of rows by landmark types\\\")\\nplt.show()\";\n",
       "                var nbb_cells = Jupyter.notebook.get_cells();\n",
       "                for (var i = 0; i < nbb_cells.length; ++i) {\n",
       "                    if (nbb_cells[i].input_prompt_number == nbb_cell_id) {\n",
       "                        if (nbb_cells[i].get_text() == nbb_unformatted_code) {\n",
       "                             nbb_cells[i].set_text(nbb_formatted_code);\n",
       "                        }\n",
       "                        break;\n",
       "                    }\n",
       "                }\n",
       "            }, 500);\n",
       "            "
      ],
      "text/plain": [
       "<IPython.core.display.Javascript object>"
      ]
     },
     "metadata": {},
     "output_type": "display_data"
    }
   ],
   "source": [
    "train_with_meta[['face', 'pose', 'right_hand', 'left_hand']]\\\n",
    ".sum()\\\n",
    ".sort_values(ascending= True)\\\n",
    ".plot(kind='barh', title = 'Sum of rows by landmark types')\n",
    "plt.show()"
   ]
  },
  {
   "cell_type": "markdown",
   "id": "f453750b",
   "metadata": {
    "papermill": {
     "duration": 0.015411,
     "end_time": "2023-03-03T21:25:43.408806",
     "exception": false,
     "start_time": "2023-03-03T21:25:43.393395",
     "status": "completed"
    },
    "tags": []
   },
   "source": [
    "### Landmarks datapoints\n",
    "\n",
    "- Face has a lot more datapoints compared to hands and pose. Mediapipe provides 468 3D datapoints per frame."
   ]
  },
  {
   "cell_type": "code",
   "execution_count": 19,
   "id": "24e8a2fb",
   "metadata": {
    "execution": {
     "iopub.execute_input": "2023-03-03T21:25:43.442290Z",
     "iopub.status.busy": "2023-03-03T21:25:43.441893Z",
     "iopub.status.idle": "2023-03-03T21:25:43.466692Z",
     "shell.execute_reply": "2023-03-03T21:25:43.465392Z"
    },
    "papermill": {
     "duration": 0.04464,
     "end_time": "2023-03-03T21:25:43.469339",
     "exception": false,
     "start_time": "2023-03-03T21:25:43.424699",
     "status": "completed"
    },
    "tags": []
   },
   "outputs": [
    {
     "data": {
      "text/plain": [
       "face         15444\n",
       "pose          1089\n",
       "left_hand      357\n",
       "Name: type, dtype: int64"
      ]
     },
     "execution_count": 19,
     "metadata": {},
     "output_type": "execute_result"
    },
    {
     "data": {
      "application/javascript": [
       "\n",
       "            setTimeout(function() {\n",
       "                var nbb_cell_id = 19;\n",
       "                var nbb_unformatted_code = \"landmark_example.dropna(subset=['x', 'y','z'])['type'].value_counts()\\n\\nlandmark_read.dropna(subset = ['x','y','z'])['type'].value_counts()\";\n",
       "                var nbb_formatted_code = \"landmark_example.dropna(subset=[\\\"x\\\", \\\"y\\\", \\\"z\\\"])[\\\"type\\\"].value_counts()\\n\\nlandmark_read.dropna(subset=[\\\"x\\\", \\\"y\\\", \\\"z\\\"])[\\\"type\\\"].value_counts()\";\n",
       "                var nbb_cells = Jupyter.notebook.get_cells();\n",
       "                for (var i = 0; i < nbb_cells.length; ++i) {\n",
       "                    if (nbb_cells[i].input_prompt_number == nbb_cell_id) {\n",
       "                        if (nbb_cells[i].get_text() == nbb_unformatted_code) {\n",
       "                             nbb_cells[i].set_text(nbb_formatted_code);\n",
       "                        }\n",
       "                        break;\n",
       "                    }\n",
       "                }\n",
       "            }, 500);\n",
       "            "
      ],
      "text/plain": [
       "<IPython.core.display.Javascript object>"
      ]
     },
     "metadata": {},
     "output_type": "display_data"
    }
   ],
   "source": [
    "landmark_example.dropna(subset=['x', 'y','z'])['type'].value_counts()\n",
    "\n",
    "landmark_read.dropna(subset = ['x','y','z'])['type'].value_counts()"
   ]
  },
  {
   "cell_type": "code",
   "execution_count": 20,
   "id": "08adec5d",
   "metadata": {
    "execution": {
     "iopub.execute_input": "2023-03-03T21:25:43.503831Z",
     "iopub.status.busy": "2023-03-03T21:25:43.503272Z",
     "iopub.status.idle": "2023-03-03T21:25:43.720675Z",
     "shell.execute_reply": "2023-03-03T21:25:43.719446Z"
    },
    "papermill": {
     "duration": 0.238079,
     "end_time": "2023-03-03T21:25:43.723573",
     "exception": false,
     "start_time": "2023-03-03T21:25:43.485494",
     "status": "completed"
    },
    "tags": []
   },
   "outputs": [
    {
     "data": {
      "image/png": "[encoded data removed]",
      "text/plain": [
       "<Figure size 640x480 with 1 Axes>"
      ]
     },
     "metadata": {},
     "output_type": "display_data"
    },
    {
     "data": {
      "application/javascript": [
       "\n",
       "            setTimeout(function() {\n",
       "                var nbb_cell_id = 20;\n",
       "                var nbb_unformatted_code = \"## Checking to see if the number of landmarks for this type is zero \\n(train_with_meta.dropna(subset = ['face'])[['face', 'pose', 'right_hand', 'left_hand']] > 0).mean()\\\\\\n.plot(kind='barh', title = 'Rate of frame/keypoints with data')\\nplt.show()\";\n",
       "                var nbb_formatted_code = \"## Checking to see if the number of landmarks for this type is zero\\n(\\n    train_with_meta.dropna(subset=[\\\"face\\\"])[[\\\"face\\\", \\\"pose\\\", \\\"right_hand\\\", \\\"left_hand\\\"]]\\n    > 0\\n).mean().plot(kind=\\\"barh\\\", title=\\\"Rate of frame/keypoints with data\\\")\\nplt.show()\";\n",
       "                var nbb_cells = Jupyter.notebook.get_cells();\n",
       "                for (var i = 0; i < nbb_cells.length; ++i) {\n",
       "                    if (nbb_cells[i].input_prompt_number == nbb_cell_id) {\n",
       "                        if (nbb_cells[i].get_text() == nbb_unformatted_code) {\n",
       "                             nbb_cells[i].set_text(nbb_formatted_code);\n",
       "                        }\n",
       "                        break;\n",
       "                    }\n",
       "                }\n",
       "            }, 500);\n",
       "            "
      ],
      "text/plain": [
       "<IPython.core.display.Javascript object>"
      ]
     },
     "metadata": {},
     "output_type": "display_data"
    }
   ],
   "source": [
    "## Checking to see if the number of landmarks for this type is zero \n",
    "(train_with_meta.dropna(subset = ['face'])[['face', 'pose', 'right_hand', 'left_hand']] > 0).mean()\\\n",
    ".plot(kind='barh', title = 'Rate of frame/keypoints with data')\n",
    "plt.show()"
   ]
  },
  {
   "cell_type": "code",
   "execution_count": 21,
   "id": "4f5c4f5e",
   "metadata": {
    "execution": {
     "iopub.execute_input": "2023-03-03T21:25:43.758895Z",
     "iopub.status.busy": "2023-03-03T21:25:43.758459Z",
     "iopub.status.idle": "2023-03-03T21:25:43.799885Z",
     "shell.execute_reply": "2023-03-03T21:25:43.798662Z"
    },
    "papermill": {
     "duration": 0.062656,
     "end_time": "2023-03-03T21:25:43.802850",
     "exception": false,
     "start_time": "2023-03-03T21:25:43.740194",
     "status": "completed"
    },
    "tags": []
   },
   "outputs": [
    {
     "data": {
      "application/javascript": [
       "\n",
       "            setTimeout(function() {\n",
       "                var nbb_cell_id = 21;\n",
       "                var nbb_unformatted_code = \"example_fn = train_with_meta.dropna().query('sign == \\\"shhh\\\"')['path'].values[0]\\nlandmark_example = pd.read_parquet(f'{BASE_DIR}/{example_fn}')\";\n",
       "                var nbb_formatted_code = \"example_fn = train_with_meta.dropna().query('sign == \\\"shhh\\\"')[\\\"path\\\"].values[0]\\nlandmark_example = pd.read_parquet(f\\\"{BASE_DIR}/{example_fn}\\\")\";\n",
       "                var nbb_cells = Jupyter.notebook.get_cells();\n",
       "                for (var i = 0; i < nbb_cells.length; ++i) {\n",
       "                    if (nbb_cells[i].input_prompt_number == nbb_cell_id) {\n",
       "                        if (nbb_cells[i].get_text() == nbb_unformatted_code) {\n",
       "                             nbb_cells[i].set_text(nbb_formatted_code);\n",
       "                        }\n",
       "                        break;\n",
       "                    }\n",
       "                }\n",
       "            }, 500);\n",
       "            "
      ],
      "text/plain": [
       "<IPython.core.display.Javascript object>"
      ]
     },
     "metadata": {},
     "output_type": "display_data"
    }
   ],
   "source": [
    "example_fn = train_with_meta.dropna().query('sign == \"shhh\"')['path'].values[0]\n",
    "landmark_example = pd.read_parquet(f'{BASE_DIR}/{example_fn}')"
   ]
  },
  {
   "cell_type": "code",
   "execution_count": 22,
   "id": "501c90f6",
   "metadata": {
    "execution": {
     "iopub.execute_input": "2023-03-03T21:25:43.838813Z",
     "iopub.status.busy": "2023-03-03T21:25:43.838338Z",
     "iopub.status.idle": "2023-03-03T21:25:43.851792Z",
     "shell.execute_reply": "2023-03-03T21:25:43.850400Z"
    },
    "papermill": {
     "duration": 0.034587,
     "end_time": "2023-03-03T21:25:43.854452",
     "exception": false,
     "start_time": "2023-03-03T21:25:43.819865",
     "status": "completed"
    },
    "tags": []
   },
   "outputs": [
    {
     "data": {
      "text/plain": [
       "25.0"
      ]
     },
     "execution_count": 22,
     "metadata": {},
     "output_type": "execute_result"
    },
    {
     "data": {
      "application/javascript": [
       "\n",
       "            setTimeout(function() {\n",
       "                var nbb_cell_id = 22;\n",
       "                var nbb_unformatted_code = \"landmark_example['frame'].median()\";\n",
       "                var nbb_formatted_code = \"landmark_example[\\\"frame\\\"].median()\";\n",
       "                var nbb_cells = Jupyter.notebook.get_cells();\n",
       "                for (var i = 0; i < nbb_cells.length; ++i) {\n",
       "                    if (nbb_cells[i].input_prompt_number == nbb_cell_id) {\n",
       "                        if (nbb_cells[i].get_text() == nbb_unformatted_code) {\n",
       "                             nbb_cells[i].set_text(nbb_formatted_code);\n",
       "                        }\n",
       "                        break;\n",
       "                    }\n",
       "                }\n",
       "            }, 500);\n",
       "            "
      ],
      "text/plain": [
       "<IPython.core.display.Javascript object>"
      ]
     },
     "metadata": {},
     "output_type": "display_data"
    }
   ],
   "source": [
    "landmark_example['frame'].median()"
   ]
  },
  {
   "cell_type": "code",
   "execution_count": 23,
   "id": "26389a36",
   "metadata": {
    "execution": {
     "iopub.execute_input": "2023-03-03T21:25:43.890768Z",
     "iopub.status.busy": "2023-03-03T21:25:43.889572Z",
     "iopub.status.idle": "2023-03-03T21:25:43.908111Z",
     "shell.execute_reply": "2023-03-03T21:25:43.906792Z"
    },
    "papermill": {
     "duration": 0.039552,
     "end_time": "2023-03-03T21:25:43.910899",
     "exception": false,
     "start_time": "2023-03-03T21:25:43.871347",
     "status": "completed"
    },
    "tags": []
   },
   "outputs": [
    {
     "data": {
      "text/plain": [
       "face          468\n",
       "pose           33\n",
       "left_hand      21\n",
       "right_hand     21\n",
       "Name: type, dtype: int64"
      ]
     },
     "execution_count": 23,
     "metadata": {},
     "output_type": "execute_result"
    },
    {
     "data": {
      "application/javascript": [
       "\n",
       "            setTimeout(function() {\n",
       "                var nbb_cell_id = 23;\n",
       "                var nbb_unformatted_code = \"landmark_example.query(\\\"frame == 25\\\")['type'].value_counts()\";\n",
       "                var nbb_formatted_code = \"landmark_example.query(\\\"frame == 25\\\")[\\\"type\\\"].value_counts()\";\n",
       "                var nbb_cells = Jupyter.notebook.get_cells();\n",
       "                for (var i = 0; i < nbb_cells.length; ++i) {\n",
       "                    if (nbb_cells[i].input_prompt_number == nbb_cell_id) {\n",
       "                        if (nbb_cells[i].get_text() == nbb_unformatted_code) {\n",
       "                             nbb_cells[i].set_text(nbb_formatted_code);\n",
       "                        }\n",
       "                        break;\n",
       "                    }\n",
       "                }\n",
       "            }, 500);\n",
       "            "
      ],
      "text/plain": [
       "<IPython.core.display.Javascript object>"
      ]
     },
     "metadata": {},
     "output_type": "display_data"
    }
   ],
   "source": [
    "landmark_example.query(\"frame == 25\")['type'].value_counts()"
   ]
  },
  {
   "cell_type": "markdown",
   "id": "e495e3fe",
   "metadata": {
    "papermill": {
     "duration": 0.017041,
     "end_time": "2023-03-03T21:25:43.946181",
     "exception": false,
     "start_time": "2023-03-03T21:25:43.929140",
     "status": "completed"
    },
    "tags": []
   },
   "source": [
    "### 3D plot of landmarks from \"shhh\" example."
   ]
  },
  {
   "cell_type": "code",
   "execution_count": 24,
   "id": "2b5c1781",
   "metadata": {
    "execution": {
     "iopub.execute_input": "2023-03-03T21:25:43.982879Z",
     "iopub.status.busy": "2023-03-03T21:25:43.981826Z",
     "iopub.status.idle": "2023-03-03T21:25:47.603125Z",
     "shell.execute_reply": "2023-03-03T21:25:47.601812Z"
    },
    "papermill": {
     "duration": 3.642942,
     "end_time": "2023-03-03T21:25:47.606171",
     "exception": false,
     "start_time": "2023-03-03T21:25:43.963229",
     "status": "completed"
    },
    "tags": []
   },
   "outputs": [
    {
     "data": {
      "text/html": [
       "        <script type=\"text/javascript\">\n",
       "        window.PlotlyConfig = {MathJaxConfig: 'local'};\n",
       "        if (window.MathJax && window.MathJax.Hub && window.MathJax.Hub.Config) {window.MathJax.Hub.Config({SVG: {font: \"STIX-Web\"}});}\n",
       "        if (typeof require !== 'undefined') {\n",
       "        require.undef(\"plotly\");\n",
       "        requirejs.config({\n",
       "            paths: {\n",
       "                'plotly': ['https://cdn.plot.ly/plotly-2.18.0.min']\n",
       "            }\n",
       "        });\n",
       "        require(['plotly'], function(Plotly) {\n",
       "            window._Plotly = Plotly;\n",
       "        });\n",
       "        }\n",
       "        </script>\n",
       "        "
      ]
     },
     "metadata": {},
     "output_type": "display_data"
    },
    {
     "data": {
      "text/html": [
       "<div>                            <div id=\"6db56a4c-821b-4522-8218-c46783482f21\" class=\"plotly-graph-div\" style=\"height:525px; width:100%;\"></div>            <script type=\"text/javascript\">                require([\"plotly\"], function(Plotly) {                    window.PLOTLYENV=window.PLOTLYENV || {};                                    if (document.getElementById(\"6db56a4c-821b-4522-8218-c46783482f21\")) {                    Plotly.newPlot(                        \"6db56a4c-821b-4522-8218-c46783482f21\",                        [{\"hovertemplate\":\"type=face<br>x=%{x}<br>y=%{y}<br>z=%{z}<extra></extra>\",\"legendgroup\":\"face\",\"marker\":{\"color\":\"#636efa\",\"symbol\":\"circle\"},\"mode\":\"markers\",\"name\":\"face\",\"scene\":\"scene\",\"showlegend\":true,\"x\":[0.4295385777950287,0.43814510107040405,0.4302345812320709,0.4301706552505493,0.44112691283226013,0.44238021969795227,0.4429408311843872,0.3363586366176605,0.4482746124267578,0.4521692991256714,0.4654483199119568,0.42841312289237976,0.4263445734977722,0.4242589473724365,0.42322230339050293,0.422437459230423,0.4209248423576355,0.4189659357070923,0.40745437145233154,0.43513503670692444,0.4210328161716461,0.289704293012619,0.37549760937690735,0.3616497218608856,0.34802454710006714,0.3290344178676605,0.3874785006046295,0.3616892397403717,0.3771197497844696,0.34595680236816406,0.3344188332557678,0.3166188597679138,0.35020747780799866,0.3310199975967407,0.26807624101638794,0.3005905747413635,0.35759690403938293,0.41277244687080383,0.41252174973487854,0.3943522870540619,0.3842282295227051,0.4006657898426056,0.39273473620414734,0.3473910093307495,0.42746925354003906,0.4280109405517578,0.3164147138595581,0.39214587211608887,0.39111649990081787,0.3893601596355438,0.31063610315322876,0.42969998717308044,0.3555462956428528,0.33351409435272217,0.3129224479198456,0.41743624210357666,0.3893621563911438,0.33969008922576904,0.25257009267807007,0.40051260590553284,0.41075068712234497,0.3780716359615326,0.38242852687835693,0.32670196890830994,0.38866865634918213,0.38299813866615295,0.38291388750076294,0.3817985951900482,0.3227940797805786,0.38572269678115845,0.30779486894607544,0.30063167214393616,0.41228076815605164,0.3972609043121338,0.38817811012268066,0.4028911888599396,0.3803912401199341,0.3832288682460785,0.3843417465686798,0.40897929668426514,0.39604637026786804,0.40351933240890503,0.4131007492542267,0.3876493275165558,0.4017428755760193,0.40500620007514954,0.40852129459381104,0.41158610582351685,0.3954806625843048,0.39143019914627075,0.3863967955112457,0.38180017471313477,0.36209338903427124,0.24782642722129822,0.4326491057872772,0.39031609892845154,0.3871852159500122,0.41316309571266174,0.39016973972320557,0.4121352434158325,0.3750799298286438,0.34947752952575684,0.38534238934516907,0.3425080180168152,0.35004371404647827,0.3522060811519623,0.3560912311077118,0.41679847240448,0.420329213142395,0.4214417338371277,0.33601582050323486,0.29978665709495544,0.3954411447048187,0.31846529245376587,0.4043722152709961,0.4011536240577698,0.2778109312057495,0.3095618486404419,0.3284446597099304,0.3564625680446625,0.37732669711112976,0.3933336138725281,0.4286593496799469,0.27354568243026733,0.3074195384979248,0.4285358786582947,0.3924163281917572,0.2604150176048279,0.4059954881668091,0.3821931481361389,0.32397210597991943,0.40011709928512573,0.24709022045135498,0.39512693881988525,0.4150362014770508,0.286945641040802,0.27960845828056335,0.25346091389656067,0.2693847417831421,0.2838367521762848,0.3440042734146118,0.4278049170970917,0.3776063024997711,0.2866581082344055,0.35065141320228577,0.36258429288864136,0.37917447090148926,0.27000582218170166,0.3649153411388397,0.32134655117988586,0.3019522726535797,0.45900028944015503,0.3932202458381653,0.37398892641067505,0.3845745027065277,0.3915644884109497,0.29623663425445557,0.38357362151145935,0.37232333421707153,0.36118537187576294,0.34917008876800537,0.3407220244407654,0.2730534076690674,0.34236669540405273,0.42841970920562744,0.3783815801143646,0.4012729227542877,0.4087448716163635,0.44467616081237793,0.30644792318344116,0.32366234064102173,0.3686601221561432,0.2639995217323303,0.3915767967700958,0.4168422818183899,0.3970035910606384,0.34175390005111694,0.2516222596168518,0.4024193584918976,0.3982095718383789,0.39325690269470215,0.3890167772769928,0.3690083920955658,0.3872566819190979,0.38302162289619446,0.37905555963516235,0.34890905022621155,0.2911495864391327,0.41690778732299805,0.40998125076293945,0.39941835403442383,0.3906199038028717,0.28301307559013367,0.4260515570640564,0.3578890562057495,0.4424424171447754,0.4293355345726013,0.4425208866596222,0.40324974060058594,0.40050530433654785,0.40400734543800354,0.3802511692047119,0.3321792483329773,0.367324560880661,0.34266090393066406,0.3303329348564148,0.35026073455810547,0.3135386109352112,0.37398168444633484,0.3924142122268677,0.3168139159679413,0.3319265842437744,0.32408812642097473,0.2699124217033386,0.30183395743370056,0.25600647926330566,0.3355052173137665,0.4047638177871704,0.40549004077911377,0.39536821842193604,0.41452041268348694,0.40086954832077026,0.37957194447517395,0.35939788818359375,0.3413027226924896,0.3270915448665619,0.31409627199172974,0.2588754892349243,0.32424208521842957,0.33929166197776794,0.3585125207901001,0.3766099810600281,0.3909512162208557,0.4012787938117981,0.25325578451156616,0.3943658173084259,0.4168563187122345,0.4170263707637787,0.4213147759437561,0.41524645686149597,0.3961855471134186,0.42416271567344666,0.4237073063850403,0.40096741914749146,0.40995755791664124,0.4161975085735321,0.3353864848613739,0.32604438066482544,0.45214179158210754,0.5291405320167542,0.4435235261917114,0.5724422335624695,0.4933689534664154,0.5055892467498779,0.517289400100708,0.5330579280853271,0.4832627773284912,0.518054187297821,0.5033015012741089,0.5310959219932556,0.5385440587997437,0.5404621362686157,0.44657644629478455,0.5336012244224548,0.5673397183418274,0.5519405603408813,0.4945923686027527,0.4450961947441101,0.43761420249938965,0.4573048949241638,0.4611206352710724,0.4454672634601593,0.44951432943344116,0.4693104922771454,0.44746121764183044,0.45167842507362366,0.5556497573852539,0.47377651929855347,0.4708593785762787,0.47265809774398804,0.5321277379989624,0.4528891444206238,0.5328143239021301,0.5477796196937561,0.5684546232223511,0.47694098949432373,0.48966360092163086,0.48115959763526917,0.5263621807098389,0.4595645070075989,0.44913002848625183,0.45773932337760925,0.4538755416870117,0.5538577437400818,0.468863844871521,0.5104809403419495,0.5142914056777954,0.5343234539031982,0.5604580044746399,0.5220555067062378,0.561064600944519,0.5674331188201904,0.4422139525413513,0.4518390893936157,0.45594626665115356,0.45569607615470886,0.45577573776245117,0.4541722536087036,0.45223870873451233,0.4575788676738739,0.4440556466579437,0.439788818359375,0.4332021474838257,0.42509064078330994,0.4343073070049286,0.43512439727783203,0.4345076084136963,0.4328225255012512,0.4441361129283905,0.4478532075881958,0.451724648475647,0.4545883238315582,0.47557497024536133,0.5502594709396362,0.4473190903663635,0.45070508122444153,0.4456103444099426,0.4632139205932617,0.4472954571247101,0.48593831062316895,0.5057036876678467,0.47258156538009644,0.5572489500045776,0.5464484095573425,0.537940263748169,0.4574962854385376,0.4843332767486572,0.49361783266067505,0.504963755607605,0.5269769430160522,0.5502484440803528,0.4769114851951599,0.547405481338501,0.4663889408111572,0.46667230129241943,0.560662031173706,0.54404616355896,0.5303283929824829,0.5072823166847229,0.4899100363254547,0.47727811336517334,0.45382586121559143,0.5570379495620728,0.5547446012496948,0.44079336524009705,0.47136127948760986,0.5638929009437561,0.46881404519081116,0.47301197052001953,0.5389505624771118,0.4682712256908417,0.5408437848091125,0.4767760634422302,0.46109360456466675,0.5017991065979004,0.49498915672302246,0.5607380270957947,0.5203681588172913,0.5684946179389954,0.4449521005153656,0.43732982873916626,0.48048368096351624,0.5580807328224182,0.5174376964569092,0.5069915652275085,0.4571044445037842,0.5497046113014221,0.419113427400589,0.45719146728515625,0.47446945309638977,0.4966074824333191,0.48682063817977905,0.48030591011047363,0.5600427985191345,0.4885428845882416,0.4996339678764343,0.5105259418487549,0.5210167765617371,0.5274698138237,0.5710703730583191,0.5243504047393799,0.4668610692024231,0.4609817862510681,0.4456383287906647,0.4815157651901245,0.4636531174182892,0.4227105677127838,0.5107789039611816,0.48069337010383606,0.4595378041267395,0.4393822252750397,0.5518730878829956,0.43977540731430054,0.4429246187210083,0.44564157724380493,0.4469063878059387,0.44306060671806335,0.4517478346824646,0.45667800307273865,0.46132713556289673,0.4806959331035614,0.5344457626342773,0.46006694436073303,0.4705565571784973,0.47687244415283203,0.4472348988056183,0.5240464210510254,0.4611380994319916,0.4456460475921631,0.4527548849582672,0.465747207403183,0.4247989356517792,0.47699230909347534,0.48120054602622986,0.4625217318534851,0.5111970901489258,0.4899161458015442,0.515018105506897,0.4243038296699524,0.4705106019973755,0.48300665616989136,0.4651641547679901,0.49117448925971985,0.539580225944519,0.5052118301391602,0.5384663939476013,0.49418237805366516,0.46532270312309265,0.4620054066181183,0.46632838249206543,0.45989134907722473,0.4835192561149597,0.5061509013175964,0.5247822403907776,0.5387387275695801,0.5466580986976624,0.5446481704711914,0.5651362538337708,0.5348386764526367,0.5228132605552673,0.5066816210746765,0.49113479256629944,0.47931918501853943,0.4716416001319885,0.5562270879745483,0.4642072916030884,0.4599315822124481,0.4547441899776459,0.4459894299507141,0.4533776044845581,0.45992642641067505,0.4442019760608673,0.4408344328403473,0.47275447845458984,0.46631795167922974,0.4631980061531067,0.5311158299446106,0.5419512987136841],\"y\":[0.3797032833099365,0.35464194416999817,0.3659914433956146,0.32167428731918335,0.34431031346321106,0.33181270956993103,0.3014960289001465,0.2823520302772522,0.27038052678108215,0.2546696662902832,0.19814813137054443,0.3859992027282715,0.39397597312927246,0.4003611207008362,0.412859708070755,0.4191426634788513,0.42672401666641235,0.4341995120048523,0.4444478750228882,0.36053144931793213,0.35950419306755066,0.22595806419849396,0.2960972189903259,0.2954360544681549,0.29322949051856995,0.28463682532310486,0.29510974884033203,0.26130208373069763,0.26508092880249023,0.2607606053352356,0.2637215852737427,0.2886655926704407,0.4489104449748993,0.2786690890789032,0.2744579315185547,0.2769034802913666,0.3379199802875519,0.376664936542511,0.39355260133743286,0.383258581161499,0.3910984694957733,0.3954601585865021,0.39869987964630127,0.4090248942375183,0.35314610600471497,0.34299981594085693,0.24795469641685486,0.3172251880168915,0.3469398319721222,0.34168845415115356,0.33072298765182495,0.33125531673431396,0.24132144451141357,0.24195116758346558,0.2082497924566269,0.26173335313796997,0.27184736728668213,0.3956605792045593,0.38309189677238464,0.354474276304245,0.3592546880245209,0.405321329832077,0.4053836464881897,0.2325163334608078,0.35150420665740967,0.24680717289447784,0.23691070079803467,0.1907757967710495,0.21976441144943237,0.2133445143699646,0.2405976504087448,0.23352843523025513,0.3850623369216919,0.3894179165363312,0.3948642909526825,0.356889933347702,0.4053691029548645,0.40843862295150757,0.40537041425704956,0.3515793979167938,0.4013790488243103,0.3998048007488251,0.39934223890304565,0.44013306498527527,0.43015700578689575,0.4231324791908264,0.41595423221588135,0.4106450378894806,0.4075051546096802,0.40962308645248413,0.41235560178756714,0.41558846831321716,0.37745726108551025,0.32275980710983276,0.36332497000694275,0.40653353929519653,0.40742263197898865,0.3634909689426422,0.35811495780944824,0.361477255821228,0.32044506072998047,0.3232918083667755,0.3460399806499481,0.19600948691368103,0.21227607131004333,0.2311129868030548,0.4203105866909027,0.24556028842926025,0.2192770540714264,0.1920178234577179,0.28963273763656616,0.2933863401412964,0.2934623956680298,0.265639066696167,0.31232568621635437,0.3440166413784027,0.2985413670539856,0.30329734086990356,0.3106519877910614,0.3133127689361572,0.3119339346885681,0.3090765178203583,0.30196645855903625,0.32195696234703064,0.26113051176071167,0.3593957722187042,0.3271125257015228,0.27200841903686523,0.3048294186592102,0.3466236889362335,0.27684223651885986,0.3376484513282776,0.35133248567581177,0.28957462310791016,0.33331066370010376,0.4163527488708496,0.4296121299266815,0.3219892978668213,0.39819541573524475,0.252578467130661,0.4601062536239624,0.3623209595680237,0.3325357735157013,0.27649325132369995,0.28734612464904785,0.2891559302806854,0.4098545014858246,0.3450535833835602,0.4793149530887604,0.45895272493362427,0.4471014738082886,0.22637614607810974,0.4849625825881958,0.2896783947944641,0.2895691692829132,0.2897729277610779,0.2562866806983948,0.2817026674747467,0.27768462896347046,0.27559712529182434,0.27525079250335693,0.27634865045547485,0.24633124470710754,0.2848929762840271,0.37371140718460083,0.37238550186157227,0.35259005427360535,0.3719017803668976,0.28646373748779297,0.43307405710220337,0.4465276002883911,0.47125494480133057,0.40971964597702026,0.28650957345962524,0.3162803649902344,0.4776510000228882,0.46995800733566284,0.3480933904647827,0.40875110030174255,0.41241174936294556,0.41739434003829956,0.4233447015285492,0.4312991499900818,0.4020618200302124,0.40030455589294434,0.39824792742729187,0.3851340711116791,0.35348257422447205,0.30641308426856995,0.28207850456237793,0.2825804352760315,0.4032660722732544,0.381824254989624,0.28347504138946533,0.43924257159233093,0.3218286335468292,0.3126641809940338,0.3124278485774994,0.33002254366874695,0.46690285205841064,0.45493853092193604,0.44977545738220215,0.4121658504009247,0.35322874784469604,0.42668575048446655,0.3478803336620331,0.36262404918670654,0.3644391894340515,0.4606594145298004,0.33468693494796753,0.4203418493270874,0.4353400468826294,0.3958757221698761,0.3656312823295593,0.39687323570251465,0.37360984086990356,0.3755146265029907,0.3215724229812622,0.3491670787334442,0.35085329413414,0.3430173695087433,0.2694956064224243,0.25819528102874756,0.2534785866737366,0.25323179364204407,0.2570650577545166,0.2769715487957001,0.29776668548583984,0.2950480580329895,0.30057650804519653,0.303431898355484,0.30343642830848694,0.3018338680267334,0.29961535334587097,0.2969217002391815,0.3537673056125641,0.32474660873413086,0.3508922755718231,0.3573131561279297,0.3528672456741333,0.35736557841300964,0.35839471220970154,0.36132267117500305,0.2906283736228943,0.29440993070602417,0.29725080728530884,0.27756863832473755,0.26861733198165894,0.3248201906681061,0.3147120475769043,0.36272525787353516,0.270860880613327,0.3161901831626892,0.31894704699516296,0.32030558586120605,0.3189883530139923,0.3120225667953491,0.2892385423183441,0.28844141960144043,0.2928778827190399,0.2987772524356842,0.32536301016807556,0.4600505232810974,0.313574880361557,0.3206494450569153,0.3197404444217682,0.3574746251106262,0.38091257214546204,0.39692097902297974,0.39100855588912964,0.4007689356803894,0.40119972825050354,0.4059126675128937,0.42425501346588135,0.3560055196285248,0.34626123309135437,0.2897259294986725,0.32920485734939575,0.3577505648136139,0.35302144289016724,0.36275529861450195,0.33448725938796997,0.2733196020126343,0.2795776128768921,0.24970388412475586,0.2748185098171234,0.2910078167915344,0.41359442472457886,0.4197130799293518,0.3623524010181427,0.36441710591316223,0.4165445566177368,0.415210485458374,0.2737495005130768,0.3622443675994873,0.2710443139076233,0.2624976933002472,0.21633782982826233,0.2593476176261902,0.2373194396495819,0.286467969417572,0.2767540216445923,0.38902705907821655,0.39643681049346924,0.4034225046634674,0.36381766200065613,0.4159402549266815,0.41850733757019043,0.41454949975013733,0.35851600766181946,0.40738996863365173,0.4045111835002899,0.4020810127258301,0.44490277767181396,0.4348435401916504,0.4272608757019043,0.41956597566604614,0.4136757254600525,0.41381001472473145,0.41744011640548706,0.4218693971633911,0.42646655440330505,0.39216405153274536,0.3673243522644043,0.4137980341911316,0.4161023497581482,0.36788859963417053,0.36764997243881226,0.3662581443786621,0.33664020895957947,0.3461184501647949,0.3578433394432068,0.2315882295370102,0.2462306171655655,0.2655182480812073,0.4329720735549927,0.2612057328224182,0.23204118013381958,0.20594844222068787,0.3207588195800781,0.33339929580688477,0.3081108033657074,0.30484911799430847,0.3215414881706238,0.3531690239906311,0.3409590423107147,0.3388746380805969,0.3397813141345978,0.3350566625595093,0.32854682207107544,0.3217376172542572,0.3058748245239258,0.36336788535118103,0.30419808626174927,0.3611097037792206,0.338397353887558,0.31861037015914917,0.3143429160118103,0.3589330315589905,0.31405776739120483,0.34709012508392334,0.39291176199913025,0.30457404255867004,0.3397313058376312,0.4432038962841034,0.45542335510253906,0.36730706691741943,0.4312264025211334,0.29754239320755005,0.471096396446228,0.36367401480674744,0.34714677929878235,0.32323041558265686,0.31453993916511536,0.313149631023407,0.4210873544216156,0.385003924369812,0.48472440242767334,0.47333449125289917,0.46638399362564087,0.31094884872436523,0.30809280276298523,0.30616605281829834,0.30366963148117065,0.3015590310096741,0.3016040027141571,0.3028559684753418,0.30576691031455994,0.3090011179447174,0.29280146956443787,0.31488221883773804,0.3838960528373718,0.36073607206344604,0.37670692801475525,0.453896701335907,0.4621927738189697,0.47708162665367126,0.4410572946071625,0.3029806911945343,0.3225247859954834,0.4798811078071594,0.3910759687423706,0.4138658344745636,0.41870808601379395,0.42506104707717896,0.43217241764068604,0.44060301780700684,0.4104847311973572,0.410138875246048,0.40915679931640625,0.40202635526657104,0.3878544867038727,0.31302565336227417,0.29406046867370605,0.29732218384742737,0.41041672229766846,0.41437000036239624,0.29071536660194397,0.4496876895427704,0.3160916864871979,0.3389184772968292,0.45503002405166626,0.4302404224872589,0.36876899003982544,0.441156804561615,0.37348657846450806,0.38171055912971497,0.39235031604766846,0.46646150946617126,0.3455705940723419,0.4407332241535187,0.45094799995422363,0.417449027299881,0.40309953689575195,0.42326146364212036,0.4125674366950989,0.3967897891998291,0.330345094203949,0.3570905029773712,0.36043494939804077,0.34934577345848083,0.2855474352836609,0.2815099358558655,0.2826695442199707,0.2872166037559509,0.2946358323097229,0.3165123760700226,0.3440813422203064,0.3285073935985565,0.3287382125854492,0.3264390528202057,0.3219316005706787,0.31662288308143616,0.3115864396095276,0.34267520904541016,0.36307355761528015,0.33087989687919617,0.35621458292007446,0.3608573079109192,0.35843393206596375,0.36565250158309937,0.3612240254878998,0.36366036534309387,0.303734689950943,0.30451932549476624,0.3048776686191559,0.3114599585533142,0.30558428168296814],\"z\":[-0.04301070794463158,-0.06757070124149323,-0.039569512009620667,-0.046947188675403595,-0.07022687792778015,-0.06306376308202744,-0.02384132146835327,0.015657799318432808,-0.01019999012351036,-0.009636088274419308,0.011230549775063992,-0.042322613298892975,-0.03919435292482376,-0.03391421586275101,-0.027236128225922585,-0.029045572504401207,-0.0320778526365757,-0.0303469430655241,-0.021024400368332863,-0.06214413046836853,-0.047005545347929,0.07752730697393417,0.0035321067553013563,0.003831477602943778,0.006635823752731085,0.01617455668747425,0.007258225232362747,0.0027146823704242706,0.004235461819916964,0.005627746228128672,0.009556186385452747,0.020622525364160538,-0.01316592562943697,0.019964070990681648,0.07201707363128662,0.03334760293364525,-0.015406452119350433,-0.04267651215195656,-0.038853637874126434,-0.037602100521326065,-0.029133295640349388,-0.03503615781664848,-0.027122383937239647,-0.011537658981978893,-0.067284494638443,-0.06958714127540588,0.015000926330685616,-0.010437251068651676,-0.04042758047580719,-0.03620309382677078,-0.0027767412830144167,-0.06056521460413933,-0.0006208959384821355,0.00732903927564621,0.05878564715385437,-0.008376696147024632,0.007867510430514812,-0.009202412329614162,0.0853288397192955,-0.036360662430524826,-0.03620951250195503,-0.01015459280461073,-0.013114046305418015,0.013638163916766644,-0.03456476703286171,-0.00622020335868001,-0.007419475819915533,0.020120302215218544,0.032938141375780106,0.0058188303373754025,0.025520095601677895,0.04985367879271507,-0.042164821177721024,-0.03685760870575905,-0.029190143570303917,-0.032685890793800354,-0.011620958335697651,-0.01754070073366165,-0.013107032515108585,-0.05135425552725792,-0.02526617795228958,-0.030499957501888275,-0.03396406024694443,-0.021990859881043434,-0.03114982880651951,-0.032350122928619385,-0.029080655425786972,-0.027348749339580536,-0.02031484991312027,-0.02223542332649231,-0.024732444435358047,-0.023254141211509705,-0.024879423901438713,0.1111755222082138,-0.04717017337679863,-0.01585322804749012,-0.017197750508785248,-0.03780351206660271,-0.026232777163386345,-0.03708620369434357,-0.008577080443501472,-0.007219832390546799,-0.03031260520219803,0.03813328593969345,0.01835162192583084,0.00233419775031507,-0.016781747341156006,-0.010962337255477905,-0.00034843580215238035,0.010780319571495056,0.011295841075479984,0.025010589510202408,0.009900294244289398,0.019039195030927658,-0.012839162722229958,-0.05081511288881302,0.03550000488758087,0.01305313128978014,0.002329776296392083,-0.0004980439553037286,-0.00132146873511374,-0.0022871203254908323,-0.02069946564733982,0.028152991086244583,0.024041078984737396,-0.0621303915977478,-0.018069665879011154,0.11158004403114319,-0.0018662745133042336,-0.01839022897183895,0.021771876141428947,-0.04536557197570801,0.10148295760154724,0.013694094493985176,-0.055112697184085846,0.024967217817902565,0.04286636412143707,0.06924737989902496,0.03862905874848366,0.06455349177122116,-0.008707929402589798,-0.04675709828734398,-0.0157040785998106,0.04395399987697601,0.008543143048882484,0.006217315327376127,-0.016286859288811684,0.028195912018418312,-0.006036655977368355,0.015003575012087822,0.027126748114824295,-0.0003238111094105989,-0.007397717330604792,0.006776721682399511,0.009618313983082771,0.013187740929424763,0.035852376371622086,0.008732778951525688,0.006705190520733595,0.006570221856236458,0.00855680089443922,0.011575426906347275,0.0975298136472702,0.012210588902235031,-0.03801997750997543,-0.03018229268491268,-0.03946888819336891,-0.038410138338804245,-0.01285705715417862,0.014516646042466164,0.0034959728363901377,-0.01866919919848442,0.06375778466463089,0.011868738569319248,-0.028891056776046753,-0.01925257034599781,0.0022186364512890577,0.06342586129903793,-0.024504749104380608,-0.026292461901903152,-0.029255375266075134,-0.028163542971014977,-0.021265694871544838,-0.019761212170124054,-0.01972782425582409,-0.019678570330142975,-0.017046364024281502,0.005490519572049379,-0.015853891149163246,0.007010756991803646,0.011145214550197124,-0.018849937245249748,0.01964600570499897,-0.006949135102331638,-0.016461927443742752,-0.04957444965839386,-0.03461849316954613,-0.0360979326069355,-0.03269214555621147,-0.022711196914315224,-0.02106144092977047,-0.02056363970041275,-0.005423893686383963,-0.01702304370701313,-0.010865213349461555,-0.013560357503592968,-0.017197895795106888,-0.007107424084097147,-0.02179677225649357,-0.026133261620998383,0.0034215745981782675,-0.003542313352227211,-0.004718892276287079,0.029905909672379494,0.005282420665025711,0.054976046085357666,-0.013168096542358398,-0.022914597764611244,-0.05356631428003311,-0.04176584631204605,-0.060596171766519547,0.0040291110053658485,0.0020619332790374756,0.0020656660199165344,0.0055929445661604404,0.01154342945665121,0.025884374976158142,0.07082925736904144,0.013754092156887054,0.007362082600593567,0.0036696947645395994,0.00204215245321393,0.004497120156884193,0.004778506699949503,0.11523391306400299,-0.036139000207185745,-0.04045359045267105,-0.06209671124815941,-0.05740164965391159,-0.056542396545410156,-0.03213673457503319,-0.06056899204850197,-0.046832915395498276,0.012343328446149826,0.005287064239382744,-0.0028460505418479443,0.015210489742457867,0.015542145818471909,-0.044602785259485245,0.0320042259991169,-0.045122865587472916,0.10152218490839005,0.014049249701201916,0.01645461842417717,0.021410979330539703,0.0337039940059185,0.015310078859329224,0.015789898112416267,0.014403529465198517,0.021132692694664,0.026295403018593788,0.03942873328924179,-0.005684898234903812,0.03711111471056938,0.09859710186719894,0.05478908121585846,-0.005308906547725201,-0.03959143906831741,-0.0360441654920578,-0.03121744841337204,-0.020678788423538208,-0.02957458794116974,-0.019942812621593475,-0.0013605161802843213,-0.06570950895547867,-0.06778158992528915,0.035130590200424194,-0.0033394363708794117,-0.033410221338272095,-0.029014479368925095,0.014369622804224491,-0.058307163417339325,0.012438669800758362,0.024223513901233673,0.08038070797920227,-0.004562097601592541,0.016149137169122696,0.0025976935867220163,0.1076565757393837,-0.03062283620238304,-0.03337040916085243,0.0005465581780299544,-0.003547624684870243,0.03213195502758026,-0.027662605047225952,0.0026398710906505585,0.002042562235146761,0.03183015063405037,0.053970836102962494,0.016987424343824387,0.04738398268818855,0.07374738901853561,-0.03911589831113815,-0.030930249020457268,-0.02141646295785904,-0.02847413159906864,-0.0016316690016537905,-0.008647550828754902,-0.0037309115286916494,-0.046545788645744324,-0.018358491361141205,-0.025182612240314484,-0.030944759026169777,-0.01930924318730831,-0.027880476787686348,-0.028707580640912056,-0.025588177144527435,-0.02409582957625389,-0.013357731513679028,-0.015004843473434448,-0.017462674528360367,-0.015702584758400917,-0.01539861410856247,0.13581912219524384,-0.007424256298691034,-0.00859806127846241,-0.035225868225097656,-0.020962249487638474,-0.03440047428011894,0.0004711835936177522,0.00477422634139657,-0.022888116538524628,0.055614668875932693,0.03500443324446678,0.016536686569452286,-0.008227168582379818,-0.006639770232141018,0.005341636016964912,0.016557030379772186,0.028000731021165848,0.04621240496635437,0.017202535644173622,0.038154758512973785,-0.007132527884095907,-0.04515208303928375,0.05954642593860626,0.032843347638845444,0.01887136697769165,0.011763092130422592,0.00798446498811245,0.005005906336009502,-0.018437322229146957,0.0518190972507,0.04568015784025192,-0.06085079908370972,-0.011228539980947971,0.1369084119796753,0.003582458710297942,-0.011621666140854359,0.03970737010240555,-0.03958909213542938,0.1253201812505722,0.02123662456870079,-0.05099564045667648,0.04194987192749977,0.05888531357049942,0.09554186463356018,0.05916242301464081,0.09015288203954697,-0.0005668802768923342,-0.04595895856618881,-0.007560852449387312,0.06777690351009369,0.0228506401181221,0.018820790573954582,-0.0068790907971560955,0.0509023554623127,-0.0021034106612205505,0.025063570588827133,0.03984495997428894,0.017525289207696915,0.018786747008562088,0.021355638280510902,0.059229228645563126,0.018180109560489655,0.017698949202895164,0.019448596984148026,0.023304391652345657,0.027177909389138222,0.1225084736943245,0.027789322659373283,-0.02276756428182125,-0.03443211689591408,-0.03527206555008888,0.028413359075784683,0.014619224704802036,-0.014340436086058617,0.08378452807664871,0.020270531997084618,-0.025039970874786377,0.009386170655488968,0.08867420256137848,-0.018934395164251328,-0.020394323393702507,-0.02322692610323429,-0.02220272086560726,-0.014805412851274014,-0.010838682763278484,-0.010108676739037037,-0.009578976780176163,-0.005691949278116226,0.024272844195365906,-0.011833151802420616,0.012268082238733768,0.01816779561340809,-0.010401817969977856,0.038653403520584106,-0.004219003953039646,-0.009839246980845928,-0.0325901173055172,-0.0275274571031332,-0.017506813630461693,0.005780987907201052,-0.00826177652925253,-0.0018676748732104897,-0.0007697066175751388,-0.006537684705108404,0.007526216562837362,-0.01788311079144478,-0.01968272030353546,0.01640249602496624,0.00648335600271821,0.008803806267678738,0.05163324996829033,0.021128568798303604,0.07900411635637283,-0.0004621432162821293,-0.01745198294520378,-0.04837081953883171,-0.03580204024910927,-0.056075822561979294,0.011012585833668709,0.011788718402385712,0.01453660149127245,0.021231338381767273,0.029221126809716225,0.04527997225522995,0.09801026433706284,0.031465720385313034,0.022677097469568253,0.016068601980805397,0.011739390902221203,0.011748056858778,0.01061118021607399,0.14066894352436066,-0.030300797894597054,-0.03642328456044197,-0.05884604901075363,-0.05548509582877159,-0.05314689874649048,-0.027241311967372894,-0.059024613350629807,-0.04548092186450958,0.018706703558564186,0.00985331367701292,0.0009190497803501785,0.03154580667614937,0.03322913870215416],\"type\":\"scatter3d\"},{\"hovertemplate\":\"type=left_hand<br>x=%{x}<br>y=%{y}<br>z=%{z}<extra></extra>\",\"legendgroup\":\"left_hand\",\"marker\":{\"color\":\"#EF553B\",\"symbol\":\"circle\"},\"mode\":\"markers\",\"name\":\"left_hand\",\"scene\":\"scene\",\"showlegend\":true,\"x\":[0.4350913166999817,0.3830272853374481,0.3531145751476288,0.3259190022945404,0.28622713685035706,0.41861391067504883,0.41775232553482056,0.4223073720932007,0.4267685115337372,0.45685917139053345,0.3615722954273224,0.31824207305908203,0.2993428707122803,0.4834846258163452,0.37837356328964233,0.33517181873321533,0.31708797812461853,0.4981044828891754,0.4261579215526581,0.38721030950546265,0.36587685346603394],\"y\":[0.6420328617095947,0.6159604787826538,0.5711719989776611,0.5418016910552979,0.517268717288971,0.5102196335792542,0.4728547930717468,0.44053712487220764,0.41091352701187134,0.5188805460929871,0.5114591717720032,0.5566834807395935,0.5924132466316223,0.5423158407211304,0.5454150438308716,0.5873856544494629,0.6175153851509094,0.5699778199195862,0.5623016953468323,0.5810044407844543,0.5997286438941956],\"z\":[-7.501925836095324e-8,-0.011987602338194847,-0.023687366396188736,-0.03804948180913925,-0.05590832233428955,-0.023056132718920708,-0.052511900663375854,-0.07308603823184967,-0.08846700191497803,-0.03522831201553345,-0.08367466926574707,-0.10142786800861359,-0.10355094075202942,-0.049110300838947296,-0.10454206168651581,-0.11054928600788116,-0.09974312037229538,-0.062100768089294434,-0.11055541038513184,-0.1190587654709816,-0.11366599798202515],\"type\":\"scatter3d\"},{\"hovertemplate\":\"type=pose<br>x=%{x}<br>y=%{y}<br>z=%{z}<extra></extra>\",\"legendgroup\":\"pose\",\"marker\":{\"color\":\"#00cc96\",\"symbol\":\"circle\"},\"mode\":\"markers\",\"name\":\"pose\",\"scene\":\"scene\",\"showlegend\":true,\"x\":[0.42931655049324036,0.4745684266090393,0.49857503175735474,0.5201209783554077,0.39665859937667847,0.36824506521224976,0.34066513180732727,0.5466248989105225,0.29692867398262024,0.46882757544517517,0.37511467933654785,0.735416829586029,0.17771011590957642,0.8491041660308838,0.17767316102981567,0.5366452932357788,0.25066033005714417,0.47003334760665894,0.2507302165031433,0.49954742193222046,0.22295282781124115,0.467745840549469,0.2487729787826538,0.7110080718994141,0.34586301445961,0.7744939923286438,0.4312702715396881,0.8120473027229309,0.479532927274704,0.836431622505188,0.47446057200431824,0.750827968120575,0.5312163829803467],\"y\":[0.3471328020095825,0.30372491478919983,0.3054432272911072,0.3075849711894989,0.2939221262931824,0.2898595929145813,0.286598265171051,0.32250791788101196,0.30460453033447266,0.40165793895721436,0.39230287075042725,0.5117114186286926,0.5414197444915771,0.8643860220909119,0.9049922823905945,0.6802001595497131,0.6878589391708374,0.6527298092842102,0.630989670753479,0.6134020686149597,0.580363392829895,0.6052476167678833,0.602637529373169,1.0190320014953613,1.118592619895935,1.5771855115890503,1.6000144481658936,2.00580096244812,2.0230653285980225,2.0579211711883545,2.072216033935547,2.1516997814178467,2.1742429733276367],\"z\":[-1.3480618000030518,-1.3098419904708862,-1.3098992109298706,-1.3098130226135254,-1.2918986082077026,-1.2908402681350708,-1.2911006212234497,-0.7770183086395264,-0.6663044095039368,-1.133057951927185,-1.1067824363708496,-0.55497807264328,-0.17023132741451263,-0.9431440234184265,-0.8697275519371033,-1.570144772529602,-2.1858441829681396,-1.7180629968643188,-2.3880257606506348,-1.6260963678359985,-2.3411898612976074,-1.5433233976364136,-2.1968133449554443,-0.1473294347524643,0.15203961730003357,-0.10976793617010117,0.49032267928123474,0.5869826674461365,1.259976863861084,0.6009483337402344,1.3146295547485352,-0.1920531541109085,0.4238063395023346],\"type\":\"scatter3d\"},{\"hovertemplate\":\"type=right_hand<br>x=%{x}<br>y=%{y}<br>z=%{z}<extra></extra>\",\"legendgroup\":\"right_hand\",\"marker\":{\"color\":\"#ab63fa\",\"symbol\":\"circle\"},\"mode\":\"markers\",\"name\":\"right_hand\",\"scene\":\"scene\",\"showlegend\":true,\"x\":[0.35390859842300415,0.33248916268348694,0.31962621212005615,0.2979525029659271,0.2659800052642822,0.35613614320755005,0.38718971610069275,0.4038989245891571,0.4149186313152313,0.36284589767456055,0.35875993967056274,0.33303213119506836,0.31916773319244385,0.37179404497146606,0.3579255938529968,0.32688042521476746,0.30861136317253113,0.38687601685523987,0.3778432011604309,0.360640287399292,0.348480761051178],\"y\":[0.6381020545959473,0.6101529598236084,0.5736151337623596,0.5391088128089905,0.5158199071884155,0.527764081954956,0.45826491713523865,0.420978844165802,0.3897227644920349,0.5341978073120117,0.50448077917099,0.5488556027412415,0.5838154554367065,0.5488424897193909,0.5448108315467834,0.5878034830093384,0.6180282235145569,0.5652229189872742,0.5551514029502869,0.5802673101425171,0.6005940437316895],\"z\":[-7.788668909824992e-8,-0.028737246990203857,-0.049257781356573105,-0.06807649880647659,-0.08778929710388184,-0.060712359845638275,-0.09630246460437775,-0.11187130957841873,-0.12045275419950485,-0.058224666863679886,-0.11680012941360474,-0.12657667696475983,-0.11976277083158493,-0.05693097412586212,-0.11436205357313156,-0.10999706387519836,-0.09107255190610886,-0.05568116530776024,-0.0928921103477478,-0.08872000128030777,-0.07554201036691666],\"type\":\"scatter3d\"}],                        {\"template\":{\"data\":{\"histogram2dcontour\":[{\"type\":\"histogram2dcontour\",\"colorbar\":{\"outlinewidth\":0,\"ticks\":\"\"},\"colorscale\":[[0.0,\"#0d0887\"],[0.1111111111111111,\"#46039f\"],[0.2222222222222222,\"#7201a8\"],[0.3333333333333333,\"#9c179e\"],[0.4444444444444444,\"#bd3786\"],[0.5555555555555556,\"#d8576b\"],[0.6666666666666666,\"#ed7953\"],[0.7777777777777778,\"#fb9f3a\"],[0.8888888888888888,\"#fdca26\"],[1.0,\"#f0f921\"]]}],\"choropleth\":[{\"type\":\"choropleth\",\"colorbar\":{\"outlinewidth\":0,\"ticks\":\"\"}}],\"histogram2d\":[{\"type\":\"histogram2d\",\"colorbar\":{\"outlinewidth\":0,\"ticks\":\"\"},\"colorscale\":[[0.0,\"#0d0887\"],[0.1111111111111111,\"#46039f\"],[0.2222222222222222,\"#7201a8\"],[0.3333333333333333,\"#9c179e\"],[0.4444444444444444,\"#bd3786\"],[0.5555555555555556,\"#d8576b\"],[0.6666666666666666,\"#ed7953\"],[0.7777777777777778,\"#fb9f3a\"],[0.8888888888888888,\"#fdca26\"],[1.0,\"#f0f921\"]]}],\"heatmap\":[{\"type\":\"heatmap\",\"colorbar\":{\"outlinewidth\":0,\"ticks\":\"\"},\"colorscale\":[[0.0,\"#0d0887\"],[0.1111111111111111,\"#46039f\"],[0.2222222222222222,\"#7201a8\"],[0.3333333333333333,\"#9c179e\"],[0.4444444444444444,\"#bd3786\"],[0.5555555555555556,\"#d8576b\"],[0.6666666666666666,\"#ed7953\"],[0.7777777777777778,\"#fb9f3a\"],[0.8888888888888888,\"#fdca26\"],[1.0,\"#f0f921\"]]}],\"heatmapgl\":[{\"type\":\"heatmapgl\",\"colorbar\":{\"outlinewidth\":0,\"ticks\":\"\"},\"colorscale\":[[0.0,\"#0d0887\"],[0.1111111111111111,\"#46039f\"],[0.2222222222222222,\"#7201a8\"],[0.3333333333333333,\"#9c179e\"],[0.4444444444444444,\"#bd3786\"],[0.5555555555555556,\"#d8576b\"],[0.6666666666666666,\"#ed7953\"],[0.7777777777777778,\"#fb9f3a\"],[0.8888888888888888,\"#fdca26\"],[1.0,\"#f0f921\"]]}],\"contourcarpet\":[{\"type\":\"contourcarpet\",\"colorbar\":{\"outlinewidth\":0,\"ticks\":\"\"}}],\"contour\":[{\"type\":\"contour\",\"colorbar\":{\"outlinewidth\":0,\"ticks\":\"\"},\"colorscale\":[[0.0,\"#0d0887\"],[0.1111111111111111,\"#46039f\"],[0.2222222222222222,\"#7201a8\"],[0.3333333333333333,\"#9c179e\"],[0.4444444444444444,\"#bd3786\"],[0.5555555555555556,\"#d8576b\"],[0.6666666666666666,\"#ed7953\"],[0.7777777777777778,\"#fb9f3a\"],[0.8888888888888888,\"#fdca26\"],[1.0,\"#f0f921\"]]}],\"surface\":[{\"type\":\"surface\",\"colorbar\":{\"outlinewidth\":0,\"ticks\":\"\"},\"colorscale\":[[0.0,\"#0d0887\"],[0.1111111111111111,\"#46039f\"],[0.2222222222222222,\"#7201a8\"],[0.3333333333333333,\"#9c179e\"],[0.4444444444444444,\"#bd3786\"],[0.5555555555555556,\"#d8576b\"],[0.6666666666666666,\"#ed7953\"],[0.7777777777777778,\"#fb9f3a\"],[0.8888888888888888,\"#fdca26\"],[1.0,\"#f0f921\"]]}],\"mesh3d\":[{\"type\":\"mesh3d\",\"colorbar\":{\"outlinewidth\":0,\"ticks\":\"\"}}],\"scatter\":[{\"fillpattern\":{\"fillmode\":\"overlay\",\"size\":10,\"solidity\":0.2},\"type\":\"scatter\"}],\"parcoords\":[{\"type\":\"parcoords\",\"line\":{\"colorbar\":{\"outlinewidth\":0,\"ticks\":\"\"}}}],\"scatterpolargl\":[{\"type\":\"scatterpolargl\",\"marker\":{\"colorbar\":{\"outlinewidth\":0,\"ticks\":\"\"}}}],\"bar\":[{\"error_x\":{\"color\":\"#2a3f5f\"},\"error_y\":{\"color\":\"#2a3f5f\"},\"marker\":{\"line\":{\"color\":\"#E5ECF6\",\"width\":0.5},\"pattern\":{\"fillmode\":\"overlay\",\"size\":10,\"solidity\":0.2}},\"type\":\"bar\"}],\"scattergeo\":[{\"type\":\"scattergeo\",\"marker\":{\"colorbar\":{\"outlinewidth\":0,\"ticks\":\"\"}}}],\"scatterpolar\":[{\"type\":\"scatterpolar\",\"marker\":{\"colorbar\":{\"outlinewidth\":0,\"ticks\":\"\"}}}],\"histogram\":[{\"marker\":{\"pattern\":{\"fillmode\":\"overlay\",\"size\":10,\"solidity\":0.2}},\"type\":\"histogram\"}],\"scattergl\":[{\"type\":\"scattergl\",\"marker\":{\"colorbar\":{\"outlinewidth\":0,\"ticks\":\"\"}}}],\"scatter3d\":[{\"type\":\"scatter3d\",\"line\":{\"colorbar\":{\"outlinewidth\":0,\"ticks\":\"\"}},\"marker\":{\"colorbar\":{\"outlinewidth\":0,\"ticks\":\"\"}}}],\"scattermapbox\":[{\"type\":\"scattermapbox\",\"marker\":{\"colorbar\":{\"outlinewidth\":0,\"ticks\":\"\"}}}],\"scatterternary\":[{\"type\":\"scatterternary\",\"marker\":{\"colorbar\":{\"outlinewidth\":0,\"ticks\":\"\"}}}],\"scattercarpet\":[{\"type\":\"scattercarpet\",\"marker\":{\"colorbar\":{\"outlinewidth\":0,\"ticks\":\"\"}}}],\"carpet\":[{\"aaxis\":{\"endlinecolor\":\"#2a3f5f\",\"gridcolor\":\"white\",\"linecolor\":\"white\",\"minorgridcolor\":\"white\",\"startlinecolor\":\"#2a3f5f\"},\"baxis\":{\"endlinecolor\":\"#2a3f5f\",\"gridcolor\":\"white\",\"linecolor\":\"white\",\"minorgridcolor\":\"white\",\"startlinecolor\":\"#2a3f5f\"},\"type\":\"carpet\"}],\"table\":[{\"cells\":{\"fill\":{\"color\":\"#EBF0F8\"},\"line\":{\"color\":\"white\"}},\"header\":{\"fill\":{\"color\":\"#C8D4E3\"},\"line\":{\"color\":\"white\"}},\"type\":\"table\"}],\"barpolar\":[{\"marker\":{\"line\":{\"color\":\"#E5ECF6\",\"width\":0.5},\"pattern\":{\"fillmode\":\"overlay\",\"size\":10,\"solidity\":0.2}},\"type\":\"barpolar\"}],\"pie\":[{\"automargin\":true,\"type\":\"pie\"}]},\"layout\":{\"autotypenumbers\":\"strict\",\"colorway\":[\"#636efa\",\"#EF553B\",\"#00cc96\",\"#ab63fa\",\"#FFA15A\",\"#19d3f3\",\"#FF6692\",\"#B6E880\",\"#FF97FF\",\"#FECB52\"],\"font\":{\"color\":\"#2a3f5f\"},\"hovermode\":\"closest\",\"hoverlabel\":{\"align\":\"left\"},\"paper_bgcolor\":\"white\",\"plot_bgcolor\":\"#E5ECF6\",\"polar\":{\"bgcolor\":\"#E5ECF6\",\"angularaxis\":{\"gridcolor\":\"white\",\"linecolor\":\"white\",\"ticks\":\"\"},\"radialaxis\":{\"gridcolor\":\"white\",\"linecolor\":\"white\",\"ticks\":\"\"}},\"ternary\":{\"bgcolor\":\"#E5ECF6\",\"aaxis\":{\"gridcolor\":\"white\",\"linecolor\":\"white\",\"ticks\":\"\"},\"baxis\":{\"gridcolor\":\"white\",\"linecolor\":\"white\",\"ticks\":\"\"},\"caxis\":{\"gridcolor\":\"white\",\"linecolor\":\"white\",\"ticks\":\"\"}},\"coloraxis\":{\"colorbar\":{\"outlinewidth\":0,\"ticks\":\"\"}},\"colorscale\":{\"sequential\":[[0.0,\"#0d0887\"],[0.1111111111111111,\"#46039f\"],[0.2222222222222222,\"#7201a8\"],[0.3333333333333333,\"#9c179e\"],[0.4444444444444444,\"#bd3786\"],[0.5555555555555556,\"#d8576b\"],[0.6666666666666666,\"#ed7953\"],[0.7777777777777778,\"#fb9f3a\"],[0.8888888888888888,\"#fdca26\"],[1.0,\"#f0f921\"]],\"sequentialminus\":[[0.0,\"#0d0887\"],[0.1111111111111111,\"#46039f\"],[0.2222222222222222,\"#7201a8\"],[0.3333333333333333,\"#9c179e\"],[0.4444444444444444,\"#bd3786\"],[0.5555555555555556,\"#d8576b\"],[0.6666666666666666,\"#ed7953\"],[0.7777777777777778,\"#fb9f3a\"],[0.8888888888888888,\"#fdca26\"],[1.0,\"#f0f921\"]],\"diverging\":[[0,\"#8e0152\"],[0.1,\"#c51b7d\"],[0.2,\"#de77ae\"],[0.3,\"#f1b6da\"],[0.4,\"#fde0ef\"],[0.5,\"#f7f7f7\"],[0.6,\"#e6f5d0\"],[0.7,\"#b8e186\"],[0.8,\"#7fbc41\"],[0.9,\"#4d9221\"],[1,\"#276419\"]]},\"xaxis\":{\"gridcolor\":\"white\",\"linecolor\":\"white\",\"ticks\":\"\",\"title\":{\"standoff\":15},\"zerolinecolor\":\"white\",\"automargin\":true,\"zerolinewidth\":2},\"yaxis\":{\"gridcolor\":\"white\",\"linecolor\":\"white\",\"ticks\":\"\",\"title\":{\"standoff\":15},\"zerolinecolor\":\"white\",\"automargin\":true,\"zerolinewidth\":2},\"scene\":{\"xaxis\":{\"backgroundcolor\":\"#E5ECF6\",\"gridcolor\":\"white\",\"linecolor\":\"white\",\"showbackground\":true,\"ticks\":\"\",\"zerolinecolor\":\"white\",\"gridwidth\":2},\"yaxis\":{\"backgroundcolor\":\"#E5ECF6\",\"gridcolor\":\"white\",\"linecolor\":\"white\",\"showbackground\":true,\"ticks\":\"\",\"zerolinecolor\":\"white\",\"gridwidth\":2},\"zaxis\":{\"backgroundcolor\":\"#E5ECF6\",\"gridcolor\":\"white\",\"linecolor\":\"white\",\"showbackground\":true,\"ticks\":\"\",\"zerolinecolor\":\"white\",\"gridwidth\":2}},\"shapedefaults\":{\"line\":{\"color\":\"#2a3f5f\"}},\"annotationdefaults\":{\"arrowcolor\":\"#2a3f5f\",\"arrowhead\":0,\"arrowwidth\":1},\"geo\":{\"bgcolor\":\"white\",\"landcolor\":\"#E5ECF6\",\"subunitcolor\":\"white\",\"showland\":true,\"showlakes\":true,\"lakecolor\":\"white\"},\"title\":{\"x\":0.05},\"mapbox\":{\"style\":\"light\"}}},\"scene\":{\"domain\":{\"x\":[0.0,1.0],\"y\":[0.0,1.0]},\"xaxis\":{\"title\":{\"text\":\"x\"}},\"yaxis\":{\"title\":{\"text\":\"y\"}},\"zaxis\":{\"title\":{\"text\":\"z\"}}},\"legend\":{\"title\":{\"text\":\"type\"},\"tracegroupgap\":0},\"margin\":{\"t\":60}},                        {\"responsive\": true}                    ).then(function(){\n",
       "                            \n",
       "var gd = document.getElementById('6db56a4c-821b-4522-8218-c46783482f21');\n",
       "var x = new MutationObserver(function (mutations, observer) {{\n",
       "        var display = window.getComputedStyle(gd).display;\n",
       "        if (!display || display === 'none') {{\n",
       "            console.log([gd, 'removed!']);\n",
       "            Plotly.purge(gd);\n",
       "            observer.disconnect();\n",
       "        }}\n",
       "}});\n",
       "\n",
       "// Listen for the removal of the full notebook cells\n",
       "var notebookContainer = gd.closest('#notebook-container');\n",
       "if (notebookContainer) {{\n",
       "    x.observe(notebookContainer, {childList: true});\n",
       "}}\n",
       "\n",
       "// Listen for the clearing of the current output cell\n",
       "var outputEl = gd.closest('.output');\n",
       "if (outputEl) {{\n",
       "    x.observe(outputEl, {childList: true});\n",
       "}}\n",
       "\n",
       "                        })                };                });            </script>        </div>"
      ]
     },
     "metadata": {},
     "output_type": "display_data"
    },
    {
     "data": {
      "application/javascript": [
       "\n",
       "            setTimeout(function() {\n",
       "                var nbb_cell_id = 24;\n",
       "                var nbb_unformatted_code = \"import plotly.express as px\\nexample_frame = landmark_example.query(\\\"frame == 17\\\")\\npx.scatter_3d(example_frame, x='x', y='y', z='z', color='type')\";\n",
       "                var nbb_formatted_code = \"import plotly.express as px\\n\\nexample_frame = landmark_example.query(\\\"frame == 17\\\")\\npx.scatter_3d(example_frame, x=\\\"x\\\", y=\\\"y\\\", z=\\\"z\\\", color=\\\"type\\\")\";\n",
       "                var nbb_cells = Jupyter.notebook.get_cells();\n",
       "                for (var i = 0; i < nbb_cells.length; ++i) {\n",
       "                    if (nbb_cells[i].input_prompt_number == nbb_cell_id) {\n",
       "                        if (nbb_cells[i].get_text() == nbb_unformatted_code) {\n",
       "                             nbb_cells[i].set_text(nbb_formatted_code);\n",
       "                        }\n",
       "                        break;\n",
       "                    }\n",
       "                }\n",
       "            }, 500);\n",
       "            "
      ],
      "text/plain": [
       "<IPython.core.display.Javascript object>"
      ]
     },
     "metadata": {},
     "output_type": "display_data"
    }
   ],
   "source": [
    "import plotly.express as px\n",
    "example_frame = landmark_example.query(\"frame == 17\")\n",
    "px.scatter_3d(example_frame, x='x', y='y', z='z', color='type')"
   ]
  },
  {
   "cell_type": "markdown",
   "id": "26378820",
   "metadata": {
    "papermill": {
     "duration": 0.017828,
     "end_time": "2023-03-03T21:25:47.642813",
     "exception": false,
     "start_time": "2023-03-03T21:25:47.624985",
     "status": "completed"
    },
    "tags": []
   },
   "source": [
    "#### Checking missing frame.\n",
    "\n",
    "- Since the frame which is selected as an example i.e., frame = 25 do not consist both hands frame. We need to check which frame does not have an missing value.\n",
    "- As we see below that, frame 17 and frame 19 do not have any missing value. Hence, we can use 17 or 19 for analysis."
   ]
  },
  {
   "cell_type": "code",
   "execution_count": 25,
   "id": "0935fb5c",
   "metadata": {
    "execution": {
     "iopub.execute_input": "2023-03-03T21:25:47.681295Z",
     "iopub.status.busy": "2023-03-03T21:25:47.680860Z",
     "iopub.status.idle": "2023-03-03T21:25:48.041914Z",
     "shell.execute_reply": "2023-03-03T21:25:48.040849Z"
    },
    "papermill": {
     "duration": 0.38368,
     "end_time": "2023-03-03T21:25:48.044500",
     "exception": false,
     "start_time": "2023-03-03T21:25:47.660820",
     "status": "completed"
    },
    "tags": []
   },
   "outputs": [
    {
     "data": {
      "image/png": "[encoded data removed]",
      "text/plain": [
       "<Figure size 640x480 with 1 Axes>"
      ]
     },
     "metadata": {},
     "output_type": "display_data"
    },
    {
     "data": {
      "application/javascript": [
       "\n",
       "            setTimeout(function() {\n",
       "                var nbb_cell_id = 25;\n",
       "                var nbb_unformatted_code = \"landmark_example['no_xyz'] = landmark_example['x'].isna()\\nlandmark_example.groupby(['frame'])['no_xyz'].sum()\\\\\\n.plot(kind = 'bar', title = 'Missing values(xyz) per frame');\";\n",
       "                var nbb_formatted_code = \"landmark_example[\\\"no_xyz\\\"] = landmark_example[\\\"x\\\"].isna()\\nlandmark_example.groupby([\\\"frame\\\"])[\\\"no_xyz\\\"].sum().plot(\\n    kind=\\\"bar\\\", title=\\\"Missing values(xyz) per frame\\\"\\n)\";\n",
       "                var nbb_cells = Jupyter.notebook.get_cells();\n",
       "                for (var i = 0; i < nbb_cells.length; ++i) {\n",
       "                    if (nbb_cells[i].input_prompt_number == nbb_cell_id) {\n",
       "                        if (nbb_cells[i].get_text() == nbb_unformatted_code) {\n",
       "                             nbb_cells[i].set_text(nbb_formatted_code);\n",
       "                        }\n",
       "                        break;\n",
       "                    }\n",
       "                }\n",
       "            }, 500);\n",
       "            "
      ],
      "text/plain": [
       "<IPython.core.display.Javascript object>"
      ]
     },
     "metadata": {},
     "output_type": "display_data"
    }
   ],
   "source": [
    "landmark_example['no_xyz'] = landmark_example['x'].isna()\n",
    "landmark_example.groupby(['frame'])['no_xyz'].sum()\\\n",
    ".plot(kind = 'bar', title = 'Missing values(xyz) per frame');"
   ]
  },
  {
   "cell_type": "code",
   "execution_count": 26,
   "id": "cb2f4637",
   "metadata": {
    "execution": {
     "iopub.execute_input": "2023-03-03T21:25:48.084487Z",
     "iopub.status.busy": "2023-03-03T21:25:48.083346Z",
     "iopub.status.idle": "2023-03-03T21:25:48.093407Z",
     "shell.execute_reply": "2023-03-03T21:25:48.092141Z"
    },
    "papermill": {
     "duration": 0.032703,
     "end_time": "2023-03-03T21:25:48.096165",
     "exception": false,
     "start_time": "2023-03-03T21:25:48.063462",
     "status": "completed"
    },
    "tags": []
   },
   "outputs": [
    {
     "data": {
      "text/plain": [
       "dict_keys([('x', 'min'), ('x', 'max'), ('x', 'mean'), ('y', 'min'), ('y', 'max'), ('y', 'mean'), ('z', 'min'), ('z', 'max'), ('z', 'mean')])"
      ]
     },
     "execution_count": 26,
     "metadata": {},
     "output_type": "execute_result"
    },
    {
     "data": {
      "application/javascript": [
       "\n",
       "            setTimeout(function() {\n",
       "                var nbb_cell_id = 26;\n",
       "                var nbb_unformatted_code = \"xyz_meta.keys()\";\n",
       "                var nbb_formatted_code = \"xyz_meta.keys()\";\n",
       "                var nbb_cells = Jupyter.notebook.get_cells();\n",
       "                for (var i = 0; i < nbb_cells.length; ++i) {\n",
       "                    if (nbb_cells[i].input_prompt_number == nbb_cell_id) {\n",
       "                        if (nbb_cells[i].get_text() == nbb_unformatted_code) {\n",
       "                             nbb_cells[i].set_text(nbb_formatted_code);\n",
       "                        }\n",
       "                        break;\n",
       "                    }\n",
       "                }\n",
       "            }, 500);\n",
       "            "
      ],
      "text/plain": [
       "<IPython.core.display.Javascript object>"
      ]
     },
     "metadata": {},
     "output_type": "display_data"
    }
   ],
   "source": [
    "xyz_meta.keys()"
   ]
  },
  {
   "cell_type": "code",
   "execution_count": null,
   "id": "a55eb3c3",
   "metadata": {
    "papermill": {
     "duration": 0.018551,
     "end_time": "2023-03-03T21:25:48.133626",
     "exception": false,
     "start_time": "2023-03-03T21:25:48.115075",
     "status": "completed"
    },
    "tags": []
   },
   "outputs": [],
   "source": []
  },
  {
   "cell_type": "code",
   "execution_count": null,
   "id": "1b70090b",
   "metadata": {
    "papermill": {
     "duration": 0.018449,
     "end_time": "2023-03-03T21:25:48.170901",
     "exception": false,
     "start_time": "2023-03-03T21:25:48.152452",
     "status": "completed"
    },
    "tags": []
   },
   "outputs": [],
   "source": []
  },
  {
   "cell_type": "markdown",
   "id": "9f7c3657",
   "metadata": {
    "_cell_guid": "7babf678-eeff-42f1-b298-bd44771a9bfb",
    "_uuid": "db40681f-9c45-4730-8a0f-bc7a1216b09c",
    "execution": {
     "iopub.execute_input": "2023-02-27T06:39:32.500410Z",
     "iopub.status.busy": "2023-02-27T06:39:32.500038Z",
     "iopub.status.idle": "2023-02-27T06:39:32.509396Z",
     "shell.execute_reply": "2023-02-27T06:39:32.507937Z",
     "shell.execute_reply.started": "2023-02-27T06:39:32.500378Z"
    },
    "papermill": {
     "duration": 0.018948,
     "end_time": "2023-03-03T21:25:48.208560",
     "exception": false,
     "start_time": "2023-03-03T21:25:48.189612",
     "status": "completed"
    },
    "tags": []
   },
   "source": [
    "## EVALUATION \n",
    "\n",
    "\"The evaluation metric for this contest is simple classification accuracy.\""
   ]
  },
  {
   "cell_type": "code",
   "execution_count": null,
   "id": "36dacfe0",
   "metadata": {
    "_cell_guid": "baf78268-8818-4c0c-99a8-f2efaadce134",
    "_uuid": "3596fe94-827a-42c3-a823-255c3cb65d5f",
    "collapsed": false,
    "jupyter": {
     "outputs_hidden": false
    },
    "papermill": {
     "duration": 0.018637,
     "end_time": "2023-03-03T21:25:48.246031",
     "exception": false,
     "start_time": "2023-03-03T21:25:48.227394",
     "status": "completed"
    },
    "tags": []
   },
   "outputs": [],
   "source": []
  },
  {
   "cell_type": "code",
   "execution_count": null,
   "id": "da32bf35",
   "metadata": {
    "papermill": {
     "duration": 0.018664,
     "end_time": "2023-03-03T21:25:48.283471",
     "exception": false,
     "start_time": "2023-03-03T21:25:48.264807",
     "status": "completed"
    },
    "tags": []
   },
   "outputs": [],
   "source": []
  }
 ],
 "metadata": {
  "kernelspec": {
   "display_name": "Python 3",
   "language": "python",
   "name": "python3"
  },
  "language_info": {
   "codemirror_mode": {
    "name": "ipython",
    "version": 3
   },
   "file_extension": ".py",
   "mimetype": "text/x-python",
   "name": "python",
   "nbconvert_exporter": "python",
   "pygments_lexer": "ipython3",
   "version": "3.7.12"
  },
  "papermill": {
   "default_parameters": {},
   "duration": 74.330432,
   "end_time": "2023-03-03T21:25:49.226163",
   "environment_variables": {},
   "exception": null,
   "input_path": "__notebook__.ipynb",
   "output_path": "__notebook__.ipynb",
   "parameters": {},
   "start_time": "2023-03-03T21:24:34.895731",
   "version": "2.4.0"
  },
  "widgets": {
   "application/vnd.jupyter.widget-state+json": {
    "state": {
     "20b83a8f084e49d497a9babfeadf0457": {
      "model_module": "@jupyter-widgets/controls",
      "model_module_version": "1.5.0",
      "model_name": "HBoxModel",
      "state": {
       "_dom_classes": [],
       "_model_module": "@jupyter-widgets/controls",
       "_model_module_version": "1.5.0",
       "_model_name": "HBoxModel",
       "_view_count": null,
       "_view_module": "@jupyter-widgets/controls",
       "_view_module_version": "1.5.0",
       "_view_name": "HBoxView",
       "box_style": "",
       "children": [
        "IPY_MODEL_57d214b37cad4f01a3c65fc91bfccafc",
        "IPY_MODEL_8ca8ed18aad24735a5948aa8d7e05072",
        "IPY_MODEL_879c58957e674fa5b2eccb5bc672c9c5"
       ],
       "layout": "IPY_MODEL_b0f033c095f4476da5b32efdf569d3e4"
      }
     },
     "57d214b37cad4f01a3c65fc91bfccafc": {
      "model_module": "@jupyter-widgets/controls",
      "model_module_version": "1.5.0",
      "model_name": "HTMLModel",
      "state": {
       "_dom_classes": [],
       "_model_module": "@jupyter-widgets/controls",
       "_model_module_version": "1.5.0",
       "_model_name": "HTMLModel",
       "_view_count": null,
       "_view_module": "@jupyter-widgets/controls",
       "_view_module_version": "1.5.0",
       "_view_name": "HTMLView",
       "description": "",
       "description_tooltip": null,
       "layout": "IPY_MODEL_9d9f27fab9394150ace787d57fa85d63",
       "placeholder": "​",
       "style": "IPY_MODEL_7977d574185845e9af27b07833962866",
       "value": "  1%"
      }
     },
     "5e833a0b70374e7188738b20f7702e10": {
      "model_module": "@jupyter-widgets/base",
      "model_module_version": "1.2.0",
      "model_name": "LayoutModel",
      "state": {
       "_model_module": "@jupyter-widgets/base",
       "_model_module_version": "1.2.0",
       "_model_name": "LayoutModel",
       "_view_count": null,
       "_view_module": "@jupyter-widgets/base",
       "_view_module_version": "1.2.0",
       "_view_name": "LayoutView",
       "align_content": null,
       "align_items": null,
       "align_self": null,
       "border": null,
       "bottom": null,
       "display": null,
       "flex": null,
       "flex_flow": null,
       "grid_area": null,
       "grid_auto_columns": null,
       "grid_auto_flow": null,
       "grid_auto_rows": null,
       "grid_column": null,
       "grid_gap": null,
       "grid_row": null,
       "grid_template_areas": null,
       "grid_template_columns": null,
       "grid_template_rows": null,
       "height": null,
       "justify_content": null,
       "justify_items": null,
       "left": null,
       "margin": null,
       "max_height": null,
       "max_width": null,
       "min_height": null,
       "min_width": null,
       "object_fit": null,
       "object_position": null,
       "order": null,
       "overflow": null,
       "overflow_x": null,
       "overflow_y": null,
       "padding": null,
       "right": null,
       "top": null,
       "visibility": null,
       "width": null
      }
     },
     "7977d574185845e9af27b07833962866": {
      "model_module": "@jupyter-widgets/controls",
      "model_module_version": "1.5.0",
      "model_name": "DescriptionStyleModel",
      "state": {
       "_model_module": "@jupyter-widgets/controls",
       "_model_module_version": "1.5.0",
       "_model_name": "DescriptionStyleModel",
       "_view_count": null,
       "_view_module": "@jupyter-widgets/base",
       "_view_module_version": "1.2.0",
       "_view_name": "StyleView",
       "description_width": ""
      }
     },
     "879c58957e674fa5b2eccb5bc672c9c5": {
      "model_module": "@jupyter-widgets/controls",
      "model_module_version": "1.5.0",
      "model_name": "HTMLModel",
      "state": {
       "_dom_classes": [],
       "_model_module": "@jupyter-widgets/controls",
       "_model_module_version": "1.5.0",
       "_model_name": "HTMLModel",
       "_view_count": null,
       "_view_module": "@jupyter-widgets/controls",
       "_view_module_version": "1.5.0",
       "_view_name": "HTMLView",
       "description": "",
       "description_tooltip": null,
       "layout": "IPY_MODEL_b05a9ed6ff0f4a2b8a46ac7893888e0b",
       "placeholder": "​",
       "style": "IPY_MODEL_c7a0e5f95c884d2fb870b7020d4c2fa2",
       "value": " 1000/94477 [00:36&lt;50:05, 31.10it/s]"
      }
     },
     "8ca8ed18aad24735a5948aa8d7e05072": {
      "model_module": "@jupyter-widgets/controls",
      "model_module_version": "1.5.0",
      "model_name": "FloatProgressModel",
      "state": {
       "_dom_classes": [],
       "_model_module": "@jupyter-widgets/controls",
       "_model_module_version": "1.5.0",
       "_model_name": "FloatProgressModel",
       "_view_count": null,
       "_view_module": "@jupyter-widgets/controls",
       "_view_module_version": "1.5.0",
       "_view_name": "ProgressView",
       "bar_style": "danger",
       "description": "",
       "description_tooltip": null,
       "layout": "IPY_MODEL_5e833a0b70374e7188738b20f7702e10",
       "max": 94477.0,
       "min": 0.0,
       "orientation": "horizontal",
       "style": "IPY_MODEL_c367130fa7f24407a6a622429625e924",
       "value": 1000.0
      }
     },
     "9d9f27fab9394150ace787d57fa85d63": {
      "model_module": "@jupyter-widgets/base",
      "model_module_version": "1.2.0",
      "model_name": "LayoutModel",
      "state": {
       "_model_module": "@jupyter-widgets/base",
       "_model_module_version": "1.2.0",
       "_model_name": "LayoutModel",
       "_view_count": null,
       "_view_module": "@jupyter-widgets/base",
       "_view_module_version": "1.2.0",
       "_view_name": "LayoutView",
       "align_content": null,
       "align_items": null,
       "align_self": null,
       "border": null,
       "bottom": null,
       "display": null,
       "flex": null,
       "flex_flow": null,
       "grid_area": null,
       "grid_auto_columns": null,
       "grid_auto_flow": null,
       "grid_auto_rows": null,
       "grid_column": null,
       "grid_gap": null,
       "grid_row": null,
       "grid_template_areas": null,
       "grid_template_columns": null,
       "grid_template_rows": null,
       "height": null,
       "justify_content": null,
       "justify_items": null,
       "left": null,
       "margin": null,
       "max_height": null,
       "max_width": null,
       "min_height": null,
       "min_width": null,
       "object_fit": null,
       "object_position": null,
       "order": null,
       "overflow": null,
       "overflow_x": null,
       "overflow_y": null,
       "padding": null,
       "right": null,
       "top": null,
       "visibility": null,
       "width": null
      }
     },
     "b05a9ed6ff0f4a2b8a46ac7893888e0b": {
      "model_module": "@jupyter-widgets/base",
      "model_module_version": "1.2.0",
      "model_name": "LayoutModel",
      "state": {
       "_model_module": "@jupyter-widgets/base",
       "_model_module_version": "1.2.0",
       "_model_name": "LayoutModel",
       "_view_count": null,
       "_view_module": "@jupyter-widgets/base",
       "_view_module_version": "1.2.0",
       "_view_name": "LayoutView",
       "align_content": null,
       "align_items": null,
       "align_self": null,
       "border": null,
       "bottom": null,
       "display": null,
       "flex": null,
       "flex_flow": null,
       "grid_area": null,
       "grid_auto_columns": null,
       "grid_auto_flow": null,
       "grid_auto_rows": null,
       "grid_column": null,
       "grid_gap": null,
       "grid_row": null,
       "grid_template_areas": null,
       "grid_template_columns": null,
       "grid_template_rows": null,
       "height": null,
       "justify_content": null,
       "justify_items": null,
       "left": null,
       "margin": null,
       "max_height": null,
       "max_width": null,
       "min_height": null,
       "min_width": null,
       "object_fit": null,
       "object_position": null,
       "order": null,
       "overflow": null,
       "overflow_x": null,
       "overflow_y": null,
       "padding": null,
       "right": null,
       "top": null,
       "visibility": null,
       "width": null
      }
     },
     "b0f033c095f4476da5b32efdf569d3e4": {
      "model_module": "@jupyter-widgets/base",
      "model_module_version": "1.2.0",
      "model_name": "LayoutModel",
      "state": {
       "_model_module": "@jupyter-widgets/base",
       "_model_module_version": "1.2.0",
       "_model_name": "LayoutModel",
       "_view_count": null,
       "_view_module": "@jupyter-widgets/base",
       "_view_module_version": "1.2.0",
       "_view_name": "LayoutView",
       "align_content": null,
       "align_items": null,
       "align_self": null,
       "border": null,
       "bottom": null,
       "display": null,
       "flex": null,
       "flex_flow": null,
       "grid_area": null,
       "grid_auto_columns": null,
       "grid_auto_flow": null,
       "grid_auto_rows": null,
       "grid_column": null,
       "grid_gap": null,
       "grid_row": null,
       "grid_template_areas": null,
       "grid_template_columns": null,
       "grid_template_rows": null,
       "height": null,
       "justify_content": null,
       "justify_items": null,
       "left": null,
       "margin": null,
       "max_height": null,
       "max_width": null,
       "min_height": null,
       "min_width": null,
       "object_fit": null,
       "object_position": null,
       "order": null,
       "overflow": null,
       "overflow_x": null,
       "overflow_y": null,
       "padding": null,
       "right": null,
       "top": null,
       "visibility": null,
       "width": null
      }
     },
     "c367130fa7f24407a6a622429625e924": {
      "model_module": "@jupyter-widgets/controls",
      "model_module_version": "1.5.0",
      "model_name": "ProgressStyleModel",
      "state": {
       "_model_module": "@jupyter-widgets/controls",
       "_model_module_version": "1.5.0",
       "_model_name": "ProgressStyleModel",
       "_view_count": null,
       "_view_module": "@jupyter-widgets/base",
       "_view_module_version": "1.2.0",
       "_view_name": "StyleView",
       "bar_color": null,
       "description_width": ""
      }
     },
     "c7a0e5f95c884d2fb870b7020d4c2fa2": {
      "model_module": "@jupyter-widgets/controls",
      "model_module_version": "1.5.0",
      "model_name": "DescriptionStyleModel",
      "state": {
       "_model_module": "@jupyter-widgets/controls",
       "_model_module_version": "1.5.0",
       "_model_name": "DescriptionStyleModel",
       "_view_count": null,
       "_view_module": "@jupyter-widgets/base",
       "_view_module_version": "1.2.0",
       "_view_name": "StyleView",
       "description_width": ""
      }
     }
    },
    "version_major": 2,
    "version_minor": 0
   }
  }
 },
 "nbformat": 4,
 "nbformat_minor": 5
}
