{
 "cells": [
  {
   "cell_type": "markdown",
   "id": "cee6c052",
   "metadata": {
    "_cell_guid": "e2d90454-08ac-4b83-aa04-e9f7a97cda04",
    "_uuid": "77ba92b0-7095-47aa-bbce-694970972d3b",
    "papermill": {
     "duration": 0.008831,
     "end_time": "2023-02-28T01:32:05.491105",
     "exception": false,
     "start_time": "2023-02-28T01:32:05.482274",
     "status": "completed"
    },
    "tags": []
   },
   "source": [
    "# Sign Language Recognition\n",
    "\n",
    "## OBJECTIVE\n",
    "\"is to help identify signs made in processed videos, which will support the development of mobile apps to help teach parents sign language so they can communicate with their Deaf children.\""
   ]
  },
  {
   "cell_type": "code",
   "execution_count": 1,
   "id": "0da0c35f",
   "metadata": {
    "_cell_guid": "64bf512b-9d2a-46d5-a040-0a143efba6e9",
    "_uuid": "74d238cd-5841-479f-b957-496571f2f61d",
    "collapsed": false,
    "execution": {
     "iopub.execute_input": "2023-02-28T01:32:05.508829Z",
     "iopub.status.busy": "2023-02-28T01:32:05.508355Z",
     "iopub.status.idle": "2023-02-28T01:32:06.773917Z",
     "shell.execute_reply": "2023-02-28T01:32:06.772646Z"
    },
    "jupyter": {
     "outputs_hidden": false
    },
    "papermill": {
     "duration": 1.278088,
     "end_time": "2023-02-28T01:32:06.777034",
     "exception": false,
     "start_time": "2023-02-28T01:32:05.498946",
     "status": "completed"
    },
    "tags": []
   },
   "outputs": [],
   "source": [
    "import numpy as np # linear algebra\n",
    "import pandas as pd # data processing, CSV file I/O (e.g. pd.read_csv)\n",
    "import matplotlib.pyplot as plt\n",
    "import seaborn as sns\n",
    "from tqdm.notebook import tqdm\n",
    "plt.style.use('seaborn-colorblind')\n",
    "# Input data files are available in the read-only \"../input/\" directory\n",
    "# For example, running this (by clicking run or pressing Shift+Enter) will list all files under the input directory|"
   ]
  },
  {
   "cell_type": "code",
   "execution_count": 2,
   "id": "baa87a4d",
   "metadata": {
    "_cell_guid": "b6631404-2634-4892-8596-cb56a567ecaf",
    "_uuid": "68d70c56-4313-4806-9cbb-9b1bdc8ec4d7",
    "collapsed": false,
    "execution": {
     "iopub.execute_input": "2023-02-28T01:32:06.794862Z",
     "iopub.status.busy": "2023-02-28T01:32:06.794435Z",
     "iopub.status.idle": "2023-02-28T01:32:23.831580Z",
     "shell.execute_reply": "2023-02-28T01:32:23.830152Z"
    },
    "jupyter": {
     "outputs_hidden": false
    },
    "papermill": {
     "duration": 17.049788,
     "end_time": "2023-02-28T01:32:23.834693",
     "exception": false,
     "start_time": "2023-02-28T01:32:06.784905",
     "status": "completed"
    },
    "tags": []
   },
   "outputs": [
    {
     "name": "stdout",
     "output_type": "stream",
     "text": [
      "\u001b[33mWARNING: Running pip as the 'root' user can result in broken permissions and conflicting behaviour with the system package manager. It is recommended to use a virtual environment instead: https://pip.pypa.io/warnings/venv\u001b[0m\u001b[33m\r\n",
      "\u001b[0m"
     ]
    },
    {
     "data": {
      "application/javascript": [
       "\n",
       "            setTimeout(function() {\n",
       "                var nbb_cell_id = 2;\n",
       "                var nbb_unformatted_code = \"!pip install nb_black --quiet\\n%load_ext nb_black\";\n",
       "                var nbb_formatted_code = \"!pip install nb_black --quiet\\n%load_ext nb_black\";\n",
       "                var nbb_cells = Jupyter.notebook.get_cells();\n",
       "                for (var i = 0; i < nbb_cells.length; ++i) {\n",
       "                    if (nbb_cells[i].input_prompt_number == nbb_cell_id) {\n",
       "                        if (nbb_cells[i].get_text() == nbb_unformatted_code) {\n",
       "                             nbb_cells[i].set_text(nbb_formatted_code);\n",
       "                        }\n",
       "                        break;\n",
       "                    }\n",
       "                }\n",
       "            }, 500);\n",
       "            "
      ],
      "text/plain": [
       "<IPython.core.display.Javascript object>"
      ]
     },
     "metadata": {},
     "output_type": "display_data"
    }
   ],
   "source": [
    "!pip install nb_black --quiet\n",
    "%load_ext nb_black"
   ]
  },
  {
   "cell_type": "markdown",
   "id": "32de036d",
   "metadata": {
    "_cell_guid": "c5786f6a-bed6-485e-b25b-e47f9dbd1b49",
    "_uuid": "232a62db-6136-432d-96ff-bc6c4f4846fd",
    "papermill": {
     "duration": 0.008079,
     "end_time": "2023-02-28T01:32:23.851640",
     "exception": false,
     "start_time": "2023-02-28T01:32:23.843561",
     "status": "completed"
    },
    "tags": []
   },
   "source": [
    "## DATA EDA\n",
    "The landmark data. The landmarks were extracted from raw videos with the MediaPipe holistic model."
   ]
  },
  {
   "cell_type": "code",
   "execution_count": 3,
   "id": "52f004d7",
   "metadata": {
    "_cell_guid": "923d4644-61c1-47a1-94cc-1bafda7e59e8",
    "_uuid": "d3056d3c-23fd-484f-9dfa-236ddc5a5636",
    "collapsed": false,
    "execution": {
     "iopub.execute_input": "2023-02-28T01:32:23.871486Z",
     "iopub.status.busy": "2023-02-28T01:32:23.870264Z",
     "iopub.status.idle": "2023-02-28T01:32:24.980815Z",
     "shell.execute_reply": "2023-02-28T01:32:24.979524Z"
    },
    "jupyter": {
     "outputs_hidden": false
    },
    "papermill": {
     "duration": 1.12369,
     "end_time": "2023-02-28T01:32:24.983999",
     "exception": false,
     "start_time": "2023-02-28T01:32:23.860309",
     "status": "completed"
    },
    "tags": []
   },
   "outputs": [
    {
     "name": "stdout",
     "output_type": "stream",
     "text": [
      "total 6.2M\r\n",
      "   0 drwxr-xr-x  3 nobody    0 Feb 20 22:00 \u001b[0m\u001b[01;34m.\u001b[0m/\r\n",
      "4.0K drwxr-xr-x  3 root   4.0K Feb 28 01:31 \u001b[01;34m..\u001b[0m/\r\n",
      "4.0K -rw-r--r--  1 nobody 3.3K Feb 20 22:00 sign_to_prediction_index_map.json\r\n",
      "6.2M -rw-r--r--  1 nobody 6.2M Feb 20 22:00 train.csv\r\n",
      "   0 drwxr-xr-x 23 nobody    0 Feb 20 22:07 \u001b[01;34mtrain_landmark_files\u001b[0m/\r\n"
     ]
    },
    {
     "data": {
      "application/javascript": [
       "\n",
       "            setTimeout(function() {\n",
       "                var nbb_cell_id = 3;\n",
       "                var nbb_unformatted_code = \"!ls '../input/asl-signs/' -GFlash --color\";\n",
       "                var nbb_formatted_code = \"!ls '../input/asl-signs/' -GFlash --color\";\n",
       "                var nbb_cells = Jupyter.notebook.get_cells();\n",
       "                for (var i = 0; i < nbb_cells.length; ++i) {\n",
       "                    if (nbb_cells[i].input_prompt_number == nbb_cell_id) {\n",
       "                        if (nbb_cells[i].get_text() == nbb_unformatted_code) {\n",
       "                             nbb_cells[i].set_text(nbb_formatted_code);\n",
       "                        }\n",
       "                        break;\n",
       "                    }\n",
       "                }\n",
       "            }, 500);\n",
       "            "
      ],
      "text/plain": [
       "<IPython.core.display.Javascript object>"
      ]
     },
     "metadata": {},
     "output_type": "display_data"
    }
   ],
   "source": [
    "!ls '../input/asl-signs/' -GFlash --color"
   ]
  },
  {
   "cell_type": "code",
   "execution_count": 4,
   "id": "e9bcbd77",
   "metadata": {
    "_cell_guid": "95941f4d-5d5d-4a88-8988-df4b28776a8c",
    "_uuid": "d5dad3fe-2ed4-4994-85dc-464bbf4755c1",
    "collapsed": false,
    "execution": {
     "iopub.execute_input": "2023-02-28T01:32:25.003767Z",
     "iopub.status.busy": "2023-02-28T01:32:25.002840Z",
     "iopub.status.idle": "2023-02-28T01:32:25.287959Z",
     "shell.execute_reply": "2023-02-28T01:32:25.286611Z"
    },
    "jupyter": {
     "outputs_hidden": false
    },
    "papermill": {
     "duration": 0.299038,
     "end_time": "2023-02-28T01:32:25.291267",
     "exception": false,
     "start_time": "2023-02-28T01:32:24.992229",
     "status": "completed"
    },
    "tags": []
   },
   "outputs": [
    {
     "data": {
      "text/html": [
       "<div>\n",
       "<style scoped>\n",
       "    .dataframe tbody tr th:only-of-type {\n",
       "        vertical-align: middle;\n",
       "    }\n",
       "\n",
       "    .dataframe tbody tr th {\n",
       "        vertical-align: top;\n",
       "    }\n",
       "\n",
       "    .dataframe thead th {\n",
       "        text-align: right;\n",
       "    }\n",
       "</style>\n",
       "<table border=\"1\" class=\"dataframe\">\n",
       "  <thead>\n",
       "    <tr style=\"text-align: right;\">\n",
       "      <th></th>\n",
       "      <th>path</th>\n",
       "      <th>participant_id</th>\n",
       "      <th>sequence_id</th>\n",
       "      <th>sign</th>\n",
       "    </tr>\n",
       "  </thead>\n",
       "  <tbody>\n",
       "    <tr>\n",
       "      <th>0</th>\n",
       "      <td>train_landmark_files/26734/1000035562.parquet</td>\n",
       "      <td>26734</td>\n",
       "      <td>1000035562</td>\n",
       "      <td>blow</td>\n",
       "    </tr>\n",
       "    <tr>\n",
       "      <th>1</th>\n",
       "      <td>train_landmark_files/28656/1000106739.parquet</td>\n",
       "      <td>28656</td>\n",
       "      <td>1000106739</td>\n",
       "      <td>wait</td>\n",
       "    </tr>\n",
       "    <tr>\n",
       "      <th>2</th>\n",
       "      <td>train_landmark_files/16069/100015657.parquet</td>\n",
       "      <td>16069</td>\n",
       "      <td>100015657</td>\n",
       "      <td>cloud</td>\n",
       "    </tr>\n",
       "    <tr>\n",
       "      <th>3</th>\n",
       "      <td>train_landmark_files/25571/1000210073.parquet</td>\n",
       "      <td>25571</td>\n",
       "      <td>1000210073</td>\n",
       "      <td>bird</td>\n",
       "    </tr>\n",
       "    <tr>\n",
       "      <th>4</th>\n",
       "      <td>train_landmark_files/62590/1000240708.parquet</td>\n",
       "      <td>62590</td>\n",
       "      <td>1000240708</td>\n",
       "      <td>owie</td>\n",
       "    </tr>\n",
       "  </tbody>\n",
       "</table>\n",
       "</div>"
      ],
      "text/plain": [
       "                                            path  participant_id  sequence_id  \\\n",
       "0  train_landmark_files/26734/1000035562.parquet           26734   1000035562   \n",
       "1  train_landmark_files/28656/1000106739.parquet           28656   1000106739   \n",
       "2   train_landmark_files/16069/100015657.parquet           16069    100015657   \n",
       "3  train_landmark_files/25571/1000210073.parquet           25571   1000210073   \n",
       "4  train_landmark_files/62590/1000240708.parquet           62590   1000240708   \n",
       "\n",
       "    sign  \n",
       "0   blow  \n",
       "1   wait  \n",
       "2  cloud  \n",
       "3   bird  \n",
       "4   owie  "
      ]
     },
     "execution_count": 4,
     "metadata": {},
     "output_type": "execute_result"
    },
    {
     "data": {
      "application/javascript": [
       "\n",
       "            setTimeout(function() {\n",
       "                var nbb_cell_id = 4;\n",
       "                var nbb_unformatted_code = \"BASE_DIR = '../input/asl-signs'\\ntrain = pd.read_csv(f'{BASE_DIR}/train.csv')\\n'''Train.csv has the path to each parquet file, the participant id, sequence id and sign'''\\ntrain.head()\";\n",
       "                var nbb_formatted_code = \"BASE_DIR = \\\"../input/asl-signs\\\"\\ntrain = pd.read_csv(f\\\"{BASE_DIR}/train.csv\\\")\\n\\\"\\\"\\\"Train.csv has the path to each parquet file, the participant id, sequence id and sign\\\"\\\"\\\"\\ntrain.head()\";\n",
       "                var nbb_cells = Jupyter.notebook.get_cells();\n",
       "                for (var i = 0; i < nbb_cells.length; ++i) {\n",
       "                    if (nbb_cells[i].input_prompt_number == nbb_cell_id) {\n",
       "                        if (nbb_cells[i].get_text() == nbb_unformatted_code) {\n",
       "                             nbb_cells[i].set_text(nbb_formatted_code);\n",
       "                        }\n",
       "                        break;\n",
       "                    }\n",
       "                }\n",
       "            }, 500);\n",
       "            "
      ],
      "text/plain": [
       "<IPython.core.display.Javascript object>"
      ]
     },
     "metadata": {},
     "output_type": "display_data"
    }
   ],
   "source": [
    "BASE_DIR = '../input/asl-signs'\n",
    "train = pd.read_csv(f'{BASE_DIR}/train.csv')\n",
    "'''Train.csv has the path to each parquet file, the participant id, sequence id and sign'''\n",
    "train.head()"
   ]
  },
  {
   "cell_type": "code",
   "execution_count": 5,
   "id": "0b40b615",
   "metadata": {
    "_cell_guid": "4b8a9d46-33a5-42c7-ae5e-f6d2db2296f2",
    "_uuid": "e210feba-0049-4f1d-8815-0aebeda9dfd9",
    "collapsed": false,
    "execution": {
     "iopub.execute_input": "2023-02-28T01:32:25.312658Z",
     "iopub.status.busy": "2023-02-28T01:32:25.312052Z",
     "iopub.status.idle": "2023-02-28T01:32:25.324625Z",
     "shell.execute_reply": "2023-02-28T01:32:25.322843Z"
    },
    "jupyter": {
     "outputs_hidden": false
    },
    "papermill": {
     "duration": 0.026939,
     "end_time": "2023-02-28T01:32:25.327539",
     "exception": false,
     "start_time": "2023-02-28T01:32:25.300600",
     "status": "completed"
    },
    "tags": []
   },
   "outputs": [
    {
     "data": {
      "text/plain": [
       "'What signs are we trying to predict.'"
      ]
     },
     "execution_count": 5,
     "metadata": {},
     "output_type": "execute_result"
    },
    {
     "data": {
      "application/javascript": [
       "\n",
       "            setTimeout(function() {\n",
       "                var nbb_cell_id = 5;\n",
       "                var nbb_unformatted_code = \"'''What signs are we trying to predict.'''\";\n",
       "                var nbb_formatted_code = \"\\\"\\\"\\\"What signs are we trying to predict.\\\"\\\"\\\"\";\n",
       "                var nbb_cells = Jupyter.notebook.get_cells();\n",
       "                for (var i = 0; i < nbb_cells.length; ++i) {\n",
       "                    if (nbb_cells[i].input_prompt_number == nbb_cell_id) {\n",
       "                        if (nbb_cells[i].get_text() == nbb_unformatted_code) {\n",
       "                             nbb_cells[i].set_text(nbb_formatted_code);\n",
       "                        }\n",
       "                        break;\n",
       "                    }\n",
       "                }\n",
       "            }, 500);\n",
       "            "
      ],
      "text/plain": [
       "<IPython.core.display.Javascript object>"
      ]
     },
     "metadata": {},
     "output_type": "display_data"
    }
   ],
   "source": [
    "'''What signs are we trying to predict.'''"
   ]
  },
  {
   "cell_type": "code",
   "execution_count": 6,
   "id": "a7f553c9",
   "metadata": {
    "_cell_guid": "2f53f7d5-5272-4cbc-8133-5d7be0d4a005",
    "_uuid": "3fef0290-2af8-45a7-a133-f2395d0624f9",
    "collapsed": false,
    "execution": {
     "iopub.execute_input": "2023-02-28T01:32:25.348903Z",
     "iopub.status.busy": "2023-02-28T01:32:25.348451Z",
     "iopub.status.idle": "2023-02-28T01:32:25.374744Z",
     "shell.execute_reply": "2023-02-28T01:32:25.373165Z"
    },
    "jupyter": {
     "outputs_hidden": false
    },
    "papermill": {
     "duration": 0.039602,
     "end_time": "2023-02-28T01:32:25.377504",
     "exception": false,
     "start_time": "2023-02-28T01:32:25.337902",
     "status": "completed"
    },
    "tags": []
   },
   "outputs": [
    {
     "data": {
      "text/plain": [
       "250"
      ]
     },
     "execution_count": 6,
     "metadata": {},
     "output_type": "execute_result"
    },
    {
     "data": {
      "application/javascript": [
       "\n",
       "            setTimeout(function() {\n",
       "                var nbb_cell_id = 6;\n",
       "                var nbb_unformatted_code = \"train['sign'].nunique()\";\n",
       "                var nbb_formatted_code = \"train[\\\"sign\\\"].nunique()\";\n",
       "                var nbb_cells = Jupyter.notebook.get_cells();\n",
       "                for (var i = 0; i < nbb_cells.length; ++i) {\n",
       "                    if (nbb_cells[i].input_prompt_number == nbb_cell_id) {\n",
       "                        if (nbb_cells[i].get_text() == nbb_unformatted_code) {\n",
       "                             nbb_cells[i].set_text(nbb_formatted_code);\n",
       "                        }\n",
       "                        break;\n",
       "                    }\n",
       "                }\n",
       "            }, 500);\n",
       "            "
      ],
      "text/plain": [
       "<IPython.core.display.Javascript object>"
      ]
     },
     "metadata": {},
     "output_type": "display_data"
    }
   ],
   "source": [
    "train['sign'].nunique()"
   ]
  },
  {
   "cell_type": "code",
   "execution_count": 7,
   "id": "de4d1dd1",
   "metadata": {
    "_cell_guid": "af202103-92fd-4bfa-a57b-3bfba4684eda",
    "_uuid": "3532f042-82d7-40e2-bdfa-8a70207a2902",
    "collapsed": false,
    "execution": {
     "iopub.execute_input": "2023-02-28T01:32:25.398175Z",
     "iopub.status.busy": "2023-02-28T01:32:25.397746Z",
     "iopub.status.idle": "2023-02-28T01:32:25.418464Z",
     "shell.execute_reply": "2023-02-28T01:32:25.417113Z"
    },
    "jupyter": {
     "outputs_hidden": false
    },
    "papermill": {
     "duration": 0.03437,
     "end_time": "2023-02-28T01:32:25.421065",
     "exception": false,
     "start_time": "2023-02-28T01:32:25.386695",
     "status": "completed"
    },
    "tags": []
   },
   "outputs": [
    {
     "data": {
      "text/plain": [
       "listen        415\n",
       "look          414\n",
       "shhh          411\n",
       "donkey        410\n",
       "mouse         408\n",
       "duck          405\n",
       "hear          405\n",
       "uncle         405\n",
       "pretend       404\n",
       "bird          404\n",
       "cow           404\n",
       "sleepy        403\n",
       "brown         403\n",
       "who           403\n",
       "bye           402\n",
       "nuts          402\n",
       "fireman       402\n",
       "lips          402\n",
       "toothbrush    402\n",
       "wake          401\n",
       "Name: sign, dtype: int64"
      ]
     },
     "execution_count": 7,
     "metadata": {},
     "output_type": "execute_result"
    },
    {
     "data": {
      "application/javascript": [
       "\n",
       "            setTimeout(function() {\n",
       "                var nbb_cell_id = 7;\n",
       "                var nbb_unformatted_code = \"train['sign'].value_counts().head(20)\";\n",
       "                var nbb_formatted_code = \"train[\\\"sign\\\"].value_counts().head(20)\";\n",
       "                var nbb_cells = Jupyter.notebook.get_cells();\n",
       "                for (var i = 0; i < nbb_cells.length; ++i) {\n",
       "                    if (nbb_cells[i].input_prompt_number == nbb_cell_id) {\n",
       "                        if (nbb_cells[i].get_text() == nbb_unformatted_code) {\n",
       "                             nbb_cells[i].set_text(nbb_formatted_code);\n",
       "                        }\n",
       "                        break;\n",
       "                    }\n",
       "                }\n",
       "            }, 500);\n",
       "            "
      ],
      "text/plain": [
       "<IPython.core.display.Javascript object>"
      ]
     },
     "metadata": {},
     "output_type": "display_data"
    }
   ],
   "source": [
    "train['sign'].value_counts().head(20)"
   ]
  },
  {
   "cell_type": "code",
   "execution_count": 8,
   "id": "ee2d6769",
   "metadata": {
    "_cell_guid": "d6c1ccde-c319-4870-b552-4555f227f4ef",
    "_uuid": "29f35705-fd4a-4072-97ba-4c2eadb86f7c",
    "collapsed": false,
    "execution": {
     "iopub.execute_input": "2023-02-28T01:32:25.442181Z",
     "iopub.status.busy": "2023-02-28T01:32:25.441227Z",
     "iopub.status.idle": "2023-02-28T01:32:25.881821Z",
     "shell.execute_reply": "2023-02-28T01:32:25.880621Z"
    },
    "jupyter": {
     "outputs_hidden": false
    },
    "papermill": {
     "duration": 0.454255,
     "end_time": "2023-02-28T01:32:25.884584",
     "exception": false,
     "start_time": "2023-02-28T01:32:25.430329",
     "status": "completed"
    },
    "tags": []
   },
   "outputs": [
    {
     "data": {
      "image/png": "[encoded data removed]",
      "text/plain": [
       "<Figure size 800x800 with 1 Axes>"
      ]
     },
     "metadata": {},
     "output_type": "display_data"
    },
    {
     "data": {
      "application/javascript": [
       "\n",
       "            setTimeout(function() {\n",
       "                var nbb_cell_id = 8;\n",
       "                var nbb_unformatted_code = \"fig, ax = plt.subplots(figsize=(8,8))\\ntrain['sign'].value_counts().head(20).sort_values(ascending= True) \\\\\\n.plot(kind='barh', ax =ax, title='Top 20 signs in training datasets')\\n\\nax.set_xlabel('Number of training examples')\\nplt.show()\";\n",
       "                var nbb_formatted_code = \"fig, ax = plt.subplots(figsize=(8, 8))\\ntrain[\\\"sign\\\"].value_counts().head(20).sort_values(ascending=True).plot(\\n    kind=\\\"barh\\\", ax=ax, title=\\\"Top 20 signs in training datasets\\\"\\n)\\n\\nax.set_xlabel(\\\"Number of training examples\\\")\\nplt.show()\";\n",
       "                var nbb_cells = Jupyter.notebook.get_cells();\n",
       "                for (var i = 0; i < nbb_cells.length; ++i) {\n",
       "                    if (nbb_cells[i].input_prompt_number == nbb_cell_id) {\n",
       "                        if (nbb_cells[i].get_text() == nbb_unformatted_code) {\n",
       "                             nbb_cells[i].set_text(nbb_formatted_code);\n",
       "                        }\n",
       "                        break;\n",
       "                    }\n",
       "                }\n",
       "            }, 500);\n",
       "            "
      ],
      "text/plain": [
       "<IPython.core.display.Javascript object>"
      ]
     },
     "metadata": {},
     "output_type": "display_data"
    }
   ],
   "source": [
    "fig, ax = plt.subplots(figsize=(8,8))\n",
    "train['sign'].value_counts().head(20).sort_values(ascending= True) \\\n",
    ".plot(kind='barh', ax =ax, title='Top 20 signs in training datasets')\n",
    "\n",
    "ax.set_xlabel('Number of training examples')\n",
    "plt.show()"
   ]
  },
  {
   "cell_type": "code",
   "execution_count": 9,
   "id": "a9052358",
   "metadata": {
    "_cell_guid": "8bfd8d65-2cec-4c4e-808a-af04dd467fad",
    "_uuid": "b4da7ca0-c6a8-42db-b39f-237e30e96b47",
    "collapsed": false,
    "execution": {
     "iopub.execute_input": "2023-02-28T01:32:25.907384Z",
     "iopub.status.busy": "2023-02-28T01:32:25.906923Z",
     "iopub.status.idle": "2023-02-28T01:32:26.252867Z",
     "shell.execute_reply": "2023-02-28T01:32:26.251414Z"
    },
    "jupyter": {
     "outputs_hidden": false
    },
    "papermill": {
     "duration": 0.360515,
     "end_time": "2023-02-28T01:32:26.255419",
     "exception": false,
     "start_time": "2023-02-28T01:32:25.894904",
     "status": "completed"
    },
    "tags": []
   },
   "outputs": [
    {
     "data": {
      "image/png": "[encoded data removed]",
      "text/plain": [
       "<Figure size 800x800 with 1 Axes>"
      ]
     },
     "metadata": {},
     "output_type": "display_data"
    },
    {
     "data": {
      "application/javascript": [
       "\n",
       "            setTimeout(function() {\n",
       "                var nbb_cell_id = 9;\n",
       "                var nbb_unformatted_code = \"fig, ax = plt.subplots(figsize=(8,8))\\ntrain['sign'].value_counts().tail(20).sort_values(ascending = False) \\\\\\n                                                  .plot(kind='barh', ax=ax, title = 'Top 20 bottom sign in training datasets')\\nax.set_xlabel('Number of training examples')\\nplt.show()\";\n",
       "                var nbb_formatted_code = \"fig, ax = plt.subplots(figsize=(8, 8))\\ntrain[\\\"sign\\\"].value_counts().tail(20).sort_values(ascending=False).plot(\\n    kind=\\\"barh\\\", ax=ax, title=\\\"Top 20 bottom sign in training datasets\\\"\\n)\\nax.set_xlabel(\\\"Number of training examples\\\")\\nplt.show()\";\n",
       "                var nbb_cells = Jupyter.notebook.get_cells();\n",
       "                for (var i = 0; i < nbb_cells.length; ++i) {\n",
       "                    if (nbb_cells[i].input_prompt_number == nbb_cell_id) {\n",
       "                        if (nbb_cells[i].get_text() == nbb_unformatted_code) {\n",
       "                             nbb_cells[i].set_text(nbb_formatted_code);\n",
       "                        }\n",
       "                        break;\n",
       "                    }\n",
       "                }\n",
       "            }, 500);\n",
       "            "
      ],
      "text/plain": [
       "<IPython.core.display.Javascript object>"
      ]
     },
     "metadata": {},
     "output_type": "display_data"
    }
   ],
   "source": [
    "fig, ax = plt.subplots(figsize=(8,8))\n",
    "train['sign'].value_counts().tail(20).sort_values(ascending = False) \\\n",
    "                                                  .plot(kind='barh', ax=ax, title = 'Top 20 bottom sign in training datasets')\n",
    "ax.set_xlabel('Number of training examples')\n",
    "plt.show()"
   ]
  },
  {
   "cell_type": "markdown",
   "id": "a08497e9",
   "metadata": {
    "_cell_guid": "e96582ed-a5b2-4eb3-8d11-0af3a4835307",
    "_uuid": "fd3bd7eb-d31a-4652-9762-872294c58004",
    "papermill": {
     "duration": 0.010547,
     "end_time": "2023-02-28T01:32:26.277011",
     "exception": false,
     "start_time": "2023-02-28T01:32:26.266464",
     "status": "completed"
    },
    "tags": []
   },
   "source": [
    "- Train.csv has 250 unique signs\n",
    "- Ranging from 299 to 415 signs"
   ]
  },
  {
   "cell_type": "markdown",
   "id": "22e22e77",
   "metadata": {
    "_cell_guid": "40b4e73b-81a5-4903-b264-485ab169ba2e",
    "_uuid": "6a0bf10b-3f7c-40e4-83db-0e43c3005a4b",
    "papermill": {
     "duration": 0.017123,
     "end_time": "2023-02-28T01:32:26.306637",
     "exception": false,
     "start_time": "2023-02-28T01:32:26.289514",
     "status": "completed"
    },
    "tags": []
   },
   "source": [
    "## Parquet landmark dataset\n",
    "\n",
    "- Each parquet file in the path:\n",
    "    - train_landmark_files/[participant_id]/[sequence_id].parquet\n",
    "    - The parquet's associated sign can be found in train.csv"
   ]
  },
  {
   "cell_type": "markdown",
   "id": "22fb1f23",
   "metadata": {
    "_cell_guid": "3dddff57-3435-4592-81a7-3381ed2cb83c",
    "_uuid": "54ddcbc9-c96a-4b9a-b193-1ee24f5a7064",
    "papermill": {
     "duration": 0.016511,
     "end_time": "2023-02-28T01:32:26.334970",
     "exception": false,
     "start_time": "2023-02-28T01:32:26.318459",
     "status": "completed"
    },
    "tags": []
   },
   "source": [
    "### Pull an example parquet data\n",
    "\n",
    "- We pull an example landmark file for the sign 'listen'"
   ]
  },
  {
   "cell_type": "code",
   "execution_count": 10,
   "id": "40bb7b9e",
   "metadata": {
    "_cell_guid": "dd6849a6-33a6-41df-8902-246363da7995",
    "_uuid": "38422cf0-4ccb-41e0-9eda-cfb279cd3e35",
    "collapsed": false,
    "execution": {
     "iopub.execute_input": "2023-02-28T01:32:26.373208Z",
     "iopub.status.busy": "2023-02-28T01:32:26.372780Z",
     "iopub.status.idle": "2023-02-28T01:32:26.401370Z",
     "shell.execute_reply": "2023-02-28T01:32:26.400277Z"
    },
    "jupyter": {
     "outputs_hidden": false
    },
    "papermill": {
     "duration": 0.048495,
     "end_time": "2023-02-28T01:32:26.404107",
     "exception": false,
     "start_time": "2023-02-28T01:32:26.355612",
     "status": "completed"
    },
    "tags": []
   },
   "outputs": [
    {
     "data": {
      "text/plain": [
       "'train_landmark_files/37055/1011397240.parquet'"
      ]
     },
     "execution_count": 10,
     "metadata": {},
     "output_type": "execute_result"
    },
    {
     "data": {
      "application/javascript": [
       "\n",
       "            setTimeout(function() {\n",
       "                var nbb_cell_id = 10;\n",
       "                var nbb_unformatted_code = \"example_fn = train.query('sign == \\\"listen\\\"')['path'].values[0]\\nexample_fn\";\n",
       "                var nbb_formatted_code = \"example_fn = train.query('sign == \\\"listen\\\"')[\\\"path\\\"].values[0]\\nexample_fn\";\n",
       "                var nbb_cells = Jupyter.notebook.get_cells();\n",
       "                for (var i = 0; i < nbb_cells.length; ++i) {\n",
       "                    if (nbb_cells[i].input_prompt_number == nbb_cell_id) {\n",
       "                        if (nbb_cells[i].get_text() == nbb_unformatted_code) {\n",
       "                             nbb_cells[i].set_text(nbb_formatted_code);\n",
       "                        }\n",
       "                        break;\n",
       "                    }\n",
       "                }\n",
       "            }, 500);\n",
       "            "
      ],
      "text/plain": [
       "<IPython.core.display.Javascript object>"
      ]
     },
     "metadata": {},
     "output_type": "display_data"
    }
   ],
   "source": [
    "example_fn = train.query('sign == \"listen\"')['path'].values[0]\n",
    "example_fn"
   ]
  },
  {
   "cell_type": "code",
   "execution_count": 11,
   "id": "5d88f5aa",
   "metadata": {
    "_cell_guid": "cd3aca24-8844-4e05-bcc5-b8e3e2cba8b3",
    "_uuid": "e72a1404-1c68-4334-9635-046c28e558db",
    "collapsed": false,
    "execution": {
     "iopub.execute_input": "2023-02-28T01:32:26.430348Z",
     "iopub.status.busy": "2023-02-28T01:32:26.429931Z",
     "iopub.status.idle": "2023-02-28T01:32:26.615155Z",
     "shell.execute_reply": "2023-02-28T01:32:26.613920Z"
    },
    "jupyter": {
     "outputs_hidden": false
    },
    "papermill": {
     "duration": 0.202323,
     "end_time": "2023-02-28T01:32:26.618075",
     "exception": false,
     "start_time": "2023-02-28T01:32:26.415752",
     "status": "completed"
    },
    "tags": []
   },
   "outputs": [
    {
     "data": {
      "text/html": [
       "<div>\n",
       "<style scoped>\n",
       "    .dataframe tbody tr th:only-of-type {\n",
       "        vertical-align: middle;\n",
       "    }\n",
       "\n",
       "    .dataframe tbody tr th {\n",
       "        vertical-align: top;\n",
       "    }\n",
       "\n",
       "    .dataframe thead th {\n",
       "        text-align: right;\n",
       "    }\n",
       "</style>\n",
       "<table border=\"1\" class=\"dataframe\">\n",
       "  <thead>\n",
       "    <tr style=\"text-align: right;\">\n",
       "      <th></th>\n",
       "      <th>frame</th>\n",
       "      <th>row_id</th>\n",
       "      <th>type</th>\n",
       "      <th>landmark_index</th>\n",
       "      <th>x</th>\n",
       "      <th>y</th>\n",
       "      <th>z</th>\n",
       "    </tr>\n",
       "  </thead>\n",
       "  <tbody>\n",
       "    <tr>\n",
       "      <th>0</th>\n",
       "      <td>35</td>\n",
       "      <td>35-face-0</td>\n",
       "      <td>face</td>\n",
       "      <td>0</td>\n",
       "      <td>0.556969</td>\n",
       "      <td>0.431919</td>\n",
       "      <td>-0.039614</td>\n",
       "    </tr>\n",
       "    <tr>\n",
       "      <th>1</th>\n",
       "      <td>35</td>\n",
       "      <td>35-face-1</td>\n",
       "      <td>face</td>\n",
       "      <td>1</td>\n",
       "      <td>0.548688</td>\n",
       "      <td>0.394788</td>\n",
       "      <td>-0.077306</td>\n",
       "    </tr>\n",
       "    <tr>\n",
       "      <th>2</th>\n",
       "      <td>35</td>\n",
       "      <td>35-face-2</td>\n",
       "      <td>face</td>\n",
       "      <td>2</td>\n",
       "      <td>0.548806</td>\n",
       "      <td>0.405519</td>\n",
       "      <td>-0.040327</td>\n",
       "    </tr>\n",
       "    <tr>\n",
       "      <th>3</th>\n",
       "      <td>35</td>\n",
       "      <td>35-face-3</td>\n",
       "      <td>face</td>\n",
       "      <td>3</td>\n",
       "      <td>0.531849</td>\n",
       "      <td>0.356302</td>\n",
       "      <td>-0.058683</td>\n",
       "    </tr>\n",
       "    <tr>\n",
       "      <th>4</th>\n",
       "      <td>35</td>\n",
       "      <td>35-face-4</td>\n",
       "      <td>face</td>\n",
       "      <td>4</td>\n",
       "      <td>0.547539</td>\n",
       "      <td>0.382894</td>\n",
       "      <td>-0.082544</td>\n",
       "    </tr>\n",
       "    <tr>\n",
       "      <th>...</th>\n",
       "      <td>...</td>\n",
       "      <td>...</td>\n",
       "      <td>...</td>\n",
       "      <td>...</td>\n",
       "      <td>...</td>\n",
       "      <td>...</td>\n",
       "      <td>...</td>\n",
       "    </tr>\n",
       "    <tr>\n",
       "      <th>3253</th>\n",
       "      <td>40</td>\n",
       "      <td>40-right_hand-16</td>\n",
       "      <td>right_hand</td>\n",
       "      <td>16</td>\n",
       "      <td>0.177520</td>\n",
       "      <td>0.536142</td>\n",
       "      <td>-0.034433</td>\n",
       "    </tr>\n",
       "    <tr>\n",
       "      <th>3254</th>\n",
       "      <td>40</td>\n",
       "      <td>40-right_hand-17</td>\n",
       "      <td>right_hand</td>\n",
       "      <td>17</td>\n",
       "      <td>0.065610</td>\n",
       "      <td>0.493125</td>\n",
       "      <td>-0.047778</td>\n",
       "    </tr>\n",
       "    <tr>\n",
       "      <th>3255</th>\n",
       "      <td>40</td>\n",
       "      <td>40-right_hand-18</td>\n",
       "      <td>right_hand</td>\n",
       "      <td>18</td>\n",
       "      <td>0.096587</td>\n",
       "      <td>0.491917</td>\n",
       "      <td>-0.064403</td>\n",
       "    </tr>\n",
       "    <tr>\n",
       "      <th>3256</th>\n",
       "      <td>40</td>\n",
       "      <td>40-right_hand-19</td>\n",
       "      <td>right_hand</td>\n",
       "      <td>19</td>\n",
       "      <td>0.125879</td>\n",
       "      <td>0.520035</td>\n",
       "      <td>-0.051628</td>\n",
       "    </tr>\n",
       "    <tr>\n",
       "      <th>3257</th>\n",
       "      <td>40</td>\n",
       "      <td>40-right_hand-20</td>\n",
       "      <td>right_hand</td>\n",
       "      <td>20</td>\n",
       "      <td>0.135349</td>\n",
       "      <td>0.536520</td>\n",
       "      <td>-0.038497</td>\n",
       "    </tr>\n",
       "  </tbody>\n",
       "</table>\n",
       "<p>3258 rows × 7 columns</p>\n",
       "</div>"
      ],
      "text/plain": [
       "      frame            row_id        type  landmark_index         x         y  \\\n",
       "0        35         35-face-0        face               0  0.556969  0.431919   \n",
       "1        35         35-face-1        face               1  0.548688  0.394788   \n",
       "2        35         35-face-2        face               2  0.548806  0.405519   \n",
       "3        35         35-face-3        face               3  0.531849  0.356302   \n",
       "4        35         35-face-4        face               4  0.547539  0.382894   \n",
       "...     ...               ...         ...             ...       ...       ...   \n",
       "3253     40  40-right_hand-16  right_hand              16  0.177520  0.536142   \n",
       "3254     40  40-right_hand-17  right_hand              17  0.065610  0.493125   \n",
       "3255     40  40-right_hand-18  right_hand              18  0.096587  0.491917   \n",
       "3256     40  40-right_hand-19  right_hand              19  0.125879  0.520035   \n",
       "3257     40  40-right_hand-20  right_hand              20  0.135349  0.536520   \n",
       "\n",
       "             z  \n",
       "0    -0.039614  \n",
       "1    -0.077306  \n",
       "2    -0.040327  \n",
       "3    -0.058683  \n",
       "4    -0.082544  \n",
       "...        ...  \n",
       "3253 -0.034433  \n",
       "3254 -0.047778  \n",
       "3255 -0.064403  \n",
       "3256 -0.051628  \n",
       "3257 -0.038497  \n",
       "\n",
       "[3258 rows x 7 columns]"
      ]
     },
     "execution_count": 11,
     "metadata": {},
     "output_type": "execute_result"
    },
    {
     "data": {
      "application/javascript": [
       "\n",
       "            setTimeout(function() {\n",
       "                var nbb_cell_id = 11;\n",
       "                var nbb_unformatted_code = \"landmark_example = pd.read_parquet(f'{BASE_DIR}/{example_fn}')\\nlandmark_example\";\n",
       "                var nbb_formatted_code = \"landmark_example = pd.read_parquet(f\\\"{BASE_DIR}/{example_fn}\\\")\\nlandmark_example\";\n",
       "                var nbb_cells = Jupyter.notebook.get_cells();\n",
       "                for (var i = 0; i < nbb_cells.length; ++i) {\n",
       "                    if (nbb_cells[i].input_prompt_number == nbb_cell_id) {\n",
       "                        if (nbb_cells[i].get_text() == nbb_unformatted_code) {\n",
       "                             nbb_cells[i].set_text(nbb_formatted_code);\n",
       "                        }\n",
       "                        break;\n",
       "                    }\n",
       "                }\n",
       "            }, 500);\n",
       "            "
      ],
      "text/plain": [
       "<IPython.core.display.Javascript object>"
      ]
     },
     "metadata": {},
     "output_type": "display_data"
    }
   ],
   "source": [
    "landmark_example = pd.read_parquet(f'{BASE_DIR}/{example_fn}')\n",
    "landmark_example"
   ]
  },
  {
   "cell_type": "code",
   "execution_count": 12,
   "id": "bb96425d",
   "metadata": {
    "_cell_guid": "5203c712-aba0-4e39-9327-c016eab4dfca",
    "_uuid": "16a1ee0a-fe56-4ae5-a75f-06b79e16778a",
    "collapsed": false,
    "execution": {
     "iopub.execute_input": "2023-02-28T01:32:26.645892Z",
     "iopub.status.busy": "2023-02-28T01:32:26.644544Z",
     "iopub.status.idle": "2023-02-28T01:32:26.663303Z",
     "shell.execute_reply": "2023-02-28T01:32:26.661750Z"
    },
    "jupyter": {
     "outputs_hidden": false
    },
    "papermill": {
     "duration": 0.035872,
     "end_time": "2023-02-28T01:32:26.666346",
     "exception": false,
     "start_time": "2023-02-28T01:32:26.630474",
     "status": "completed"
    },
    "tags": []
   },
   "outputs": [
    {
     "name": "stdout",
     "output_type": "stream",
     "text": [
      "The file has 6 unique frames, 4 unique types and types are ['face' 'left_hand' 'pose' 'right_hand']\n"
     ]
    },
    {
     "data": {
      "application/javascript": [
       "\n",
       "            setTimeout(function() {\n",
       "                var nbb_cell_id = 12;\n",
       "                var nbb_unformatted_code = \"unique_frames = landmark_example['frame'].nunique()\\nunique_types = landmark_example['type'].nunique()\\ntypes_in_video = landmark_example['type'].unique()\\nprint(f\\\"The file has {unique_frames} unique frames, {unique_types} unique types and types are {types_in_video}\\\")\";\n",
       "                var nbb_formatted_code = \"unique_frames = landmark_example[\\\"frame\\\"].nunique()\\nunique_types = landmark_example[\\\"type\\\"].nunique()\\ntypes_in_video = landmark_example[\\\"type\\\"].unique()\\nprint(\\n    f\\\"The file has {unique_frames} unique frames, {unique_types} unique types and types are {types_in_video}\\\"\\n)\";\n",
       "                var nbb_cells = Jupyter.notebook.get_cells();\n",
       "                for (var i = 0; i < nbb_cells.length; ++i) {\n",
       "                    if (nbb_cells[i].input_prompt_number == nbb_cell_id) {\n",
       "                        if (nbb_cells[i].get_text() == nbb_unformatted_code) {\n",
       "                             nbb_cells[i].set_text(nbb_formatted_code);\n",
       "                        }\n",
       "                        break;\n",
       "                    }\n",
       "                }\n",
       "            }, 500);\n",
       "            "
      ],
      "text/plain": [
       "<IPython.core.display.Javascript object>"
      ]
     },
     "metadata": {},
     "output_type": "display_data"
    }
   ],
   "source": [
    "unique_frames = landmark_example['frame'].nunique()\n",
    "unique_types = landmark_example['type'].nunique()\n",
    "types_in_video = landmark_example['type'].unique()\n",
    "print(f\"The file has {unique_frames} unique frames, {unique_types} unique types and types are {types_in_video}\")"
   ]
  },
  {
   "cell_type": "code",
   "execution_count": 13,
   "id": "a2521361",
   "metadata": {
    "_cell_guid": "6b197432-a9c1-4b67-b03c-b3e8fd7687ef",
    "_uuid": "19f8dea8-11ec-4fc9-91d9-a611d5a8a852",
    "collapsed": false,
    "execution": {
     "iopub.execute_input": "2023-02-28T01:32:26.692745Z",
     "iopub.status.busy": "2023-02-28T01:32:26.692265Z",
     "iopub.status.idle": "2023-02-28T01:32:26.710692Z",
     "shell.execute_reply": "2023-02-28T01:32:26.709634Z"
    },
    "jupyter": {
     "outputs_hidden": false
    },
    "papermill": {
     "duration": 0.034919,
     "end_time": "2023-02-28T01:32:26.713291",
     "exception": false,
     "start_time": "2023-02-28T01:32:26.678372",
     "status": "completed"
    },
    "tags": []
   },
   "outputs": [
    {
     "data": {
      "text/plain": [
       "415"
      ]
     },
     "execution_count": 13,
     "metadata": {},
     "output_type": "execute_result"
    },
    {
     "data": {
      "application/javascript": [
       "\n",
       "            setTimeout(function() {\n",
       "                var nbb_cell_id = 13;\n",
       "                var nbb_unformatted_code = \"listen_files = train.query('sign == \\\"listen\\\"')['path'].values\\nlen(listen_files)\";\n",
       "                var nbb_formatted_code = \"listen_files = train.query('sign == \\\"listen\\\"')[\\\"path\\\"].values\\nlen(listen_files)\";\n",
       "                var nbb_cells = Jupyter.notebook.get_cells();\n",
       "                for (var i = 0; i < nbb_cells.length; ++i) {\n",
       "                    if (nbb_cells[i].input_prompt_number == nbb_cell_id) {\n",
       "                        if (nbb_cells[i].get_text() == nbb_unformatted_code) {\n",
       "                             nbb_cells[i].set_text(nbb_formatted_code);\n",
       "                        }\n",
       "                        break;\n",
       "                    }\n",
       "                }\n",
       "            }, 500);\n",
       "            "
      ],
      "text/plain": [
       "<IPython.core.display.Javascript object>"
      ]
     },
     "metadata": {},
     "output_type": "display_data"
    }
   ],
   "source": [
    "listen_files = train.query('sign == \"listen\"')['path'].values\n",
    "len(listen_files)"
   ]
  },
  {
   "cell_type": "markdown",
   "id": "ccca1da7",
   "metadata": {
    "papermill": {
     "duration": 0.011758,
     "end_time": "2023-02-28T01:32:26.737028",
     "exception": false,
     "start_time": "2023-02-28T01:32:26.725270",
     "status": "completed"
    },
    "tags": []
   },
   "source": [
    "### Comparing parquet files, what type of data we have\n",
    "\n",
    "- Frames on each record is not consistent.\n",
    "- Every file has 4 types of landmarks: face, left_hand, right_hand, pose."
   ]
  },
  {
   "cell_type": "code",
   "execution_count": 14,
   "id": "f58947ec",
   "metadata": {
    "_cell_guid": "f73ac204-85de-43bd-9856-30a49c552a25",
    "_uuid": "c515bdd8-d458-4e54-b3c0-6c1f4d93ff0c",
    "collapsed": false,
    "execution": {
     "iopub.execute_input": "2023-02-28T01:32:26.763667Z",
     "iopub.status.busy": "2023-02-28T01:32:26.762611Z",
     "iopub.status.idle": "2023-02-28T01:32:27.496354Z",
     "shell.execute_reply": "2023-02-28T01:32:27.494377Z"
    },
    "jupyter": {
     "outputs_hidden": false
    },
    "papermill": {
     "duration": 0.750284,
     "end_time": "2023-02-28T01:32:27.499362",
     "exception": false,
     "start_time": "2023-02-28T01:32:26.749078",
     "status": "completed"
    },
    "tags": []
   },
   "outputs": [
    {
     "name": "stdout",
     "output_type": "stream",
     "text": [
      "The listen landmark file 0 has \n",
      "unique frames : 6, \n",
      "unique types :  4 ,\n",
      "types: ['face' 'left_hand' 'pose' 'right_hand']\n",
      "The listen landmark file 1 has \n",
      "unique frames : 23, \n",
      "unique types :  4 ,\n",
      "types: ['face' 'left_hand' 'pose' 'right_hand']\n",
      "The listen landmark file 2 has \n",
      "unique frames : 28, \n",
      "unique types :  4 ,\n",
      "types: ['face' 'left_hand' 'pose' 'right_hand']\n",
      "The listen landmark file 3 has \n",
      "unique frames : 68, \n",
      "unique types :  4 ,\n",
      "types: ['face' 'left_hand' 'pose' 'right_hand']\n",
      "The listen landmark file 4 has \n",
      "unique frames : 6, \n",
      "unique types :  4 ,\n",
      "types: ['face' 'left_hand' 'pose' 'right_hand']\n",
      "The listen landmark file 5 has \n",
      "unique frames : 16, \n",
      "unique types :  4 ,\n",
      "types: ['face' 'left_hand' 'pose' 'right_hand']\n",
      "The listen landmark file 6 has \n",
      "unique frames : 6, \n",
      "unique types :  4 ,\n",
      "types: ['face' 'left_hand' 'pose' 'right_hand']\n",
      "The listen landmark file 7 has \n",
      "unique frames : 6, \n",
      "unique types :  4 ,\n",
      "types: ['face' 'left_hand' 'pose' 'right_hand']\n",
      "The listen landmark file 8 has \n",
      "unique frames : 8, \n",
      "unique types :  4 ,\n",
      "types: ['face' 'left_hand' 'pose' 'right_hand']\n",
      "The listen landmark file 9 has \n",
      "unique frames : 33, \n",
      "unique types :  4 ,\n",
      "types: ['face' 'left_hand' 'pose' 'right_hand']\n",
      "The listen landmark file 10 has \n",
      "unique frames : 13, \n",
      "unique types :  4 ,\n",
      "types: ['face' 'left_hand' 'pose' 'right_hand']\n",
      "The listen landmark file 11 has \n",
      "unique frames : 23, \n",
      "unique types :  4 ,\n",
      "types: ['face' 'left_hand' 'pose' 'right_hand']\n",
      "The listen landmark file 12 has \n",
      "unique frames : 191, \n",
      "unique types :  4 ,\n",
      "types: ['face' 'left_hand' 'pose' 'right_hand']\n",
      "The listen landmark file 13 has \n",
      "unique frames : 64, \n",
      "unique types :  4 ,\n",
      "types: ['face' 'left_hand' 'pose' 'right_hand']\n",
      "The listen landmark file 14 has \n",
      "unique frames : 32, \n",
      "unique types :  4 ,\n",
      "types: ['face' 'left_hand' 'pose' 'right_hand']\n",
      "The listen landmark file 15 has \n",
      "unique frames : 24, \n",
      "unique types :  4 ,\n",
      "types: ['face' 'left_hand' 'pose' 'right_hand']\n",
      "The listen landmark file 16 has \n",
      "unique frames : 77, \n",
      "unique types :  4 ,\n",
      "types: ['face' 'left_hand' 'pose' 'right_hand']\n",
      "The listen landmark file 17 has \n",
      "unique frames : 60, \n",
      "unique types :  4 ,\n",
      "types: ['face' 'left_hand' 'pose' 'right_hand']\n",
      "The listen landmark file 18 has \n",
      "unique frames : 23, \n",
      "unique types :  4 ,\n",
      "types: ['face' 'left_hand' 'pose' 'right_hand']\n",
      "The listen landmark file 19 has \n",
      "unique frames : 20, \n",
      "unique types :  4 ,\n",
      "types: ['face' 'left_hand' 'pose' 'right_hand']\n",
      "The listen landmark file 20 has \n",
      "unique frames : 15, \n",
      "unique types :  4 ,\n",
      "types: ['face' 'left_hand' 'pose' 'right_hand']\n"
     ]
    },
    {
     "data": {
      "application/javascript": [
       "\n",
       "            setTimeout(function() {\n",
       "                var nbb_cell_id = 14;\n",
       "                var nbb_unformatted_code = \"for index ,listen in enumerate(listen_files):\\n    landmark_listen = pd.read_parquet(f\\\"{BASE_DIR}/{listen}\\\")\\n    unique_frames = landmark_listen['frame'].nunique()\\n    unique_types = landmark_listen['type'].nunique()\\n    types_in_video = landmark_listen['type'].unique()\\n    print(\\n        f'The listen landmark file {index} has \\\\nunique frames : {unique_frames}, \\\\nunique types :  {unique_types} ,\\\\ntypes: {types_in_video}'\\n    )\\n    if index == 20:\\n        break\";\n",
       "                var nbb_formatted_code = \"for index, listen in enumerate(listen_files):\\n    landmark_listen = pd.read_parquet(f\\\"{BASE_DIR}/{listen}\\\")\\n    unique_frames = landmark_listen[\\\"frame\\\"].nunique()\\n    unique_types = landmark_listen[\\\"type\\\"].nunique()\\n    types_in_video = landmark_listen[\\\"type\\\"].unique()\\n    print(\\n        f\\\"The listen landmark file {index} has \\\\nunique frames : {unique_frames}, \\\\nunique types :  {unique_types} ,\\\\ntypes: {types_in_video}\\\"\\n    )\\n    if index == 20:\\n        break\";\n",
       "                var nbb_cells = Jupyter.notebook.get_cells();\n",
       "                for (var i = 0; i < nbb_cells.length; ++i) {\n",
       "                    if (nbb_cells[i].input_prompt_number == nbb_cell_id) {\n",
       "                        if (nbb_cells[i].get_text() == nbb_unformatted_code) {\n",
       "                             nbb_cells[i].set_text(nbb_formatted_code);\n",
       "                        }\n",
       "                        break;\n",
       "                    }\n",
       "                }\n",
       "            }, 500);\n",
       "            "
      ],
      "text/plain": [
       "<IPython.core.display.Javascript object>"
      ]
     },
     "metadata": {},
     "output_type": "display_data"
    }
   ],
   "source": [
    "for index ,listen in enumerate(listen_files):\n",
    "    landmark_listen = pd.read_parquet(f\"{BASE_DIR}/{listen}\")\n",
    "    unique_frames = landmark_listen['frame'].nunique()\n",
    "    unique_types = landmark_listen['type'].nunique()\n",
    "    types_in_video = landmark_listen['type'].unique()\n",
    "    print(\n",
    "        f'The listen landmark file {index} has \\nunique frames : {unique_frames}, \\nunique types :  {unique_types} ,\\ntypes: {types_in_video}'\n",
    "    )\n",
    "    if index == 20:\n",
    "        break"
   ]
  },
  {
   "cell_type": "markdown",
   "id": "43dfeb7b",
   "metadata": {
    "papermill": {
     "duration": 0.012172,
     "end_time": "2023-02-28T01:32:27.524728",
     "exception": false,
     "start_time": "2023-02-28T01:32:27.512556",
     "status": "completed"
    },
    "tags": []
   },
   "source": [
    "## Create metadata on training dataset"
   ]
  },
  {
   "cell_type": "code",
   "execution_count": 15,
   "id": "2c88f201",
   "metadata": {
    "_cell_guid": "9a0c6fbd-639b-419d-8252-2c903af90e81",
    "_uuid": "8287abf5-7ecb-4470-baea-f0281671f9cf",
    "collapsed": false,
    "execution": {
     "iopub.execute_input": "2023-02-28T01:32:27.554114Z",
     "iopub.status.busy": "2023-02-28T01:32:27.553701Z",
     "iopub.status.idle": "2023-02-28T01:33:01.225983Z",
     "shell.execute_reply": "2023-02-28T01:33:01.224500Z"
    },
    "jupyter": {
     "outputs_hidden": false
    },
    "papermill": {
     "duration": 33.691522,
     "end_time": "2023-02-28T01:33:01.228875",
     "exception": false,
     "start_time": "2023-02-28T01:32:27.537353",
     "status": "completed"
    },
    "tags": []
   },
   "outputs": [
    {
     "data": {
      "application/vnd.jupyter.widget-view+json": {
       "model_id": "c0528380e5c14221b8fc156054f3a484",
       "version_major": 2,
       "version_minor": 0
      },
      "text/plain": [
       "  0%|          | 0/94477 [00:00<?, ?it/s]"
      ]
     },
     "metadata": {},
     "output_type": "display_data"
    },
    {
     "data": {
      "application/javascript": [
       "\n",
       "            setTimeout(function() {\n",
       "                var nbb_cell_id = 15;\n",
       "                var nbb_unformatted_code = \"combined_meta = {}\\nfor index, d in tqdm(train.iterrows(), total=len(train)):\\n    file_path = d['path']\\n    landmark_read = pd.read_parquet(f\\\"{BASE_DIR}/{file_path}\\\")\\n    meta = landmark_read['type'].value_counts().to_dict()\\n    meta['frame'] = landmark_read['frame'].nunique() ##number of frames in a file\\n    xyz_meta = (\\n    landmark_read.agg(\\n        {\\n            'x':['min', 'max', 'mean'],\\n            'y':['min', 'max', 'mean'],\\n            'z':['min', 'max', 'mean']\\n        }\\n    )\\n    .unstack()\\n    .to_dict()\\n    )\\n\\n    for key in xyz_meta.keys():\\n        new_keys = key[0] + '_' + key[1]\\n        meta[new_keys] = xyz_meta[key]\\n    combined_meta[file_path] = meta\\n    if index == 1_000:\\n        break\";\n",
       "                var nbb_formatted_code = \"combined_meta = {}\\nfor index, d in tqdm(train.iterrows(), total=len(train)):\\n    file_path = d[\\\"path\\\"]\\n    landmark_read = pd.read_parquet(f\\\"{BASE_DIR}/{file_path}\\\")\\n    meta = landmark_read[\\\"type\\\"].value_counts().to_dict()\\n    meta[\\\"frame\\\"] = landmark_read[\\\"frame\\\"].nunique()  ##number of frames in a file\\n    xyz_meta = (\\n        landmark_read.agg(\\n            {\\n                \\\"x\\\": [\\\"min\\\", \\\"max\\\", \\\"mean\\\"],\\n                \\\"y\\\": [\\\"min\\\", \\\"max\\\", \\\"mean\\\"],\\n                \\\"z\\\": [\\\"min\\\", \\\"max\\\", \\\"mean\\\"],\\n            }\\n        )\\n        .unstack()\\n        .to_dict()\\n    )\\n\\n    for key in xyz_meta.keys():\\n        new_keys = key[0] + \\\"_\\\" + key[1]\\n        meta[new_keys] = xyz_meta[key]\\n    combined_meta[file_path] = meta\\n    if index == 1_000:\\n        break\";\n",
       "                var nbb_cells = Jupyter.notebook.get_cells();\n",
       "                for (var i = 0; i < nbb_cells.length; ++i) {\n",
       "                    if (nbb_cells[i].input_prompt_number == nbb_cell_id) {\n",
       "                        if (nbb_cells[i].get_text() == nbb_unformatted_code) {\n",
       "                             nbb_cells[i].set_text(nbb_formatted_code);\n",
       "                        }\n",
       "                        break;\n",
       "                    }\n",
       "                }\n",
       "            }, 500);\n",
       "            "
      ],
      "text/plain": [
       "<IPython.core.display.Javascript object>"
      ]
     },
     "metadata": {},
     "output_type": "display_data"
    }
   ],
   "source": [
    "combined_meta = {}\n",
    "for index, d in tqdm(train.iterrows(), total=len(train)):\n",
    "    file_path = d['path']\n",
    "    landmark_read = pd.read_parquet(f\"{BASE_DIR}/{file_path}\")\n",
    "    meta = landmark_read['type'].value_counts().to_dict()\n",
    "    meta['frame'] = landmark_read['frame'].nunique() ##number of frames in a file\n",
    "    xyz_meta = (\n",
    "    landmark_read.agg(\n",
    "        {\n",
    "            'x':['min', 'max', 'mean'],\n",
    "            'y':['min', 'max', 'mean'],\n",
    "            'z':['min', 'max', 'mean']\n",
    "        }\n",
    "    )\n",
    "    .unstack()\n",
    "    .to_dict()\n",
    "    )\n",
    "\n",
    "    for key in xyz_meta.keys():\n",
    "        new_keys = key[0] + '_' + key[1]\n",
    "        meta[new_keys] = xyz_meta[key]\n",
    "    combined_meta[file_path] = meta\n",
    "    if index == 1_000:\n",
    "        break"
   ]
  },
  {
   "cell_type": "code",
   "execution_count": 16,
   "id": "376fcd82",
   "metadata": {
    "execution": {
     "iopub.execute_input": "2023-02-28T01:33:01.256671Z",
     "iopub.status.busy": "2023-02-28T01:33:01.256199Z",
     "iopub.status.idle": "2023-02-28T01:33:01.267079Z",
     "shell.execute_reply": "2023-02-28T01:33:01.265725Z"
    },
    "papermill": {
     "duration": 0.028099,
     "end_time": "2023-02-28T01:33:01.269927",
     "exception": false,
     "start_time": "2023-02-28T01:33:01.241828",
     "status": "completed"
    },
    "tags": []
   },
   "outputs": [
    {
     "data": {
      "text/plain": [
       "{'face': 15444,\n",
       " 'pose': 1089,\n",
       " 'left_hand': 693,\n",
       " 'right_hand': 693,\n",
       " 'frame': 33,\n",
       " 'x_min': -0.13577386736869812,\n",
       " 'x_max': 0.9888350963592529,\n",
       " 'x_mean': 0.4650228190092454,\n",
       " 'y_min': 0.132933109998703,\n",
       " 'y_max': 2.1390116214752197,\n",
       " 'y_mean': 0.33457921685870406,\n",
       " 'z_min': -1.7977821826934814,\n",
       " 'z_max': 1.1312501430511475,\n",
       " 'z_mean': -0.034399142299794426}"
      ]
     },
     "execution_count": 16,
     "metadata": {},
     "output_type": "execute_result"
    },
    {
     "data": {
      "application/javascript": [
       "\n",
       "            setTimeout(function() {\n",
       "                var nbb_cell_id = 16;\n",
       "                var nbb_unformatted_code = \"meta\";\n",
       "                var nbb_formatted_code = \"meta\";\n",
       "                var nbb_cells = Jupyter.notebook.get_cells();\n",
       "                for (var i = 0; i < nbb_cells.length; ++i) {\n",
       "                    if (nbb_cells[i].input_prompt_number == nbb_cell_id) {\n",
       "                        if (nbb_cells[i].get_text() == nbb_unformatted_code) {\n",
       "                             nbb_cells[i].set_text(nbb_formatted_code);\n",
       "                        }\n",
       "                        break;\n",
       "                    }\n",
       "                }\n",
       "            }, 500);\n",
       "            "
      ],
      "text/plain": [
       "<IPython.core.display.Javascript object>"
      ]
     },
     "metadata": {},
     "output_type": "display_data"
    }
   ],
   "source": [
    "meta"
   ]
  },
  {
   "cell_type": "code",
   "execution_count": 17,
   "id": "f18d5e8a",
   "metadata": {
    "execution": {
     "iopub.execute_input": "2023-02-28T01:33:01.299613Z",
     "iopub.status.busy": "2023-02-28T01:33:01.298757Z",
     "iopub.status.idle": "2023-02-28T01:33:01.429974Z",
     "shell.execute_reply": "2023-02-28T01:33:01.428651Z"
    },
    "papermill": {
     "duration": 0.149457,
     "end_time": "2023-02-28T01:33:01.433064",
     "exception": false,
     "start_time": "2023-02-28T01:33:01.283607",
     "status": "completed"
    },
    "tags": []
   },
   "outputs": [
    {
     "data": {
      "application/javascript": [
       "\n",
       "            setTimeout(function() {\n",
       "                var nbb_cell_id = 17;\n",
       "                var nbb_unformatted_code = \"train_with_meta = train.merge(\\n    pd.DataFrame(combined_meta).T.reset_index().rename(columns={'index':'path'}),\\n    how='left'\\n)\";\n",
       "                var nbb_formatted_code = \"train_with_meta = train.merge(\\n    pd.DataFrame(combined_meta).T.reset_index().rename(columns={\\\"index\\\": \\\"path\\\"}),\\n    how=\\\"left\\\",\\n)\";\n",
       "                var nbb_cells = Jupyter.notebook.get_cells();\n",
       "                for (var i = 0; i < nbb_cells.length; ++i) {\n",
       "                    if (nbb_cells[i].input_prompt_number == nbb_cell_id) {\n",
       "                        if (nbb_cells[i].get_text() == nbb_unformatted_code) {\n",
       "                             nbb_cells[i].set_text(nbb_formatted_code);\n",
       "                        }\n",
       "                        break;\n",
       "                    }\n",
       "                }\n",
       "            }, 500);\n",
       "            "
      ],
      "text/plain": [
       "<IPython.core.display.Javascript object>"
      ]
     },
     "metadata": {},
     "output_type": "display_data"
    }
   ],
   "source": [
    "train_with_meta = train.merge(\n",
    "    pd.DataFrame(combined_meta).T.reset_index().rename(columns={'index':'path'}),\n",
    "    how='left'\n",
    ")"
   ]
  },
  {
   "cell_type": "code",
   "execution_count": 18,
   "id": "fc6bb8ab",
   "metadata": {
    "execution": {
     "iopub.execute_input": "2023-02-28T01:33:01.461471Z",
     "iopub.status.busy": "2023-02-28T01:33:01.461033Z",
     "iopub.status.idle": "2023-02-28T01:33:01.496707Z",
     "shell.execute_reply": "2023-02-28T01:33:01.495320Z"
    },
    "papermill": {
     "duration": 0.053108,
     "end_time": "2023-02-28T01:33:01.499390",
     "exception": false,
     "start_time": "2023-02-28T01:33:01.446282",
     "status": "completed"
    },
    "tags": []
   },
   "outputs": [
    {
     "data": {
      "text/html": [
       "<div>\n",
       "<style scoped>\n",
       "    .dataframe tbody tr th:only-of-type {\n",
       "        vertical-align: middle;\n",
       "    }\n",
       "\n",
       "    .dataframe tbody tr th {\n",
       "        vertical-align: top;\n",
       "    }\n",
       "\n",
       "    .dataframe thead th {\n",
       "        text-align: right;\n",
       "    }\n",
       "</style>\n",
       "<table border=\"1\" class=\"dataframe\">\n",
       "  <thead>\n",
       "    <tr style=\"text-align: right;\">\n",
       "      <th></th>\n",
       "      <th>path</th>\n",
       "      <th>participant_id</th>\n",
       "      <th>sequence_id</th>\n",
       "      <th>sign</th>\n",
       "      <th>face</th>\n",
       "      <th>pose</th>\n",
       "      <th>left_hand</th>\n",
       "      <th>right_hand</th>\n",
       "      <th>frame</th>\n",
       "      <th>x_min</th>\n",
       "      <th>x_max</th>\n",
       "      <th>x_mean</th>\n",
       "      <th>y_min</th>\n",
       "      <th>y_max</th>\n",
       "      <th>y_mean</th>\n",
       "      <th>z_min</th>\n",
       "      <th>z_max</th>\n",
       "      <th>z_mean</th>\n",
       "    </tr>\n",
       "  </thead>\n",
       "  <tbody>\n",
       "    <tr>\n",
       "      <th>0</th>\n",
       "      <td>train_landmark_files/26734/1000035562.parquet</td>\n",
       "      <td>26734</td>\n",
       "      <td>1000035562</td>\n",
       "      <td>blow</td>\n",
       "      <td>10764.0</td>\n",
       "      <td>759.0</td>\n",
       "      <td>483.0</td>\n",
       "      <td>483.0</td>\n",
       "      <td>23.0</td>\n",
       "      <td>-0.031811</td>\n",
       "      <td>1.294350</td>\n",
       "      <td>0.536739</td>\n",
       "      <td>0.224151</td>\n",
       "      <td>2.147826</td>\n",
       "      <td>0.383747</td>\n",
       "      <td>-2.782624</td>\n",
       "      <td>1.910815</td>\n",
       "      <td>-0.035692</td>\n",
       "    </tr>\n",
       "    <tr>\n",
       "      <th>1</th>\n",
       "      <td>train_landmark_files/28656/1000106739.parquet</td>\n",
       "      <td>28656</td>\n",
       "      <td>1000106739</td>\n",
       "      <td>wait</td>\n",
       "      <td>5148.0</td>\n",
       "      <td>363.0</td>\n",
       "      <td>231.0</td>\n",
       "      <td>231.0</td>\n",
       "      <td>11.0</td>\n",
       "      <td>-0.017062</td>\n",
       "      <td>1.015931</td>\n",
       "      <td>0.554794</td>\n",
       "      <td>0.329273</td>\n",
       "      <td>2.222732</td>\n",
       "      <td>0.504912</td>\n",
       "      <td>-2.543970</td>\n",
       "      <td>1.627621</td>\n",
       "      <td>-0.040662</td>\n",
       "    </tr>\n",
       "    <tr>\n",
       "      <th>2</th>\n",
       "      <td>train_landmark_files/16069/100015657.parquet</td>\n",
       "      <td>16069</td>\n",
       "      <td>100015657</td>\n",
       "      <td>cloud</td>\n",
       "      <td>49140.0</td>\n",
       "      <td>3465.0</td>\n",
       "      <td>2205.0</td>\n",
       "      <td>2205.0</td>\n",
       "      <td>105.0</td>\n",
       "      <td>-0.042923</td>\n",
       "      <td>1.197836</td>\n",
       "      <td>0.438283</td>\n",
       "      <td>0.248094</td>\n",
       "      <td>2.591290</td>\n",
       "      <td>0.457483</td>\n",
       "      <td>-2.838325</td>\n",
       "      <td>1.587503</td>\n",
       "      <td>-0.047699</td>\n",
       "    </tr>\n",
       "    <tr>\n",
       "      <th>3</th>\n",
       "      <td>train_landmark_files/25571/1000210073.parquet</td>\n",
       "      <td>25571</td>\n",
       "      <td>1000210073</td>\n",
       "      <td>bird</td>\n",
       "      <td>5616.0</td>\n",
       "      <td>396.0</td>\n",
       "      <td>252.0</td>\n",
       "      <td>252.0</td>\n",
       "      <td>12.0</td>\n",
       "      <td>-0.129268</td>\n",
       "      <td>1.156573</td>\n",
       "      <td>0.478509</td>\n",
       "      <td>0.310272</td>\n",
       "      <td>2.294936</td>\n",
       "      <td>0.503025</td>\n",
       "      <td>-3.018237</td>\n",
       "      <td>2.196296</td>\n",
       "      <td>-0.044505</td>\n",
       "    </tr>\n",
       "    <tr>\n",
       "      <th>4</th>\n",
       "      <td>train_landmark_files/62590/1000240708.parquet</td>\n",
       "      <td>62590</td>\n",
       "      <td>1000240708</td>\n",
       "      <td>owie</td>\n",
       "      <td>8424.0</td>\n",
       "      <td>594.0</td>\n",
       "      <td>378.0</td>\n",
       "      <td>378.0</td>\n",
       "      <td>18.0</td>\n",
       "      <td>0.072425</td>\n",
       "      <td>1.165405</td>\n",
       "      <td>0.488842</td>\n",
       "      <td>0.405282</td>\n",
       "      <td>2.264609</td>\n",
       "      <td>0.545811</td>\n",
       "      <td>-2.970331</td>\n",
       "      <td>1.360011</td>\n",
       "      <td>-0.054411</td>\n",
       "    </tr>\n",
       "    <tr>\n",
       "      <th>...</th>\n",
       "      <td>...</td>\n",
       "      <td>...</td>\n",
       "      <td>...</td>\n",
       "      <td>...</td>\n",
       "      <td>...</td>\n",
       "      <td>...</td>\n",
       "      <td>...</td>\n",
       "      <td>...</td>\n",
       "      <td>...</td>\n",
       "      <td>...</td>\n",
       "      <td>...</td>\n",
       "      <td>...</td>\n",
       "      <td>...</td>\n",
       "      <td>...</td>\n",
       "      <td>...</td>\n",
       "      <td>...</td>\n",
       "      <td>...</td>\n",
       "      <td>...</td>\n",
       "    </tr>\n",
       "    <tr>\n",
       "      <th>94472</th>\n",
       "      <td>train_landmark_files/53618/999786174.parquet</td>\n",
       "      <td>53618</td>\n",
       "      <td>999786174</td>\n",
       "      <td>white</td>\n",
       "      <td>NaN</td>\n",
       "      <td>NaN</td>\n",
       "      <td>NaN</td>\n",
       "      <td>NaN</td>\n",
       "      <td>NaN</td>\n",
       "      <td>NaN</td>\n",
       "      <td>NaN</td>\n",
       "      <td>NaN</td>\n",
       "      <td>NaN</td>\n",
       "      <td>NaN</td>\n",
       "      <td>NaN</td>\n",
       "      <td>NaN</td>\n",
       "      <td>NaN</td>\n",
       "      <td>NaN</td>\n",
       "    </tr>\n",
       "    <tr>\n",
       "      <th>94473</th>\n",
       "      <td>train_landmark_files/26734/999799849.parquet</td>\n",
       "      <td>26734</td>\n",
       "      <td>999799849</td>\n",
       "      <td>have</td>\n",
       "      <td>NaN</td>\n",
       "      <td>NaN</td>\n",
       "      <td>NaN</td>\n",
       "      <td>NaN</td>\n",
       "      <td>NaN</td>\n",
       "      <td>NaN</td>\n",
       "      <td>NaN</td>\n",
       "      <td>NaN</td>\n",
       "      <td>NaN</td>\n",
       "      <td>NaN</td>\n",
       "      <td>NaN</td>\n",
       "      <td>NaN</td>\n",
       "      <td>NaN</td>\n",
       "      <td>NaN</td>\n",
       "    </tr>\n",
       "    <tr>\n",
       "      <th>94474</th>\n",
       "      <td>train_landmark_files/25571/999833418.parquet</td>\n",
       "      <td>25571</td>\n",
       "      <td>999833418</td>\n",
       "      <td>flower</td>\n",
       "      <td>NaN</td>\n",
       "      <td>NaN</td>\n",
       "      <td>NaN</td>\n",
       "      <td>NaN</td>\n",
       "      <td>NaN</td>\n",
       "      <td>NaN</td>\n",
       "      <td>NaN</td>\n",
       "      <td>NaN</td>\n",
       "      <td>NaN</td>\n",
       "      <td>NaN</td>\n",
       "      <td>NaN</td>\n",
       "      <td>NaN</td>\n",
       "      <td>NaN</td>\n",
       "      <td>NaN</td>\n",
       "    </tr>\n",
       "    <tr>\n",
       "      <th>94475</th>\n",
       "      <td>train_landmark_files/29302/999895257.parquet</td>\n",
       "      <td>29302</td>\n",
       "      <td>999895257</td>\n",
       "      <td>room</td>\n",
       "      <td>NaN</td>\n",
       "      <td>NaN</td>\n",
       "      <td>NaN</td>\n",
       "      <td>NaN</td>\n",
       "      <td>NaN</td>\n",
       "      <td>NaN</td>\n",
       "      <td>NaN</td>\n",
       "      <td>NaN</td>\n",
       "      <td>NaN</td>\n",
       "      <td>NaN</td>\n",
       "      <td>NaN</td>\n",
       "      <td>NaN</td>\n",
       "      <td>NaN</td>\n",
       "      <td>NaN</td>\n",
       "    </tr>\n",
       "    <tr>\n",
       "      <th>94476</th>\n",
       "      <td>train_landmark_files/36257/999962374.parquet</td>\n",
       "      <td>36257</td>\n",
       "      <td>999962374</td>\n",
       "      <td>happy</td>\n",
       "      <td>NaN</td>\n",
       "      <td>NaN</td>\n",
       "      <td>NaN</td>\n",
       "      <td>NaN</td>\n",
       "      <td>NaN</td>\n",
       "      <td>NaN</td>\n",
       "      <td>NaN</td>\n",
       "      <td>NaN</td>\n",
       "      <td>NaN</td>\n",
       "      <td>NaN</td>\n",
       "      <td>NaN</td>\n",
       "      <td>NaN</td>\n",
       "      <td>NaN</td>\n",
       "      <td>NaN</td>\n",
       "    </tr>\n",
       "  </tbody>\n",
       "</table>\n",
       "<p>94477 rows × 18 columns</p>\n",
       "</div>"
      ],
      "text/plain": [
       "                                                path  participant_id  \\\n",
       "0      train_landmark_files/26734/1000035562.parquet           26734   \n",
       "1      train_landmark_files/28656/1000106739.parquet           28656   \n",
       "2       train_landmark_files/16069/100015657.parquet           16069   \n",
       "3      train_landmark_files/25571/1000210073.parquet           25571   \n",
       "4      train_landmark_files/62590/1000240708.parquet           62590   \n",
       "...                                              ...             ...   \n",
       "94472   train_landmark_files/53618/999786174.parquet           53618   \n",
       "94473   train_landmark_files/26734/999799849.parquet           26734   \n",
       "94474   train_landmark_files/25571/999833418.parquet           25571   \n",
       "94475   train_landmark_files/29302/999895257.parquet           29302   \n",
       "94476   train_landmark_files/36257/999962374.parquet           36257   \n",
       "\n",
       "       sequence_id    sign     face    pose  left_hand  right_hand  frame  \\\n",
       "0       1000035562    blow  10764.0   759.0      483.0       483.0   23.0   \n",
       "1       1000106739    wait   5148.0   363.0      231.0       231.0   11.0   \n",
       "2        100015657   cloud  49140.0  3465.0     2205.0      2205.0  105.0   \n",
       "3       1000210073    bird   5616.0   396.0      252.0       252.0   12.0   \n",
       "4       1000240708    owie   8424.0   594.0      378.0       378.0   18.0   \n",
       "...            ...     ...      ...     ...        ...         ...    ...   \n",
       "94472    999786174   white      NaN     NaN        NaN         NaN    NaN   \n",
       "94473    999799849    have      NaN     NaN        NaN         NaN    NaN   \n",
       "94474    999833418  flower      NaN     NaN        NaN         NaN    NaN   \n",
       "94475    999895257    room      NaN     NaN        NaN         NaN    NaN   \n",
       "94476    999962374   happy      NaN     NaN        NaN         NaN    NaN   \n",
       "\n",
       "          x_min     x_max    x_mean     y_min     y_max    y_mean     z_min  \\\n",
       "0     -0.031811  1.294350  0.536739  0.224151  2.147826  0.383747 -2.782624   \n",
       "1     -0.017062  1.015931  0.554794  0.329273  2.222732  0.504912 -2.543970   \n",
       "2     -0.042923  1.197836  0.438283  0.248094  2.591290  0.457483 -2.838325   \n",
       "3     -0.129268  1.156573  0.478509  0.310272  2.294936  0.503025 -3.018237   \n",
       "4      0.072425  1.165405  0.488842  0.405282  2.264609  0.545811 -2.970331   \n",
       "...         ...       ...       ...       ...       ...       ...       ...   \n",
       "94472       NaN       NaN       NaN       NaN       NaN       NaN       NaN   \n",
       "94473       NaN       NaN       NaN       NaN       NaN       NaN       NaN   \n",
       "94474       NaN       NaN       NaN       NaN       NaN       NaN       NaN   \n",
       "94475       NaN       NaN       NaN       NaN       NaN       NaN       NaN   \n",
       "94476       NaN       NaN       NaN       NaN       NaN       NaN       NaN   \n",
       "\n",
       "          z_max    z_mean  \n",
       "0      1.910815 -0.035692  \n",
       "1      1.627621 -0.040662  \n",
       "2      1.587503 -0.047699  \n",
       "3      2.196296 -0.044505  \n",
       "4      1.360011 -0.054411  \n",
       "...         ...       ...  \n",
       "94472       NaN       NaN  \n",
       "94473       NaN       NaN  \n",
       "94474       NaN       NaN  \n",
       "94475       NaN       NaN  \n",
       "94476       NaN       NaN  \n",
       "\n",
       "[94477 rows x 18 columns]"
      ]
     },
     "execution_count": 18,
     "metadata": {},
     "output_type": "execute_result"
    },
    {
     "data": {
      "application/javascript": [
       "\n",
       "            setTimeout(function() {\n",
       "                var nbb_cell_id = 18;\n",
       "                var nbb_unformatted_code = \"train_with_meta\";\n",
       "                var nbb_formatted_code = \"train_with_meta\";\n",
       "                var nbb_cells = Jupyter.notebook.get_cells();\n",
       "                for (var i = 0; i < nbb_cells.length; ++i) {\n",
       "                    if (nbb_cells[i].input_prompt_number == nbb_cell_id) {\n",
       "                        if (nbb_cells[i].get_text() == nbb_unformatted_code) {\n",
       "                             nbb_cells[i].set_text(nbb_formatted_code);\n",
       "                        }\n",
       "                        break;\n",
       "                    }\n",
       "                }\n",
       "            }, 500);\n",
       "            "
      ],
      "text/plain": [
       "<IPython.core.display.Javascript object>"
      ]
     },
     "metadata": {},
     "output_type": "display_data"
    }
   ],
   "source": [
    "train_with_meta"
   ]
  },
  {
   "cell_type": "code",
   "execution_count": 19,
   "id": "d92d9ea5",
   "metadata": {
    "execution": {
     "iopub.execute_input": "2023-02-28T01:33:01.530087Z",
     "iopub.status.busy": "2023-02-28T01:33:01.529340Z",
     "iopub.status.idle": "2023-02-28T01:33:01.540494Z",
     "shell.execute_reply": "2023-02-28T01:33:01.539184Z"
    },
    "papermill": {
     "duration": 0.029545,
     "end_time": "2023-02-28T01:33:01.543183",
     "exception": false,
     "start_time": "2023-02-28T01:33:01.513638",
     "status": "completed"
    },
    "tags": []
   },
   "outputs": [
    {
     "data": {
      "text/plain": [
       "dict_keys([('x', 'min'), ('x', 'max'), ('x', 'mean'), ('y', 'min'), ('y', 'max'), ('y', 'mean'), ('z', 'min'), ('z', 'max'), ('z', 'mean')])"
      ]
     },
     "execution_count": 19,
     "metadata": {},
     "output_type": "execute_result"
    },
    {
     "data": {
      "application/javascript": [
       "\n",
       "            setTimeout(function() {\n",
       "                var nbb_cell_id = 19;\n",
       "                var nbb_unformatted_code = \"xyz_meta.keys()\";\n",
       "                var nbb_formatted_code = \"xyz_meta.keys()\";\n",
       "                var nbb_cells = Jupyter.notebook.get_cells();\n",
       "                for (var i = 0; i < nbb_cells.length; ++i) {\n",
       "                    if (nbb_cells[i].input_prompt_number == nbb_cell_id) {\n",
       "                        if (nbb_cells[i].get_text() == nbb_unformatted_code) {\n",
       "                             nbb_cells[i].set_text(nbb_formatted_code);\n",
       "                        }\n",
       "                        break;\n",
       "                    }\n",
       "                }\n",
       "            }, 500);\n",
       "            "
      ],
      "text/plain": [
       "<IPython.core.display.Javascript object>"
      ]
     },
     "metadata": {},
     "output_type": "display_data"
    }
   ],
   "source": [
    "xyz_meta.keys()"
   ]
  },
  {
   "cell_type": "code",
   "execution_count": null,
   "id": "3bf41cc2",
   "metadata": {
    "papermill": {
     "duration": 0.013549,
     "end_time": "2023-02-28T01:33:01.570693",
     "exception": false,
     "start_time": "2023-02-28T01:33:01.557144",
     "status": "completed"
    },
    "tags": []
   },
   "outputs": [],
   "source": []
  },
  {
   "cell_type": "code",
   "execution_count": null,
   "id": "16ea62be",
   "metadata": {
    "papermill": {
     "duration": 0.014107,
     "end_time": "2023-02-28T01:33:01.599174",
     "exception": false,
     "start_time": "2023-02-28T01:33:01.585067",
     "status": "completed"
    },
    "tags": []
   },
   "outputs": [],
   "source": []
  },
  {
   "cell_type": "markdown",
   "id": "26bef497",
   "metadata": {
    "_cell_guid": "7babf678-eeff-42f1-b298-bd44771a9bfb",
    "_uuid": "db40681f-9c45-4730-8a0f-bc7a1216b09c",
    "execution": {
     "iopub.execute_input": "2023-02-27T06:39:32.500410Z",
     "iopub.status.busy": "2023-02-27T06:39:32.500038Z",
     "iopub.status.idle": "2023-02-27T06:39:32.509396Z",
     "shell.execute_reply": "2023-02-27T06:39:32.507937Z",
     "shell.execute_reply.started": "2023-02-27T06:39:32.500378Z"
    },
    "papermill": {
     "duration": 0.014334,
     "end_time": "2023-02-28T01:33:01.628685",
     "exception": false,
     "start_time": "2023-02-28T01:33:01.614351",
     "status": "completed"
    },
    "tags": []
   },
   "source": [
    "## EVALUATION \n",
    "\n",
    "\"The evaluation metric for this contest is simple classification accuracy.\""
   ]
  },
  {
   "cell_type": "code",
   "execution_count": null,
   "id": "58910789",
   "metadata": {
    "_cell_guid": "baf78268-8818-4c0c-99a8-f2efaadce134",
    "_uuid": "3596fe94-827a-42c3-a823-255c3cb65d5f",
    "collapsed": false,
    "jupyter": {
     "outputs_hidden": false
    },
    "papermill": {
     "duration": 0.014356,
     "end_time": "2023-02-28T01:33:01.657389",
     "exception": false,
     "start_time": "2023-02-28T01:33:01.643033",
     "status": "completed"
    },
    "tags": []
   },
   "outputs": [],
   "source": []
  }
 ],
 "metadata": {
  "kernelspec": {
   "display_name": "Python 3",
   "language": "python",
   "name": "python3"
  },
  "language_info": {
   "codemirror_mode": {
    "name": "ipython",
    "version": 3
   },
   "file_extension": ".py",
   "mimetype": "text/x-python",
   "name": "python",
   "nbconvert_exporter": "python",
   "pygments_lexer": "ipython3",
   "version": "3.7.12"
  },
  "papermill": {
   "default_parameters": {},
   "duration": 68.629168,
   "end_time": "2023-02-28T01:33:02.595967",
   "environment_variables": {},
   "exception": null,
   "input_path": "__notebook__.ipynb",
   "output_path": "__notebook__.ipynb",
   "parameters": {},
   "start_time": "2023-02-28T01:31:53.966799",
   "version": "2.4.0"
  },
  "widgets": {
   "application/vnd.jupyter.widget-state+json": {
    "state": {
     "1c9db79fb56840a09ca1610a95fad70e": {
      "model_module": "@jupyter-widgets/controls",
      "model_module_version": "1.5.0",
      "model_name": "HTMLModel",
      "state": {
       "_dom_classes": [],
       "_model_module": "@jupyter-widgets/controls",
       "_model_module_version": "1.5.0",
       "_model_name": "HTMLModel",
       "_view_count": null,
       "_view_module": "@jupyter-widgets/controls",
       "_view_module_version": "1.5.0",
       "_view_name": "HTMLView",
       "description": "",
       "description_tooltip": null,
       "layout": "IPY_MODEL_e6459ecb160242f38de3fb95e0ee0924",
       "placeholder": "​",
       "style": "IPY_MODEL_9ced931a8d8745bdb13e6b023a27f526",
       "value": "  1%"
      }
     },
     "3a3fd1da07db4be1b745328c3bf5cc04": {
      "model_module": "@jupyter-widgets/controls",
      "model_module_version": "1.5.0",
      "model_name": "FloatProgressModel",
      "state": {
       "_dom_classes": [],
       "_model_module": "@jupyter-widgets/controls",
       "_model_module_version": "1.5.0",
       "_model_name": "FloatProgressModel",
       "_view_count": null,
       "_view_module": "@jupyter-widgets/controls",
       "_view_module_version": "1.5.0",
       "_view_name": "ProgressView",
       "bar_style": "danger",
       "description": "",
       "description_tooltip": null,
       "layout": "IPY_MODEL_f544f3c0a6244923bee49ff49ace3d90",
       "max": 94477.0,
       "min": 0.0,
       "orientation": "horizontal",
       "style": "IPY_MODEL_f14aa95d397e429aada36c60a4f1d4b9",
       "value": 1000.0
      }
     },
     "4b883caf10db47e3b938a7dd549ecd4f": {
      "model_module": "@jupyter-widgets/controls",
      "model_module_version": "1.5.0",
      "model_name": "DescriptionStyleModel",
      "state": {
       "_model_module": "@jupyter-widgets/controls",
       "_model_module_version": "1.5.0",
       "_model_name": "DescriptionStyleModel",
       "_view_count": null,
       "_view_module": "@jupyter-widgets/base",
       "_view_module_version": "1.2.0",
       "_view_name": "StyleView",
       "description_width": ""
      }
     },
     "50f98a22cb644a508a9eb2ae0f4a4a13": {
      "model_module": "@jupyter-widgets/base",
      "model_module_version": "1.2.0",
      "model_name": "LayoutModel",
      "state": {
       "_model_module": "@jupyter-widgets/base",
       "_model_module_version": "1.2.0",
       "_model_name": "LayoutModel",
       "_view_count": null,
       "_view_module": "@jupyter-widgets/base",
       "_view_module_version": "1.2.0",
       "_view_name": "LayoutView",
       "align_content": null,
       "align_items": null,
       "align_self": null,
       "border": null,
       "bottom": null,
       "display": null,
       "flex": null,
       "flex_flow": null,
       "grid_area": null,
       "grid_auto_columns": null,
       "grid_auto_flow": null,
       "grid_auto_rows": null,
       "grid_column": null,
       "grid_gap": null,
       "grid_row": null,
       "grid_template_areas": null,
       "grid_template_columns": null,
       "grid_template_rows": null,
       "height": null,
       "justify_content": null,
       "justify_items": null,
       "left": null,
       "margin": null,
       "max_height": null,
       "max_width": null,
       "min_height": null,
       "min_width": null,
       "object_fit": null,
       "object_position": null,
       "order": null,
       "overflow": null,
       "overflow_x": null,
       "overflow_y": null,
       "padding": null,
       "right": null,
       "top": null,
       "visibility": null,
       "width": null
      }
     },
     "89289bf3b228495a82c612428350c38a": {
      "model_module": "@jupyter-widgets/controls",
      "model_module_version": "1.5.0",
      "model_name": "HTMLModel",
      "state": {
       "_dom_classes": [],
       "_model_module": "@jupyter-widgets/controls",
       "_model_module_version": "1.5.0",
       "_model_name": "HTMLModel",
       "_view_count": null,
       "_view_module": "@jupyter-widgets/controls",
       "_view_module_version": "1.5.0",
       "_view_name": "HTMLView",
       "description": "",
       "description_tooltip": null,
       "layout": "IPY_MODEL_50f98a22cb644a508a9eb2ae0f4a4a13",
       "placeholder": "​",
       "style": "IPY_MODEL_4b883caf10db47e3b938a7dd549ecd4f",
       "value": " 1000/94477 [00:33&lt;45:29, 34.25it/s]"
      }
     },
     "9ced931a8d8745bdb13e6b023a27f526": {
      "model_module": "@jupyter-widgets/controls",
      "model_module_version": "1.5.0",
      "model_name": "DescriptionStyleModel",
      "state": {
       "_model_module": "@jupyter-widgets/controls",
       "_model_module_version": "1.5.0",
       "_model_name": "DescriptionStyleModel",
       "_view_count": null,
       "_view_module": "@jupyter-widgets/base",
       "_view_module_version": "1.2.0",
       "_view_name": "StyleView",
       "description_width": ""
      }
     },
     "c0528380e5c14221b8fc156054f3a484": {
      "model_module": "@jupyter-widgets/controls",
      "model_module_version": "1.5.0",
      "model_name": "HBoxModel",
      "state": {
       "_dom_classes": [],
       "_model_module": "@jupyter-widgets/controls",
       "_model_module_version": "1.5.0",
       "_model_name": "HBoxModel",
       "_view_count": null,
       "_view_module": "@jupyter-widgets/controls",
       "_view_module_version": "1.5.0",
       "_view_name": "HBoxView",
       "box_style": "",
       "children": [
        "IPY_MODEL_1c9db79fb56840a09ca1610a95fad70e",
        "IPY_MODEL_3a3fd1da07db4be1b745328c3bf5cc04",
        "IPY_MODEL_89289bf3b228495a82c612428350c38a"
       ],
       "layout": "IPY_MODEL_d6f972339baa480abee5969d14c264a5"
      }
     },
     "d6f972339baa480abee5969d14c264a5": {
      "model_module": "@jupyter-widgets/base",
      "model_module_version": "1.2.0",
      "model_name": "LayoutModel",
      "state": {
       "_model_module": "@jupyter-widgets/base",
       "_model_module_version": "1.2.0",
       "_model_name": "LayoutModel",
       "_view_count": null,
       "_view_module": "@jupyter-widgets/base",
       "_view_module_version": "1.2.0",
       "_view_name": "LayoutView",
       "align_content": null,
       "align_items": null,
       "align_self": null,
       "border": null,
       "bottom": null,
       "display": null,
       "flex": null,
       "flex_flow": null,
       "grid_area": null,
       "grid_auto_columns": null,
       "grid_auto_flow": null,
       "grid_auto_rows": null,
       "grid_column": null,
       "grid_gap": null,
       "grid_row": null,
       "grid_template_areas": null,
       "grid_template_columns": null,
       "grid_template_rows": null,
       "height": null,
       "justify_content": null,
       "justify_items": null,
       "left": null,
       "margin": null,
       "max_height": null,
       "max_width": null,
       "min_height": null,
       "min_width": null,
       "object_fit": null,
       "object_position": null,
       "order": null,
       "overflow": null,
       "overflow_x": null,
       "overflow_y": null,
       "padding": null,
       "right": null,
       "top": null,
       "visibility": null,
       "width": null
      }
     },
     "e6459ecb160242f38de3fb95e0ee0924": {
      "model_module": "@jupyter-widgets/base",
      "model_module_version": "1.2.0",
      "model_name": "LayoutModel",
      "state": {
       "_model_module": "@jupyter-widgets/base",
       "_model_module_version": "1.2.0",
       "_model_name": "LayoutModel",
       "_view_count": null,
       "_view_module": "@jupyter-widgets/base",
       "_view_module_version": "1.2.0",
       "_view_name": "LayoutView",
       "align_content": null,
       "align_items": null,
       "align_self": null,
       "border": null,
       "bottom": null,
       "display": null,
       "flex": null,
       "flex_flow": null,
       "grid_area": null,
       "grid_auto_columns": null,
       "grid_auto_flow": null,
       "grid_auto_rows": null,
       "grid_column": null,
       "grid_gap": null,
       "grid_row": null,
       "grid_template_areas": null,
       "grid_template_columns": null,
       "grid_template_rows": null,
       "height": null,
       "justify_content": null,
       "justify_items": null,
       "left": null,
       "margin": null,
       "max_height": null,
       "max_width": null,
       "min_height": null,
       "min_width": null,
       "object_fit": null,
       "object_position": null,
       "order": null,
       "overflow": null,
       "overflow_x": null,
       "overflow_y": null,
       "padding": null,
       "right": null,
       "top": null,
       "visibility": null,
       "width": null
      }
     },
     "f14aa95d397e429aada36c60a4f1d4b9": {
      "model_module": "@jupyter-widgets/controls",
      "model_module_version": "1.5.0",
      "model_name": "ProgressStyleModel",
      "state": {
       "_model_module": "@jupyter-widgets/controls",
       "_model_module_version": "1.5.0",
       "_model_name": "ProgressStyleModel",
       "_view_count": null,
       "_view_module": "@jupyter-widgets/base",
       "_view_module_version": "1.2.0",
       "_view_name": "StyleView",
       "bar_color": null,
       "description_width": ""
      }
     },
     "f544f3c0a6244923bee49ff49ace3d90": {
      "model_module": "@jupyter-widgets/base",
      "model_module_version": "1.2.0",
      "model_name": "LayoutModel",
      "state": {
       "_model_module": "@jupyter-widgets/base",
       "_model_module_version": "1.2.0",
       "_model_name": "LayoutModel",
       "_view_count": null,
       "_view_module": "@jupyter-widgets/base",
       "_view_module_version": "1.2.0",
       "_view_name": "LayoutView",
       "align_content": null,
       "align_items": null,
       "align_self": null,
       "border": null,
       "bottom": null,
       "display": null,
       "flex": null,
       "flex_flow": null,
       "grid_area": null,
       "grid_auto_columns": null,
       "grid_auto_flow": null,
       "grid_auto_rows": null,
       "grid_column": null,
       "grid_gap": null,
       "grid_row": null,
       "grid_template_areas": null,
       "grid_template_columns": null,
       "grid_template_rows": null,
       "height": null,
       "justify_content": null,
       "justify_items": null,
       "left": null,
       "margin": null,
       "max_height": null,
       "max_width": null,
       "min_height": null,
       "min_width": null,
       "object_fit": null,
       "object_position": null,
       "order": null,
       "overflow": null,
       "overflow_x": null,
       "overflow_y": null,
       "padding": null,
       "right": null,
       "top": null,
       "visibility": null,
       "width": null
      }
     }
    },
    "version_major": 2,
    "version_minor": 0
   }
  }
 },
 "nbformat": 4,
 "nbformat_minor": 5
}
